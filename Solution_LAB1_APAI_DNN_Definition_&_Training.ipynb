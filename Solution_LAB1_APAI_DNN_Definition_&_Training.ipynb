{
  "nbformat": 4,
  "nbformat_minor": 0,
  "metadata": {
    "accelerator": "GPU",
    "colab": {
      "name": "Solution LAB1 APAI: DNN Definition & Training",
      "provenance": [],
      "collapsed_sections": [
        "czMkBFSH9ZUH"
      ],
      "toc_visible": true,
      "include_colab_link": true
    },
    "kernelspec": {
      "display_name": "Python 3",
      "name": "python3"
    },
    "language_info": {
      "codemirror_mode": {
        "name": "ipython",
        "version": 3
      },
      "file_extension": ".py",
      "mimetype": "text/x-python",
      "name": "python",
      "nbconvert_exporter": "python",
      "pygments_lexer": "ipython3",
      "version": "3.9.7"
    },
    "widgets": {
      "application/vnd.jupyter.widget-state+json": {
        "2cfed226f8c94d758ee6681c56e51b0e": {
          "model_module": "@jupyter-widgets/controls",
          "model_name": "HBoxModel",
          "model_module_version": "1.5.0",
          "state": {
            "_view_name": "HBoxView",
            "_dom_classes": [],
            "_model_name": "HBoxModel",
            "_view_module": "@jupyter-widgets/controls",
            "_model_module_version": "1.5.0",
            "_view_count": null,
            "_view_module_version": "1.5.0",
            "box_style": "",
            "layout": "IPY_MODEL_0b1fbac74a5947b0a3ee1e5b5dac17dc",
            "_model_module": "@jupyter-widgets/controls",
            "children": [
              "IPY_MODEL_b72c87fe405949e39b8caa659968cd78",
              "IPY_MODEL_a245794a9f514cf787c850fa82ead57f",
              "IPY_MODEL_1a6710b0d53e482e892113234ccc75bf"
            ]
          }
        },
        "0b1fbac74a5947b0a3ee1e5b5dac17dc": {
          "model_module": "@jupyter-widgets/base",
          "model_name": "LayoutModel",
          "model_module_version": "1.2.0",
          "state": {
            "_view_name": "LayoutView",
            "grid_template_rows": null,
            "right": null,
            "justify_content": null,
            "_view_module": "@jupyter-widgets/base",
            "overflow": null,
            "_model_module_version": "1.2.0",
            "_view_count": null,
            "flex_flow": null,
            "width": null,
            "min_width": null,
            "border": null,
            "align_items": null,
            "bottom": null,
            "_model_module": "@jupyter-widgets/base",
            "top": null,
            "grid_column": null,
            "overflow_y": null,
            "overflow_x": null,
            "grid_auto_flow": null,
            "grid_area": null,
            "grid_template_columns": null,
            "flex": null,
            "_model_name": "LayoutModel",
            "justify_items": null,
            "grid_row": null,
            "max_height": null,
            "align_content": null,
            "visibility": null,
            "align_self": null,
            "height": null,
            "min_height": null,
            "padding": null,
            "grid_auto_rows": null,
            "grid_gap": null,
            "max_width": null,
            "order": null,
            "_view_module_version": "1.2.0",
            "grid_template_areas": null,
            "object_position": null,
            "object_fit": null,
            "grid_auto_columns": null,
            "margin": null,
            "display": null,
            "left": null
          }
        },
        "b72c87fe405949e39b8caa659968cd78": {
          "model_module": "@jupyter-widgets/controls",
          "model_name": "HTMLModel",
          "model_module_version": "1.5.0",
          "state": {
            "_view_name": "HTMLView",
            "style": "IPY_MODEL_7093c7e82843440ea94fa4b67964252b",
            "_dom_classes": [],
            "description": "",
            "_model_name": "HTMLModel",
            "placeholder": "​",
            "_view_module": "@jupyter-widgets/controls",
            "_model_module_version": "1.5.0",
            "value": "Training Loss: 0.4208, Accuracy: 0.8503: 100%",
            "_view_count": null,
            "_view_module_version": "1.5.0",
            "description_tooltip": null,
            "_model_module": "@jupyter-widgets/controls",
            "layout": "IPY_MODEL_0a61ebbebbd245edbd90a9b41e4b657a"
          }
        },
        "a245794a9f514cf787c850fa82ead57f": {
          "model_module": "@jupyter-widgets/controls",
          "model_name": "FloatProgressModel",
          "model_module_version": "1.5.0",
          "state": {
            "_view_name": "ProgressView",
            "style": "IPY_MODEL_3f87d6edc81a4cd9aec17b975c544b36",
            "_dom_classes": [],
            "description": "",
            "_model_name": "FloatProgressModel",
            "bar_style": "success",
            "max": 469,
            "_view_module": "@jupyter-widgets/controls",
            "_model_module_version": "1.5.0",
            "value": 469,
            "_view_count": null,
            "_view_module_version": "1.5.0",
            "orientation": "horizontal",
            "min": 0,
            "description_tooltip": null,
            "_model_module": "@jupyter-widgets/controls",
            "layout": "IPY_MODEL_9cfbe074cc504175aa311c09fb1ca146"
          }
        },
        "1a6710b0d53e482e892113234ccc75bf": {
          "model_module": "@jupyter-widgets/controls",
          "model_name": "HTMLModel",
          "model_module_version": "1.5.0",
          "state": {
            "_view_name": "HTMLView",
            "style": "IPY_MODEL_4066d151e3a24263bd3405d0f5452931",
            "_dom_classes": [],
            "description": "",
            "_model_name": "HTMLModel",
            "placeholder": "​",
            "_view_module": "@jupyter-widgets/controls",
            "_model_module_version": "1.5.0",
            "value": " 469/469 [00:29&lt;00:00, 16.80it/s]",
            "_view_count": null,
            "_view_module_version": "1.5.0",
            "description_tooltip": null,
            "_model_module": "@jupyter-widgets/controls",
            "layout": "IPY_MODEL_a955c63954014a1cab8bd32466b3d238"
          }
        },
        "7093c7e82843440ea94fa4b67964252b": {
          "model_module": "@jupyter-widgets/controls",
          "model_name": "DescriptionStyleModel",
          "model_module_version": "1.5.0",
          "state": {
            "_view_name": "StyleView",
            "_model_name": "DescriptionStyleModel",
            "description_width": "",
            "_view_module": "@jupyter-widgets/base",
            "_model_module_version": "1.5.0",
            "_view_count": null,
            "_view_module_version": "1.2.0",
            "_model_module": "@jupyter-widgets/controls"
          }
        },
        "0a61ebbebbd245edbd90a9b41e4b657a": {
          "model_module": "@jupyter-widgets/base",
          "model_name": "LayoutModel",
          "model_module_version": "1.2.0",
          "state": {
            "_view_name": "LayoutView",
            "grid_template_rows": null,
            "right": null,
            "justify_content": null,
            "_view_module": "@jupyter-widgets/base",
            "overflow": null,
            "_model_module_version": "1.2.0",
            "_view_count": null,
            "flex_flow": null,
            "width": null,
            "min_width": null,
            "border": null,
            "align_items": null,
            "bottom": null,
            "_model_module": "@jupyter-widgets/base",
            "top": null,
            "grid_column": null,
            "overflow_y": null,
            "overflow_x": null,
            "grid_auto_flow": null,
            "grid_area": null,
            "grid_template_columns": null,
            "flex": null,
            "_model_name": "LayoutModel",
            "justify_items": null,
            "grid_row": null,
            "max_height": null,
            "align_content": null,
            "visibility": null,
            "align_self": null,
            "height": null,
            "min_height": null,
            "padding": null,
            "grid_auto_rows": null,
            "grid_gap": null,
            "max_width": null,
            "order": null,
            "_view_module_version": "1.2.0",
            "grid_template_areas": null,
            "object_position": null,
            "object_fit": null,
            "grid_auto_columns": null,
            "margin": null,
            "display": null,
            "left": null
          }
        },
        "3f87d6edc81a4cd9aec17b975c544b36": {
          "model_module": "@jupyter-widgets/controls",
          "model_name": "ProgressStyleModel",
          "model_module_version": "1.5.0",
          "state": {
            "_view_name": "StyleView",
            "_model_name": "ProgressStyleModel",
            "description_width": "",
            "_view_module": "@jupyter-widgets/base",
            "_model_module_version": "1.5.0",
            "_view_count": null,
            "_view_module_version": "1.2.0",
            "bar_color": null,
            "_model_module": "@jupyter-widgets/controls"
          }
        },
        "9cfbe074cc504175aa311c09fb1ca146": {
          "model_module": "@jupyter-widgets/base",
          "model_name": "LayoutModel",
          "model_module_version": "1.2.0",
          "state": {
            "_view_name": "LayoutView",
            "grid_template_rows": null,
            "right": null,
            "justify_content": null,
            "_view_module": "@jupyter-widgets/base",
            "overflow": null,
            "_model_module_version": "1.2.0",
            "_view_count": null,
            "flex_flow": null,
            "width": null,
            "min_width": null,
            "border": null,
            "align_items": null,
            "bottom": null,
            "_model_module": "@jupyter-widgets/base",
            "top": null,
            "grid_column": null,
            "overflow_y": null,
            "overflow_x": null,
            "grid_auto_flow": null,
            "grid_area": null,
            "grid_template_columns": null,
            "flex": null,
            "_model_name": "LayoutModel",
            "justify_items": null,
            "grid_row": null,
            "max_height": null,
            "align_content": null,
            "visibility": null,
            "align_self": null,
            "height": null,
            "min_height": null,
            "padding": null,
            "grid_auto_rows": null,
            "grid_gap": null,
            "max_width": null,
            "order": null,
            "_view_module_version": "1.2.0",
            "grid_template_areas": null,
            "object_position": null,
            "object_fit": null,
            "grid_auto_columns": null,
            "margin": null,
            "display": null,
            "left": null
          }
        },
        "4066d151e3a24263bd3405d0f5452931": {
          "model_module": "@jupyter-widgets/controls",
          "model_name": "DescriptionStyleModel",
          "model_module_version": "1.5.0",
          "state": {
            "_view_name": "StyleView",
            "_model_name": "DescriptionStyleModel",
            "description_width": "",
            "_view_module": "@jupyter-widgets/base",
            "_model_module_version": "1.5.0",
            "_view_count": null,
            "_view_module_version": "1.2.0",
            "_model_module": "@jupyter-widgets/controls"
          }
        },
        "a955c63954014a1cab8bd32466b3d238": {
          "model_module": "@jupyter-widgets/base",
          "model_name": "LayoutModel",
          "model_module_version": "1.2.0",
          "state": {
            "_view_name": "LayoutView",
            "grid_template_rows": null,
            "right": null,
            "justify_content": null,
            "_view_module": "@jupyter-widgets/base",
            "overflow": null,
            "_model_module_version": "1.2.0",
            "_view_count": null,
            "flex_flow": null,
            "width": null,
            "min_width": null,
            "border": null,
            "align_items": null,
            "bottom": null,
            "_model_module": "@jupyter-widgets/base",
            "top": null,
            "grid_column": null,
            "overflow_y": null,
            "overflow_x": null,
            "grid_auto_flow": null,
            "grid_area": null,
            "grid_template_columns": null,
            "flex": null,
            "_model_name": "LayoutModel",
            "justify_items": null,
            "grid_row": null,
            "max_height": null,
            "align_content": null,
            "visibility": null,
            "align_self": null,
            "height": null,
            "min_height": null,
            "padding": null,
            "grid_auto_rows": null,
            "grid_gap": null,
            "max_width": null,
            "order": null,
            "_view_module_version": "1.2.0",
            "grid_template_areas": null,
            "object_position": null,
            "object_fit": null,
            "grid_auto_columns": null,
            "margin": null,
            "display": null,
            "left": null
          }
        },
        "a8eb911af4f847b384ec3a31d47947a4": {
          "model_module": "@jupyter-widgets/controls",
          "model_name": "HBoxModel",
          "model_module_version": "1.5.0",
          "state": {
            "_view_name": "HBoxView",
            "_dom_classes": [],
            "_model_name": "HBoxModel",
            "_view_module": "@jupyter-widgets/controls",
            "_model_module_version": "1.5.0",
            "_view_count": null,
            "_view_module_version": "1.5.0",
            "box_style": "",
            "layout": "IPY_MODEL_0225f6e837504bf5a5946216cb1c49f8",
            "_model_module": "@jupyter-widgets/controls",
            "children": [
              "IPY_MODEL_7aeb73706dbe48d7ae73dca911512740",
              "IPY_MODEL_b3e9a4a2f3e044f195a3feb4bc38e47f",
              "IPY_MODEL_227e8cd3ebf24c6298cec8747615c67f"
            ]
          }
        },
        "0225f6e837504bf5a5946216cb1c49f8": {
          "model_module": "@jupyter-widgets/base",
          "model_name": "LayoutModel",
          "model_module_version": "1.2.0",
          "state": {
            "_view_name": "LayoutView",
            "grid_template_rows": null,
            "right": null,
            "justify_content": null,
            "_view_module": "@jupyter-widgets/base",
            "overflow": null,
            "_model_module_version": "1.2.0",
            "_view_count": null,
            "flex_flow": null,
            "width": null,
            "min_width": null,
            "border": null,
            "align_items": null,
            "bottom": null,
            "_model_module": "@jupyter-widgets/base",
            "top": null,
            "grid_column": null,
            "overflow_y": null,
            "overflow_x": null,
            "grid_auto_flow": null,
            "grid_area": null,
            "grid_template_columns": null,
            "flex": null,
            "_model_name": "LayoutModel",
            "justify_items": null,
            "grid_row": null,
            "max_height": null,
            "align_content": null,
            "visibility": null,
            "align_self": null,
            "height": null,
            "min_height": null,
            "padding": null,
            "grid_auto_rows": null,
            "grid_gap": null,
            "max_width": null,
            "order": null,
            "_view_module_version": "1.2.0",
            "grid_template_areas": null,
            "object_position": null,
            "object_fit": null,
            "grid_auto_columns": null,
            "margin": null,
            "display": null,
            "left": null
          }
        },
        "7aeb73706dbe48d7ae73dca911512740": {
          "model_module": "@jupyter-widgets/controls",
          "model_name": "HTMLModel",
          "model_module_version": "1.5.0",
          "state": {
            "_view_name": "HTMLView",
            "style": "IPY_MODEL_a7d6baf6a1504888bce63b16beb60196",
            "_dom_classes": [],
            "description": "",
            "_model_name": "HTMLModel",
            "placeholder": "​",
            "_view_module": "@jupyter-widgets/controls",
            "_model_module_version": "1.5.0",
            "value": "Training Loss: 0.2813, Accuracy: 0.8979: 100%",
            "_view_count": null,
            "_view_module_version": "1.5.0",
            "description_tooltip": null,
            "_model_module": "@jupyter-widgets/controls",
            "layout": "IPY_MODEL_17c86610a6604c3bb37fe9ab3806aff1"
          }
        },
        "b3e9a4a2f3e044f195a3feb4bc38e47f": {
          "model_module": "@jupyter-widgets/controls",
          "model_name": "FloatProgressModel",
          "model_module_version": "1.5.0",
          "state": {
            "_view_name": "ProgressView",
            "style": "IPY_MODEL_ff67004e74194f1fb4bb5e1a01db1465",
            "_dom_classes": [],
            "description": "",
            "_model_name": "FloatProgressModel",
            "bar_style": "success",
            "max": 469,
            "_view_module": "@jupyter-widgets/controls",
            "_model_module_version": "1.5.0",
            "value": 469,
            "_view_count": null,
            "_view_module_version": "1.5.0",
            "orientation": "horizontal",
            "min": 0,
            "description_tooltip": null,
            "_model_module": "@jupyter-widgets/controls",
            "layout": "IPY_MODEL_c411327081204eca8dbfb44365dcce7c"
          }
        },
        "227e8cd3ebf24c6298cec8747615c67f": {
          "model_module": "@jupyter-widgets/controls",
          "model_name": "HTMLModel",
          "model_module_version": "1.5.0",
          "state": {
            "_view_name": "HTMLView",
            "style": "IPY_MODEL_0dd07d8c3f704bfca0e4dcf530d9cb73",
            "_dom_classes": [],
            "description": "",
            "_model_name": "HTMLModel",
            "placeholder": "​",
            "_view_module": "@jupyter-widgets/controls",
            "_model_module_version": "1.5.0",
            "value": " 469/469 [00:29&lt;00:00, 16.53it/s]",
            "_view_count": null,
            "_view_module_version": "1.5.0",
            "description_tooltip": null,
            "_model_module": "@jupyter-widgets/controls",
            "layout": "IPY_MODEL_0ce8bb25eab3499788e6017fbed92637"
          }
        },
        "a7d6baf6a1504888bce63b16beb60196": {
          "model_module": "@jupyter-widgets/controls",
          "model_name": "DescriptionStyleModel",
          "model_module_version": "1.5.0",
          "state": {
            "_view_name": "StyleView",
            "_model_name": "DescriptionStyleModel",
            "description_width": "",
            "_view_module": "@jupyter-widgets/base",
            "_model_module_version": "1.5.0",
            "_view_count": null,
            "_view_module_version": "1.2.0",
            "_model_module": "@jupyter-widgets/controls"
          }
        },
        "17c86610a6604c3bb37fe9ab3806aff1": {
          "model_module": "@jupyter-widgets/base",
          "model_name": "LayoutModel",
          "model_module_version": "1.2.0",
          "state": {
            "_view_name": "LayoutView",
            "grid_template_rows": null,
            "right": null,
            "justify_content": null,
            "_view_module": "@jupyter-widgets/base",
            "overflow": null,
            "_model_module_version": "1.2.0",
            "_view_count": null,
            "flex_flow": null,
            "width": null,
            "min_width": null,
            "border": null,
            "align_items": null,
            "bottom": null,
            "_model_module": "@jupyter-widgets/base",
            "top": null,
            "grid_column": null,
            "overflow_y": null,
            "overflow_x": null,
            "grid_auto_flow": null,
            "grid_area": null,
            "grid_template_columns": null,
            "flex": null,
            "_model_name": "LayoutModel",
            "justify_items": null,
            "grid_row": null,
            "max_height": null,
            "align_content": null,
            "visibility": null,
            "align_self": null,
            "height": null,
            "min_height": null,
            "padding": null,
            "grid_auto_rows": null,
            "grid_gap": null,
            "max_width": null,
            "order": null,
            "_view_module_version": "1.2.0",
            "grid_template_areas": null,
            "object_position": null,
            "object_fit": null,
            "grid_auto_columns": null,
            "margin": null,
            "display": null,
            "left": null
          }
        },
        "ff67004e74194f1fb4bb5e1a01db1465": {
          "model_module": "@jupyter-widgets/controls",
          "model_name": "ProgressStyleModel",
          "model_module_version": "1.5.0",
          "state": {
            "_view_name": "StyleView",
            "_model_name": "ProgressStyleModel",
            "description_width": "",
            "_view_module": "@jupyter-widgets/base",
            "_model_module_version": "1.5.0",
            "_view_count": null,
            "_view_module_version": "1.2.0",
            "bar_color": null,
            "_model_module": "@jupyter-widgets/controls"
          }
        },
        "c411327081204eca8dbfb44365dcce7c": {
          "model_module": "@jupyter-widgets/base",
          "model_name": "LayoutModel",
          "model_module_version": "1.2.0",
          "state": {
            "_view_name": "LayoutView",
            "grid_template_rows": null,
            "right": null,
            "justify_content": null,
            "_view_module": "@jupyter-widgets/base",
            "overflow": null,
            "_model_module_version": "1.2.0",
            "_view_count": null,
            "flex_flow": null,
            "width": null,
            "min_width": null,
            "border": null,
            "align_items": null,
            "bottom": null,
            "_model_module": "@jupyter-widgets/base",
            "top": null,
            "grid_column": null,
            "overflow_y": null,
            "overflow_x": null,
            "grid_auto_flow": null,
            "grid_area": null,
            "grid_template_columns": null,
            "flex": null,
            "_model_name": "LayoutModel",
            "justify_items": null,
            "grid_row": null,
            "max_height": null,
            "align_content": null,
            "visibility": null,
            "align_self": null,
            "height": null,
            "min_height": null,
            "padding": null,
            "grid_auto_rows": null,
            "grid_gap": null,
            "max_width": null,
            "order": null,
            "_view_module_version": "1.2.0",
            "grid_template_areas": null,
            "object_position": null,
            "object_fit": null,
            "grid_auto_columns": null,
            "margin": null,
            "display": null,
            "left": null
          }
        },
        "0dd07d8c3f704bfca0e4dcf530d9cb73": {
          "model_module": "@jupyter-widgets/controls",
          "model_name": "DescriptionStyleModel",
          "model_module_version": "1.5.0",
          "state": {
            "_view_name": "StyleView",
            "_model_name": "DescriptionStyleModel",
            "description_width": "",
            "_view_module": "@jupyter-widgets/base",
            "_model_module_version": "1.5.0",
            "_view_count": null,
            "_view_module_version": "1.2.0",
            "_model_module": "@jupyter-widgets/controls"
          }
        },
        "0ce8bb25eab3499788e6017fbed92637": {
          "model_module": "@jupyter-widgets/base",
          "model_name": "LayoutModel",
          "model_module_version": "1.2.0",
          "state": {
            "_view_name": "LayoutView",
            "grid_template_rows": null,
            "right": null,
            "justify_content": null,
            "_view_module": "@jupyter-widgets/base",
            "overflow": null,
            "_model_module_version": "1.2.0",
            "_view_count": null,
            "flex_flow": null,
            "width": null,
            "min_width": null,
            "border": null,
            "align_items": null,
            "bottom": null,
            "_model_module": "@jupyter-widgets/base",
            "top": null,
            "grid_column": null,
            "overflow_y": null,
            "overflow_x": null,
            "grid_auto_flow": null,
            "grid_area": null,
            "grid_template_columns": null,
            "flex": null,
            "_model_name": "LayoutModel",
            "justify_items": null,
            "grid_row": null,
            "max_height": null,
            "align_content": null,
            "visibility": null,
            "align_self": null,
            "height": null,
            "min_height": null,
            "padding": null,
            "grid_auto_rows": null,
            "grid_gap": null,
            "max_width": null,
            "order": null,
            "_view_module_version": "1.2.0",
            "grid_template_areas": null,
            "object_position": null,
            "object_fit": null,
            "grid_auto_columns": null,
            "margin": null,
            "display": null,
            "left": null
          }
        },
        "9b3a582c8a9a4e03b880fb959a4e2815": {
          "model_module": "@jupyter-widgets/controls",
          "model_name": "HBoxModel",
          "model_module_version": "1.5.0",
          "state": {
            "_view_name": "HBoxView",
            "_dom_classes": [],
            "_model_name": "HBoxModel",
            "_view_module": "@jupyter-widgets/controls",
            "_model_module_version": "1.5.0",
            "_view_count": null,
            "_view_module_version": "1.5.0",
            "box_style": "",
            "layout": "IPY_MODEL_7415ce8dcd634218a7561a2e03e1d8d4",
            "_model_module": "@jupyter-widgets/controls",
            "children": [
              "IPY_MODEL_03918ffcfbb543088be6ceaccbddd7f4",
              "IPY_MODEL_941b3d6f46fc4868a8ece91d13bef19d",
              "IPY_MODEL_6d6db0426ae64158942c812b12824eda"
            ]
          }
        },
        "7415ce8dcd634218a7561a2e03e1d8d4": {
          "model_module": "@jupyter-widgets/base",
          "model_name": "LayoutModel",
          "model_module_version": "1.2.0",
          "state": {
            "_view_name": "LayoutView",
            "grid_template_rows": null,
            "right": null,
            "justify_content": null,
            "_view_module": "@jupyter-widgets/base",
            "overflow": null,
            "_model_module_version": "1.2.0",
            "_view_count": null,
            "flex_flow": null,
            "width": null,
            "min_width": null,
            "border": null,
            "align_items": null,
            "bottom": null,
            "_model_module": "@jupyter-widgets/base",
            "top": null,
            "grid_column": null,
            "overflow_y": null,
            "overflow_x": null,
            "grid_auto_flow": null,
            "grid_area": null,
            "grid_template_columns": null,
            "flex": null,
            "_model_name": "LayoutModel",
            "justify_items": null,
            "grid_row": null,
            "max_height": null,
            "align_content": null,
            "visibility": null,
            "align_self": null,
            "height": null,
            "min_height": null,
            "padding": null,
            "grid_auto_rows": null,
            "grid_gap": null,
            "max_width": null,
            "order": null,
            "_view_module_version": "1.2.0",
            "grid_template_areas": null,
            "object_position": null,
            "object_fit": null,
            "grid_auto_columns": null,
            "margin": null,
            "display": null,
            "left": null
          }
        },
        "03918ffcfbb543088be6ceaccbddd7f4": {
          "model_module": "@jupyter-widgets/controls",
          "model_name": "HTMLModel",
          "model_module_version": "1.5.0",
          "state": {
            "_view_name": "HTMLView",
            "style": "IPY_MODEL_51ec73bf831748e48ef49250597da556",
            "_dom_classes": [],
            "description": "",
            "_model_name": "HTMLModel",
            "placeholder": "​",
            "_view_module": "@jupyter-widgets/controls",
            "_model_module_version": "1.5.0",
            "value": "Training Loss: 0.2454, Accuracy: 0.9124: 100%",
            "_view_count": null,
            "_view_module_version": "1.5.0",
            "description_tooltip": null,
            "_model_module": "@jupyter-widgets/controls",
            "layout": "IPY_MODEL_239119552a664fc1a4b31e24fa568b78"
          }
        },
        "941b3d6f46fc4868a8ece91d13bef19d": {
          "model_module": "@jupyter-widgets/controls",
          "model_name": "FloatProgressModel",
          "model_module_version": "1.5.0",
          "state": {
            "_view_name": "ProgressView",
            "style": "IPY_MODEL_09099711f41d45e387c58cf49f86d52a",
            "_dom_classes": [],
            "description": "",
            "_model_name": "FloatProgressModel",
            "bar_style": "success",
            "max": 469,
            "_view_module": "@jupyter-widgets/controls",
            "_model_module_version": "1.5.0",
            "value": 469,
            "_view_count": null,
            "_view_module_version": "1.5.0",
            "orientation": "horizontal",
            "min": 0,
            "description_tooltip": null,
            "_model_module": "@jupyter-widgets/controls",
            "layout": "IPY_MODEL_4329379b1867495d80071536785b3819"
          }
        },
        "6d6db0426ae64158942c812b12824eda": {
          "model_module": "@jupyter-widgets/controls",
          "model_name": "HTMLModel",
          "model_module_version": "1.5.0",
          "state": {
            "_view_name": "HTMLView",
            "style": "IPY_MODEL_15125ca666574c9d94cd33981ac96036",
            "_dom_classes": [],
            "description": "",
            "_model_name": "HTMLModel",
            "placeholder": "​",
            "_view_module": "@jupyter-widgets/controls",
            "_model_module_version": "1.5.0",
            "value": " 469/469 [00:28&lt;00:00, 16.76it/s]",
            "_view_count": null,
            "_view_module_version": "1.5.0",
            "description_tooltip": null,
            "_model_module": "@jupyter-widgets/controls",
            "layout": "IPY_MODEL_10f6945e18f04372b2cab49a9274452b"
          }
        },
        "51ec73bf831748e48ef49250597da556": {
          "model_module": "@jupyter-widgets/controls",
          "model_name": "DescriptionStyleModel",
          "model_module_version": "1.5.0",
          "state": {
            "_view_name": "StyleView",
            "_model_name": "DescriptionStyleModel",
            "description_width": "",
            "_view_module": "@jupyter-widgets/base",
            "_model_module_version": "1.5.0",
            "_view_count": null,
            "_view_module_version": "1.2.0",
            "_model_module": "@jupyter-widgets/controls"
          }
        },
        "239119552a664fc1a4b31e24fa568b78": {
          "model_module": "@jupyter-widgets/base",
          "model_name": "LayoutModel",
          "model_module_version": "1.2.0",
          "state": {
            "_view_name": "LayoutView",
            "grid_template_rows": null,
            "right": null,
            "justify_content": null,
            "_view_module": "@jupyter-widgets/base",
            "overflow": null,
            "_model_module_version": "1.2.0",
            "_view_count": null,
            "flex_flow": null,
            "width": null,
            "min_width": null,
            "border": null,
            "align_items": null,
            "bottom": null,
            "_model_module": "@jupyter-widgets/base",
            "top": null,
            "grid_column": null,
            "overflow_y": null,
            "overflow_x": null,
            "grid_auto_flow": null,
            "grid_area": null,
            "grid_template_columns": null,
            "flex": null,
            "_model_name": "LayoutModel",
            "justify_items": null,
            "grid_row": null,
            "max_height": null,
            "align_content": null,
            "visibility": null,
            "align_self": null,
            "height": null,
            "min_height": null,
            "padding": null,
            "grid_auto_rows": null,
            "grid_gap": null,
            "max_width": null,
            "order": null,
            "_view_module_version": "1.2.0",
            "grid_template_areas": null,
            "object_position": null,
            "object_fit": null,
            "grid_auto_columns": null,
            "margin": null,
            "display": null,
            "left": null
          }
        },
        "09099711f41d45e387c58cf49f86d52a": {
          "model_module": "@jupyter-widgets/controls",
          "model_name": "ProgressStyleModel",
          "model_module_version": "1.5.0",
          "state": {
            "_view_name": "StyleView",
            "_model_name": "ProgressStyleModel",
            "description_width": "",
            "_view_module": "@jupyter-widgets/base",
            "_model_module_version": "1.5.0",
            "_view_count": null,
            "_view_module_version": "1.2.0",
            "bar_color": null,
            "_model_module": "@jupyter-widgets/controls"
          }
        },
        "4329379b1867495d80071536785b3819": {
          "model_module": "@jupyter-widgets/base",
          "model_name": "LayoutModel",
          "model_module_version": "1.2.0",
          "state": {
            "_view_name": "LayoutView",
            "grid_template_rows": null,
            "right": null,
            "justify_content": null,
            "_view_module": "@jupyter-widgets/base",
            "overflow": null,
            "_model_module_version": "1.2.0",
            "_view_count": null,
            "flex_flow": null,
            "width": null,
            "min_width": null,
            "border": null,
            "align_items": null,
            "bottom": null,
            "_model_module": "@jupyter-widgets/base",
            "top": null,
            "grid_column": null,
            "overflow_y": null,
            "overflow_x": null,
            "grid_auto_flow": null,
            "grid_area": null,
            "grid_template_columns": null,
            "flex": null,
            "_model_name": "LayoutModel",
            "justify_items": null,
            "grid_row": null,
            "max_height": null,
            "align_content": null,
            "visibility": null,
            "align_self": null,
            "height": null,
            "min_height": null,
            "padding": null,
            "grid_auto_rows": null,
            "grid_gap": null,
            "max_width": null,
            "order": null,
            "_view_module_version": "1.2.0",
            "grid_template_areas": null,
            "object_position": null,
            "object_fit": null,
            "grid_auto_columns": null,
            "margin": null,
            "display": null,
            "left": null
          }
        },
        "15125ca666574c9d94cd33981ac96036": {
          "model_module": "@jupyter-widgets/controls",
          "model_name": "DescriptionStyleModel",
          "model_module_version": "1.5.0",
          "state": {
            "_view_name": "StyleView",
            "_model_name": "DescriptionStyleModel",
            "description_width": "",
            "_view_module": "@jupyter-widgets/base",
            "_model_module_version": "1.5.0",
            "_view_count": null,
            "_view_module_version": "1.2.0",
            "_model_module": "@jupyter-widgets/controls"
          }
        },
        "10f6945e18f04372b2cab49a9274452b": {
          "model_module": "@jupyter-widgets/base",
          "model_name": "LayoutModel",
          "model_module_version": "1.2.0",
          "state": {
            "_view_name": "LayoutView",
            "grid_template_rows": null,
            "right": null,
            "justify_content": null,
            "_view_module": "@jupyter-widgets/base",
            "overflow": null,
            "_model_module_version": "1.2.0",
            "_view_count": null,
            "flex_flow": null,
            "width": null,
            "min_width": null,
            "border": null,
            "align_items": null,
            "bottom": null,
            "_model_module": "@jupyter-widgets/base",
            "top": null,
            "grid_column": null,
            "overflow_y": null,
            "overflow_x": null,
            "grid_auto_flow": null,
            "grid_area": null,
            "grid_template_columns": null,
            "flex": null,
            "_model_name": "LayoutModel",
            "justify_items": null,
            "grid_row": null,
            "max_height": null,
            "align_content": null,
            "visibility": null,
            "align_self": null,
            "height": null,
            "min_height": null,
            "padding": null,
            "grid_auto_rows": null,
            "grid_gap": null,
            "max_width": null,
            "order": null,
            "_view_module_version": "1.2.0",
            "grid_template_areas": null,
            "object_position": null,
            "object_fit": null,
            "grid_auto_columns": null,
            "margin": null,
            "display": null,
            "left": null
          }
        },
        "ad4ac25487ca42f18758d60efe1bccf6": {
          "model_module": "@jupyter-widgets/controls",
          "model_name": "HBoxModel",
          "model_module_version": "1.5.0",
          "state": {
            "_view_name": "HBoxView",
            "_dom_classes": [],
            "_model_name": "HBoxModel",
            "_view_module": "@jupyter-widgets/controls",
            "_model_module_version": "1.5.0",
            "_view_count": null,
            "_view_module_version": "1.5.0",
            "box_style": "",
            "layout": "IPY_MODEL_9332c797d2444ffdae37897c93b6702c",
            "_model_module": "@jupyter-widgets/controls",
            "children": [
              "IPY_MODEL_8a22715cdc8c407e9ad09c7ccade5bad",
              "IPY_MODEL_b9eaaa8a1b8f4ff5816b6c582c466060",
              "IPY_MODEL_5a8cbac01f064b0bb066b016057e0ae6"
            ]
          }
        },
        "9332c797d2444ffdae37897c93b6702c": {
          "model_module": "@jupyter-widgets/base",
          "model_name": "LayoutModel",
          "model_module_version": "1.2.0",
          "state": {
            "_view_name": "LayoutView",
            "grid_template_rows": null,
            "right": null,
            "justify_content": null,
            "_view_module": "@jupyter-widgets/base",
            "overflow": null,
            "_model_module_version": "1.2.0",
            "_view_count": null,
            "flex_flow": null,
            "width": null,
            "min_width": null,
            "border": null,
            "align_items": null,
            "bottom": null,
            "_model_module": "@jupyter-widgets/base",
            "top": null,
            "grid_column": null,
            "overflow_y": null,
            "overflow_x": null,
            "grid_auto_flow": null,
            "grid_area": null,
            "grid_template_columns": null,
            "flex": null,
            "_model_name": "LayoutModel",
            "justify_items": null,
            "grid_row": null,
            "max_height": null,
            "align_content": null,
            "visibility": null,
            "align_self": null,
            "height": null,
            "min_height": null,
            "padding": null,
            "grid_auto_rows": null,
            "grid_gap": null,
            "max_width": null,
            "order": null,
            "_view_module_version": "1.2.0",
            "grid_template_areas": null,
            "object_position": null,
            "object_fit": null,
            "grid_auto_columns": null,
            "margin": null,
            "display": null,
            "left": null
          }
        },
        "8a22715cdc8c407e9ad09c7ccade5bad": {
          "model_module": "@jupyter-widgets/controls",
          "model_name": "HTMLModel",
          "model_module_version": "1.5.0",
          "state": {
            "_view_name": "HTMLView",
            "style": "IPY_MODEL_fe3c7f27eb054c0b8bc97a0a049eb19a",
            "_dom_classes": [],
            "description": "",
            "_model_name": "HTMLModel",
            "placeholder": "​",
            "_view_module": "@jupyter-widgets/controls",
            "_model_module_version": "1.5.0",
            "value": "Training Loss: 0.2243, Accuracy: 0.9195: 100%",
            "_view_count": null,
            "_view_module_version": "1.5.0",
            "description_tooltip": null,
            "_model_module": "@jupyter-widgets/controls",
            "layout": "IPY_MODEL_93852e262a9c4c4fa22f5c3fa75f07ef"
          }
        },
        "b9eaaa8a1b8f4ff5816b6c582c466060": {
          "model_module": "@jupyter-widgets/controls",
          "model_name": "FloatProgressModel",
          "model_module_version": "1.5.0",
          "state": {
            "_view_name": "ProgressView",
            "style": "IPY_MODEL_74359a8541fe42eaa2be900cec332154",
            "_dom_classes": [],
            "description": "",
            "_model_name": "FloatProgressModel",
            "bar_style": "success",
            "max": 469,
            "_view_module": "@jupyter-widgets/controls",
            "_model_module_version": "1.5.0",
            "value": 469,
            "_view_count": null,
            "_view_module_version": "1.5.0",
            "orientation": "horizontal",
            "min": 0,
            "description_tooltip": null,
            "_model_module": "@jupyter-widgets/controls",
            "layout": "IPY_MODEL_8628152df61d480da7cb9d0bbcf75c10"
          }
        },
        "5a8cbac01f064b0bb066b016057e0ae6": {
          "model_module": "@jupyter-widgets/controls",
          "model_name": "HTMLModel",
          "model_module_version": "1.5.0",
          "state": {
            "_view_name": "HTMLView",
            "style": "IPY_MODEL_7586ccbfacc94875b2c12fe3b63755d0",
            "_dom_classes": [],
            "description": "",
            "_model_name": "HTMLModel",
            "placeholder": "​",
            "_view_module": "@jupyter-widgets/controls",
            "_model_module_version": "1.5.0",
            "value": " 469/469 [00:29&lt;00:00, 16.68it/s]",
            "_view_count": null,
            "_view_module_version": "1.5.0",
            "description_tooltip": null,
            "_model_module": "@jupyter-widgets/controls",
            "layout": "IPY_MODEL_c124b745ad14432187df6ed4b55d53db"
          }
        },
        "fe3c7f27eb054c0b8bc97a0a049eb19a": {
          "model_module": "@jupyter-widgets/controls",
          "model_name": "DescriptionStyleModel",
          "model_module_version": "1.5.0",
          "state": {
            "_view_name": "StyleView",
            "_model_name": "DescriptionStyleModel",
            "description_width": "",
            "_view_module": "@jupyter-widgets/base",
            "_model_module_version": "1.5.0",
            "_view_count": null,
            "_view_module_version": "1.2.0",
            "_model_module": "@jupyter-widgets/controls"
          }
        },
        "93852e262a9c4c4fa22f5c3fa75f07ef": {
          "model_module": "@jupyter-widgets/base",
          "model_name": "LayoutModel",
          "model_module_version": "1.2.0",
          "state": {
            "_view_name": "LayoutView",
            "grid_template_rows": null,
            "right": null,
            "justify_content": null,
            "_view_module": "@jupyter-widgets/base",
            "overflow": null,
            "_model_module_version": "1.2.0",
            "_view_count": null,
            "flex_flow": null,
            "width": null,
            "min_width": null,
            "border": null,
            "align_items": null,
            "bottom": null,
            "_model_module": "@jupyter-widgets/base",
            "top": null,
            "grid_column": null,
            "overflow_y": null,
            "overflow_x": null,
            "grid_auto_flow": null,
            "grid_area": null,
            "grid_template_columns": null,
            "flex": null,
            "_model_name": "LayoutModel",
            "justify_items": null,
            "grid_row": null,
            "max_height": null,
            "align_content": null,
            "visibility": null,
            "align_self": null,
            "height": null,
            "min_height": null,
            "padding": null,
            "grid_auto_rows": null,
            "grid_gap": null,
            "max_width": null,
            "order": null,
            "_view_module_version": "1.2.0",
            "grid_template_areas": null,
            "object_position": null,
            "object_fit": null,
            "grid_auto_columns": null,
            "margin": null,
            "display": null,
            "left": null
          }
        },
        "74359a8541fe42eaa2be900cec332154": {
          "model_module": "@jupyter-widgets/controls",
          "model_name": "ProgressStyleModel",
          "model_module_version": "1.5.0",
          "state": {
            "_view_name": "StyleView",
            "_model_name": "ProgressStyleModel",
            "description_width": "",
            "_view_module": "@jupyter-widgets/base",
            "_model_module_version": "1.5.0",
            "_view_count": null,
            "_view_module_version": "1.2.0",
            "bar_color": null,
            "_model_module": "@jupyter-widgets/controls"
          }
        },
        "8628152df61d480da7cb9d0bbcf75c10": {
          "model_module": "@jupyter-widgets/base",
          "model_name": "LayoutModel",
          "model_module_version": "1.2.0",
          "state": {
            "_view_name": "LayoutView",
            "grid_template_rows": null,
            "right": null,
            "justify_content": null,
            "_view_module": "@jupyter-widgets/base",
            "overflow": null,
            "_model_module_version": "1.2.0",
            "_view_count": null,
            "flex_flow": null,
            "width": null,
            "min_width": null,
            "border": null,
            "align_items": null,
            "bottom": null,
            "_model_module": "@jupyter-widgets/base",
            "top": null,
            "grid_column": null,
            "overflow_y": null,
            "overflow_x": null,
            "grid_auto_flow": null,
            "grid_area": null,
            "grid_template_columns": null,
            "flex": null,
            "_model_name": "LayoutModel",
            "justify_items": null,
            "grid_row": null,
            "max_height": null,
            "align_content": null,
            "visibility": null,
            "align_self": null,
            "height": null,
            "min_height": null,
            "padding": null,
            "grid_auto_rows": null,
            "grid_gap": null,
            "max_width": null,
            "order": null,
            "_view_module_version": "1.2.0",
            "grid_template_areas": null,
            "object_position": null,
            "object_fit": null,
            "grid_auto_columns": null,
            "margin": null,
            "display": null,
            "left": null
          }
        },
        "7586ccbfacc94875b2c12fe3b63755d0": {
          "model_module": "@jupyter-widgets/controls",
          "model_name": "DescriptionStyleModel",
          "model_module_version": "1.5.0",
          "state": {
            "_view_name": "StyleView",
            "_model_name": "DescriptionStyleModel",
            "description_width": "",
            "_view_module": "@jupyter-widgets/base",
            "_model_module_version": "1.5.0",
            "_view_count": null,
            "_view_module_version": "1.2.0",
            "_model_module": "@jupyter-widgets/controls"
          }
        },
        "c124b745ad14432187df6ed4b55d53db": {
          "model_module": "@jupyter-widgets/base",
          "model_name": "LayoutModel",
          "model_module_version": "1.2.0",
          "state": {
            "_view_name": "LayoutView",
            "grid_template_rows": null,
            "right": null,
            "justify_content": null,
            "_view_module": "@jupyter-widgets/base",
            "overflow": null,
            "_model_module_version": "1.2.0",
            "_view_count": null,
            "flex_flow": null,
            "width": null,
            "min_width": null,
            "border": null,
            "align_items": null,
            "bottom": null,
            "_model_module": "@jupyter-widgets/base",
            "top": null,
            "grid_column": null,
            "overflow_y": null,
            "overflow_x": null,
            "grid_auto_flow": null,
            "grid_area": null,
            "grid_template_columns": null,
            "flex": null,
            "_model_name": "LayoutModel",
            "justify_items": null,
            "grid_row": null,
            "max_height": null,
            "align_content": null,
            "visibility": null,
            "align_self": null,
            "height": null,
            "min_height": null,
            "padding": null,
            "grid_auto_rows": null,
            "grid_gap": null,
            "max_width": null,
            "order": null,
            "_view_module_version": "1.2.0",
            "grid_template_areas": null,
            "object_position": null,
            "object_fit": null,
            "grid_auto_columns": null,
            "margin": null,
            "display": null,
            "left": null
          }
        },
        "7858b88a3a344fb9b6ce9e3266bd662b": {
          "model_module": "@jupyter-widgets/controls",
          "model_name": "HBoxModel",
          "model_module_version": "1.5.0",
          "state": {
            "_view_name": "HBoxView",
            "_dom_classes": [],
            "_model_name": "HBoxModel",
            "_view_module": "@jupyter-widgets/controls",
            "_model_module_version": "1.5.0",
            "_view_count": null,
            "_view_module_version": "1.5.0",
            "box_style": "",
            "layout": "IPY_MODEL_5734b40f3f734372996bba7593b4c7f1",
            "_model_module": "@jupyter-widgets/controls",
            "children": [
              "IPY_MODEL_52050af3ad364a9da5e1b181566448a2",
              "IPY_MODEL_8d981c070a964407839dce87377dd480",
              "IPY_MODEL_f79023c5950245b4b0ae9cc48a0de130"
            ]
          }
        },
        "5734b40f3f734372996bba7593b4c7f1": {
          "model_module": "@jupyter-widgets/base",
          "model_name": "LayoutModel",
          "model_module_version": "1.2.0",
          "state": {
            "_view_name": "LayoutView",
            "grid_template_rows": null,
            "right": null,
            "justify_content": null,
            "_view_module": "@jupyter-widgets/base",
            "overflow": null,
            "_model_module_version": "1.2.0",
            "_view_count": null,
            "flex_flow": null,
            "width": null,
            "min_width": null,
            "border": null,
            "align_items": null,
            "bottom": null,
            "_model_module": "@jupyter-widgets/base",
            "top": null,
            "grid_column": null,
            "overflow_y": null,
            "overflow_x": null,
            "grid_auto_flow": null,
            "grid_area": null,
            "grid_template_columns": null,
            "flex": null,
            "_model_name": "LayoutModel",
            "justify_items": null,
            "grid_row": null,
            "max_height": null,
            "align_content": null,
            "visibility": null,
            "align_self": null,
            "height": null,
            "min_height": null,
            "padding": null,
            "grid_auto_rows": null,
            "grid_gap": null,
            "max_width": null,
            "order": null,
            "_view_module_version": "1.2.0",
            "grid_template_areas": null,
            "object_position": null,
            "object_fit": null,
            "grid_auto_columns": null,
            "margin": null,
            "display": null,
            "left": null
          }
        },
        "52050af3ad364a9da5e1b181566448a2": {
          "model_module": "@jupyter-widgets/controls",
          "model_name": "HTMLModel",
          "model_module_version": "1.5.0",
          "state": {
            "_view_name": "HTMLView",
            "style": "IPY_MODEL_1995bf3bc12b44acb2e91881b22ef3db",
            "_dom_classes": [],
            "description": "",
            "_model_name": "HTMLModel",
            "placeholder": "​",
            "_view_module": "@jupyter-widgets/controls",
            "_model_module_version": "1.5.0",
            "value": "Training Loss: 0.2075, Accuracy: 0.9252: 100%",
            "_view_count": null,
            "_view_module_version": "1.5.0",
            "description_tooltip": null,
            "_model_module": "@jupyter-widgets/controls",
            "layout": "IPY_MODEL_2f03b7e3931b4221a38f371c8ae03e2e"
          }
        },
        "8d981c070a964407839dce87377dd480": {
          "model_module": "@jupyter-widgets/controls",
          "model_name": "FloatProgressModel",
          "model_module_version": "1.5.0",
          "state": {
            "_view_name": "ProgressView",
            "style": "IPY_MODEL_7e83889ce75949159a74904d6d7cd769",
            "_dom_classes": [],
            "description": "",
            "_model_name": "FloatProgressModel",
            "bar_style": "success",
            "max": 469,
            "_view_module": "@jupyter-widgets/controls",
            "_model_module_version": "1.5.0",
            "value": 469,
            "_view_count": null,
            "_view_module_version": "1.5.0",
            "orientation": "horizontal",
            "min": 0,
            "description_tooltip": null,
            "_model_module": "@jupyter-widgets/controls",
            "layout": "IPY_MODEL_70d4a21d957142cdad7ce45a2cf8cb97"
          }
        },
        "f79023c5950245b4b0ae9cc48a0de130": {
          "model_module": "@jupyter-widgets/controls",
          "model_name": "HTMLModel",
          "model_module_version": "1.5.0",
          "state": {
            "_view_name": "HTMLView",
            "style": "IPY_MODEL_37b7bc39ea74404bb0ac43fd1fce3837",
            "_dom_classes": [],
            "description": "",
            "_model_name": "HTMLModel",
            "placeholder": "​",
            "_view_module": "@jupyter-widgets/controls",
            "_model_module_version": "1.5.0",
            "value": " 469/469 [00:28&lt;00:00, 16.37it/s]",
            "_view_count": null,
            "_view_module_version": "1.5.0",
            "description_tooltip": null,
            "_model_module": "@jupyter-widgets/controls",
            "layout": "IPY_MODEL_f562de9264d8437ca6ac023fb51181f0"
          }
        },
        "1995bf3bc12b44acb2e91881b22ef3db": {
          "model_module": "@jupyter-widgets/controls",
          "model_name": "DescriptionStyleModel",
          "model_module_version": "1.5.0",
          "state": {
            "_view_name": "StyleView",
            "_model_name": "DescriptionStyleModel",
            "description_width": "",
            "_view_module": "@jupyter-widgets/base",
            "_model_module_version": "1.5.0",
            "_view_count": null,
            "_view_module_version": "1.2.0",
            "_model_module": "@jupyter-widgets/controls"
          }
        },
        "2f03b7e3931b4221a38f371c8ae03e2e": {
          "model_module": "@jupyter-widgets/base",
          "model_name": "LayoutModel",
          "model_module_version": "1.2.0",
          "state": {
            "_view_name": "LayoutView",
            "grid_template_rows": null,
            "right": null,
            "justify_content": null,
            "_view_module": "@jupyter-widgets/base",
            "overflow": null,
            "_model_module_version": "1.2.0",
            "_view_count": null,
            "flex_flow": null,
            "width": null,
            "min_width": null,
            "border": null,
            "align_items": null,
            "bottom": null,
            "_model_module": "@jupyter-widgets/base",
            "top": null,
            "grid_column": null,
            "overflow_y": null,
            "overflow_x": null,
            "grid_auto_flow": null,
            "grid_area": null,
            "grid_template_columns": null,
            "flex": null,
            "_model_name": "LayoutModel",
            "justify_items": null,
            "grid_row": null,
            "max_height": null,
            "align_content": null,
            "visibility": null,
            "align_self": null,
            "height": null,
            "min_height": null,
            "padding": null,
            "grid_auto_rows": null,
            "grid_gap": null,
            "max_width": null,
            "order": null,
            "_view_module_version": "1.2.0",
            "grid_template_areas": null,
            "object_position": null,
            "object_fit": null,
            "grid_auto_columns": null,
            "margin": null,
            "display": null,
            "left": null
          }
        },
        "7e83889ce75949159a74904d6d7cd769": {
          "model_module": "@jupyter-widgets/controls",
          "model_name": "ProgressStyleModel",
          "model_module_version": "1.5.0",
          "state": {
            "_view_name": "StyleView",
            "_model_name": "ProgressStyleModel",
            "description_width": "",
            "_view_module": "@jupyter-widgets/base",
            "_model_module_version": "1.5.0",
            "_view_count": null,
            "_view_module_version": "1.2.0",
            "bar_color": null,
            "_model_module": "@jupyter-widgets/controls"
          }
        },
        "70d4a21d957142cdad7ce45a2cf8cb97": {
          "model_module": "@jupyter-widgets/base",
          "model_name": "LayoutModel",
          "model_module_version": "1.2.0",
          "state": {
            "_view_name": "LayoutView",
            "grid_template_rows": null,
            "right": null,
            "justify_content": null,
            "_view_module": "@jupyter-widgets/base",
            "overflow": null,
            "_model_module_version": "1.2.0",
            "_view_count": null,
            "flex_flow": null,
            "width": null,
            "min_width": null,
            "border": null,
            "align_items": null,
            "bottom": null,
            "_model_module": "@jupyter-widgets/base",
            "top": null,
            "grid_column": null,
            "overflow_y": null,
            "overflow_x": null,
            "grid_auto_flow": null,
            "grid_area": null,
            "grid_template_columns": null,
            "flex": null,
            "_model_name": "LayoutModel",
            "justify_items": null,
            "grid_row": null,
            "max_height": null,
            "align_content": null,
            "visibility": null,
            "align_self": null,
            "height": null,
            "min_height": null,
            "padding": null,
            "grid_auto_rows": null,
            "grid_gap": null,
            "max_width": null,
            "order": null,
            "_view_module_version": "1.2.0",
            "grid_template_areas": null,
            "object_position": null,
            "object_fit": null,
            "grid_auto_columns": null,
            "margin": null,
            "display": null,
            "left": null
          }
        },
        "37b7bc39ea74404bb0ac43fd1fce3837": {
          "model_module": "@jupyter-widgets/controls",
          "model_name": "DescriptionStyleModel",
          "model_module_version": "1.5.0",
          "state": {
            "_view_name": "StyleView",
            "_model_name": "DescriptionStyleModel",
            "description_width": "",
            "_view_module": "@jupyter-widgets/base",
            "_model_module_version": "1.5.0",
            "_view_count": null,
            "_view_module_version": "1.2.0",
            "_model_module": "@jupyter-widgets/controls"
          }
        },
        "f562de9264d8437ca6ac023fb51181f0": {
          "model_module": "@jupyter-widgets/base",
          "model_name": "LayoutModel",
          "model_module_version": "1.2.0",
          "state": {
            "_view_name": "LayoutView",
            "grid_template_rows": null,
            "right": null,
            "justify_content": null,
            "_view_module": "@jupyter-widgets/base",
            "overflow": null,
            "_model_module_version": "1.2.0",
            "_view_count": null,
            "flex_flow": null,
            "width": null,
            "min_width": null,
            "border": null,
            "align_items": null,
            "bottom": null,
            "_model_module": "@jupyter-widgets/base",
            "top": null,
            "grid_column": null,
            "overflow_y": null,
            "overflow_x": null,
            "grid_auto_flow": null,
            "grid_area": null,
            "grid_template_columns": null,
            "flex": null,
            "_model_name": "LayoutModel",
            "justify_items": null,
            "grid_row": null,
            "max_height": null,
            "align_content": null,
            "visibility": null,
            "align_self": null,
            "height": null,
            "min_height": null,
            "padding": null,
            "grid_auto_rows": null,
            "grid_gap": null,
            "max_width": null,
            "order": null,
            "_view_module_version": "1.2.0",
            "grid_template_areas": null,
            "object_position": null,
            "object_fit": null,
            "grid_auto_columns": null,
            "margin": null,
            "display": null,
            "left": null
          }
        },
        "82379c96838c40b69a3ec606f1cbc2da": {
          "model_module": "@jupyter-widgets/controls",
          "model_name": "HBoxModel",
          "model_module_version": "1.5.0",
          "state": {
            "_view_name": "HBoxView",
            "_dom_classes": [],
            "_model_name": "HBoxModel",
            "_view_module": "@jupyter-widgets/controls",
            "_model_module_version": "1.5.0",
            "_view_count": null,
            "_view_module_version": "1.5.0",
            "box_style": "",
            "layout": "IPY_MODEL_c1a4b2cb62d9487c8a0f16dfb679cfa0",
            "_model_module": "@jupyter-widgets/controls",
            "children": [
              "IPY_MODEL_317443df04fb4dc985da8ccb86c1a286",
              "IPY_MODEL_4c4d6dd0a57b4485b0620adde0cc9ed3",
              "IPY_MODEL_5fdedc0b6c234b968ba9c84025df5624"
            ]
          }
        },
        "c1a4b2cb62d9487c8a0f16dfb679cfa0": {
          "model_module": "@jupyter-widgets/base",
          "model_name": "LayoutModel",
          "model_module_version": "1.2.0",
          "state": {
            "_view_name": "LayoutView",
            "grid_template_rows": null,
            "right": null,
            "justify_content": null,
            "_view_module": "@jupyter-widgets/base",
            "overflow": null,
            "_model_module_version": "1.2.0",
            "_view_count": null,
            "flex_flow": null,
            "width": null,
            "min_width": null,
            "border": null,
            "align_items": null,
            "bottom": null,
            "_model_module": "@jupyter-widgets/base",
            "top": null,
            "grid_column": null,
            "overflow_y": null,
            "overflow_x": null,
            "grid_auto_flow": null,
            "grid_area": null,
            "grid_template_columns": null,
            "flex": null,
            "_model_name": "LayoutModel",
            "justify_items": null,
            "grid_row": null,
            "max_height": null,
            "align_content": null,
            "visibility": null,
            "align_self": null,
            "height": null,
            "min_height": null,
            "padding": null,
            "grid_auto_rows": null,
            "grid_gap": null,
            "max_width": null,
            "order": null,
            "_view_module_version": "1.2.0",
            "grid_template_areas": null,
            "object_position": null,
            "object_fit": null,
            "grid_auto_columns": null,
            "margin": null,
            "display": null,
            "left": null
          }
        },
        "317443df04fb4dc985da8ccb86c1a286": {
          "model_module": "@jupyter-widgets/controls",
          "model_name": "HTMLModel",
          "model_module_version": "1.5.0",
          "state": {
            "_view_name": "HTMLView",
            "style": "IPY_MODEL_6d2584d6425b4b9b8bb8544dbb7d0829",
            "_dom_classes": [],
            "description": "",
            "_model_name": "HTMLModel",
            "placeholder": "​",
            "_view_module": "@jupyter-widgets/controls",
            "_model_module_version": "1.5.0",
            "value": "Training Loss: 0.4933, Accuracy: 0.8264: 100%",
            "_view_count": null,
            "_view_module_version": "1.5.0",
            "description_tooltip": null,
            "_model_module": "@jupyter-widgets/controls",
            "layout": "IPY_MODEL_97a006943f3e4a53a0ba34e79ef566d7"
          }
        },
        "4c4d6dd0a57b4485b0620adde0cc9ed3": {
          "model_module": "@jupyter-widgets/controls",
          "model_name": "FloatProgressModel",
          "model_module_version": "1.5.0",
          "state": {
            "_view_name": "ProgressView",
            "style": "IPY_MODEL_1e29b2fec728449da8eb2f3274984fa8",
            "_dom_classes": [],
            "description": "",
            "_model_name": "FloatProgressModel",
            "bar_style": "success",
            "max": 469,
            "_view_module": "@jupyter-widgets/controls",
            "_model_module_version": "1.5.0",
            "value": 469,
            "_view_count": null,
            "_view_module_version": "1.5.0",
            "orientation": "horizontal",
            "min": 0,
            "description_tooltip": null,
            "_model_module": "@jupyter-widgets/controls",
            "layout": "IPY_MODEL_1273bda7d63541ef90308de27b526e28"
          }
        },
        "5fdedc0b6c234b968ba9c84025df5624": {
          "model_module": "@jupyter-widgets/controls",
          "model_name": "HTMLModel",
          "model_module_version": "1.5.0",
          "state": {
            "_view_name": "HTMLView",
            "style": "IPY_MODEL_fd86dd8fa97a4bdc812ef0a50fc1b4a9",
            "_dom_classes": [],
            "description": "",
            "_model_name": "HTMLModel",
            "placeholder": "​",
            "_view_module": "@jupyter-widgets/controls",
            "_model_module_version": "1.5.0",
            "value": " 469/469 [00:24&lt;00:00, 18.63it/s]",
            "_view_count": null,
            "_view_module_version": "1.5.0",
            "description_tooltip": null,
            "_model_module": "@jupyter-widgets/controls",
            "layout": "IPY_MODEL_d14a814e573045d0a09da925d4d0ba54"
          }
        },
        "6d2584d6425b4b9b8bb8544dbb7d0829": {
          "model_module": "@jupyter-widgets/controls",
          "model_name": "DescriptionStyleModel",
          "model_module_version": "1.5.0",
          "state": {
            "_view_name": "StyleView",
            "_model_name": "DescriptionStyleModel",
            "description_width": "",
            "_view_module": "@jupyter-widgets/base",
            "_model_module_version": "1.5.0",
            "_view_count": null,
            "_view_module_version": "1.2.0",
            "_model_module": "@jupyter-widgets/controls"
          }
        },
        "97a006943f3e4a53a0ba34e79ef566d7": {
          "model_module": "@jupyter-widgets/base",
          "model_name": "LayoutModel",
          "model_module_version": "1.2.0",
          "state": {
            "_view_name": "LayoutView",
            "grid_template_rows": null,
            "right": null,
            "justify_content": null,
            "_view_module": "@jupyter-widgets/base",
            "overflow": null,
            "_model_module_version": "1.2.0",
            "_view_count": null,
            "flex_flow": null,
            "width": null,
            "min_width": null,
            "border": null,
            "align_items": null,
            "bottom": null,
            "_model_module": "@jupyter-widgets/base",
            "top": null,
            "grid_column": null,
            "overflow_y": null,
            "overflow_x": null,
            "grid_auto_flow": null,
            "grid_area": null,
            "grid_template_columns": null,
            "flex": null,
            "_model_name": "LayoutModel",
            "justify_items": null,
            "grid_row": null,
            "max_height": null,
            "align_content": null,
            "visibility": null,
            "align_self": null,
            "height": null,
            "min_height": null,
            "padding": null,
            "grid_auto_rows": null,
            "grid_gap": null,
            "max_width": null,
            "order": null,
            "_view_module_version": "1.2.0",
            "grid_template_areas": null,
            "object_position": null,
            "object_fit": null,
            "grid_auto_columns": null,
            "margin": null,
            "display": null,
            "left": null
          }
        },
        "1e29b2fec728449da8eb2f3274984fa8": {
          "model_module": "@jupyter-widgets/controls",
          "model_name": "ProgressStyleModel",
          "model_module_version": "1.5.0",
          "state": {
            "_view_name": "StyleView",
            "_model_name": "ProgressStyleModel",
            "description_width": "",
            "_view_module": "@jupyter-widgets/base",
            "_model_module_version": "1.5.0",
            "_view_count": null,
            "_view_module_version": "1.2.0",
            "bar_color": null,
            "_model_module": "@jupyter-widgets/controls"
          }
        },
        "1273bda7d63541ef90308de27b526e28": {
          "model_module": "@jupyter-widgets/base",
          "model_name": "LayoutModel",
          "model_module_version": "1.2.0",
          "state": {
            "_view_name": "LayoutView",
            "grid_template_rows": null,
            "right": null,
            "justify_content": null,
            "_view_module": "@jupyter-widgets/base",
            "overflow": null,
            "_model_module_version": "1.2.0",
            "_view_count": null,
            "flex_flow": null,
            "width": null,
            "min_width": null,
            "border": null,
            "align_items": null,
            "bottom": null,
            "_model_module": "@jupyter-widgets/base",
            "top": null,
            "grid_column": null,
            "overflow_y": null,
            "overflow_x": null,
            "grid_auto_flow": null,
            "grid_area": null,
            "grid_template_columns": null,
            "flex": null,
            "_model_name": "LayoutModel",
            "justify_items": null,
            "grid_row": null,
            "max_height": null,
            "align_content": null,
            "visibility": null,
            "align_self": null,
            "height": null,
            "min_height": null,
            "padding": null,
            "grid_auto_rows": null,
            "grid_gap": null,
            "max_width": null,
            "order": null,
            "_view_module_version": "1.2.0",
            "grid_template_areas": null,
            "object_position": null,
            "object_fit": null,
            "grid_auto_columns": null,
            "margin": null,
            "display": null,
            "left": null
          }
        },
        "fd86dd8fa97a4bdc812ef0a50fc1b4a9": {
          "model_module": "@jupyter-widgets/controls",
          "model_name": "DescriptionStyleModel",
          "model_module_version": "1.5.0",
          "state": {
            "_view_name": "StyleView",
            "_model_name": "DescriptionStyleModel",
            "description_width": "",
            "_view_module": "@jupyter-widgets/base",
            "_model_module_version": "1.5.0",
            "_view_count": null,
            "_view_module_version": "1.2.0",
            "_model_module": "@jupyter-widgets/controls"
          }
        },
        "d14a814e573045d0a09da925d4d0ba54": {
          "model_module": "@jupyter-widgets/base",
          "model_name": "LayoutModel",
          "model_module_version": "1.2.0",
          "state": {
            "_view_name": "LayoutView",
            "grid_template_rows": null,
            "right": null,
            "justify_content": null,
            "_view_module": "@jupyter-widgets/base",
            "overflow": null,
            "_model_module_version": "1.2.0",
            "_view_count": null,
            "flex_flow": null,
            "width": null,
            "min_width": null,
            "border": null,
            "align_items": null,
            "bottom": null,
            "_model_module": "@jupyter-widgets/base",
            "top": null,
            "grid_column": null,
            "overflow_y": null,
            "overflow_x": null,
            "grid_auto_flow": null,
            "grid_area": null,
            "grid_template_columns": null,
            "flex": null,
            "_model_name": "LayoutModel",
            "justify_items": null,
            "grid_row": null,
            "max_height": null,
            "align_content": null,
            "visibility": null,
            "align_self": null,
            "height": null,
            "min_height": null,
            "padding": null,
            "grid_auto_rows": null,
            "grid_gap": null,
            "max_width": null,
            "order": null,
            "_view_module_version": "1.2.0",
            "grid_template_areas": null,
            "object_position": null,
            "object_fit": null,
            "grid_auto_columns": null,
            "margin": null,
            "display": null,
            "left": null
          }
        },
        "641be5c3c24b4e849b53100780c7f3af": {
          "model_module": "@jupyter-widgets/controls",
          "model_name": "HBoxModel",
          "model_module_version": "1.5.0",
          "state": {
            "_view_name": "HBoxView",
            "_dom_classes": [],
            "_model_name": "HBoxModel",
            "_view_module": "@jupyter-widgets/controls",
            "_model_module_version": "1.5.0",
            "_view_count": null,
            "_view_module_version": "1.5.0",
            "box_style": "",
            "layout": "IPY_MODEL_fd38a1c956cc408087787ae302feec40",
            "_model_module": "@jupyter-widgets/controls",
            "children": [
              "IPY_MODEL_30dcfeb6c36f4d37926911db8f6c11cf",
              "IPY_MODEL_57dbfe89d434478d9d27cf8f28f6f595",
              "IPY_MODEL_848e957a708244e88915a42512076e47"
            ]
          }
        },
        "fd38a1c956cc408087787ae302feec40": {
          "model_module": "@jupyter-widgets/base",
          "model_name": "LayoutModel",
          "model_module_version": "1.2.0",
          "state": {
            "_view_name": "LayoutView",
            "grid_template_rows": null,
            "right": null,
            "justify_content": null,
            "_view_module": "@jupyter-widgets/base",
            "overflow": null,
            "_model_module_version": "1.2.0",
            "_view_count": null,
            "flex_flow": null,
            "width": null,
            "min_width": null,
            "border": null,
            "align_items": null,
            "bottom": null,
            "_model_module": "@jupyter-widgets/base",
            "top": null,
            "grid_column": null,
            "overflow_y": null,
            "overflow_x": null,
            "grid_auto_flow": null,
            "grid_area": null,
            "grid_template_columns": null,
            "flex": null,
            "_model_name": "LayoutModel",
            "justify_items": null,
            "grid_row": null,
            "max_height": null,
            "align_content": null,
            "visibility": null,
            "align_self": null,
            "height": null,
            "min_height": null,
            "padding": null,
            "grid_auto_rows": null,
            "grid_gap": null,
            "max_width": null,
            "order": null,
            "_view_module_version": "1.2.0",
            "grid_template_areas": null,
            "object_position": null,
            "object_fit": null,
            "grid_auto_columns": null,
            "margin": null,
            "display": null,
            "left": null
          }
        },
        "30dcfeb6c36f4d37926911db8f6c11cf": {
          "model_module": "@jupyter-widgets/controls",
          "model_name": "HTMLModel",
          "model_module_version": "1.5.0",
          "state": {
            "_view_name": "HTMLView",
            "style": "IPY_MODEL_acaa2e09f27d44aea88626216279c353",
            "_dom_classes": [],
            "description": "",
            "_model_name": "HTMLModel",
            "placeholder": "​",
            "_view_module": "@jupyter-widgets/controls",
            "_model_module_version": "1.5.0",
            "value": "Training Loss: 0.3224, Accuracy: 0.8837: 100%",
            "_view_count": null,
            "_view_module_version": "1.5.0",
            "description_tooltip": null,
            "_model_module": "@jupyter-widgets/controls",
            "layout": "IPY_MODEL_5604f3ebb9d043fa9dcedd1612745366"
          }
        },
        "57dbfe89d434478d9d27cf8f28f6f595": {
          "model_module": "@jupyter-widgets/controls",
          "model_name": "FloatProgressModel",
          "model_module_version": "1.5.0",
          "state": {
            "_view_name": "ProgressView",
            "style": "IPY_MODEL_01d1ed022c19409c8c5131bf29e05647",
            "_dom_classes": [],
            "description": "",
            "_model_name": "FloatProgressModel",
            "bar_style": "success",
            "max": 469,
            "_view_module": "@jupyter-widgets/controls",
            "_model_module_version": "1.5.0",
            "value": 469,
            "_view_count": null,
            "_view_module_version": "1.5.0",
            "orientation": "horizontal",
            "min": 0,
            "description_tooltip": null,
            "_model_module": "@jupyter-widgets/controls",
            "layout": "IPY_MODEL_61becc159b094c2eb58c3cf18431c736"
          }
        },
        "848e957a708244e88915a42512076e47": {
          "model_module": "@jupyter-widgets/controls",
          "model_name": "HTMLModel",
          "model_module_version": "1.5.0",
          "state": {
            "_view_name": "HTMLView",
            "style": "IPY_MODEL_091eb73ffc1a4122a961ede0379113ba",
            "_dom_classes": [],
            "description": "",
            "_model_name": "HTMLModel",
            "placeholder": "​",
            "_view_module": "@jupyter-widgets/controls",
            "_model_module_version": "1.5.0",
            "value": " 469/469 [00:24&lt;00:00, 19.50it/s]",
            "_view_count": null,
            "_view_module_version": "1.5.0",
            "description_tooltip": null,
            "_model_module": "@jupyter-widgets/controls",
            "layout": "IPY_MODEL_7754a7e46852409dbaa59a31aedfb1bc"
          }
        },
        "acaa2e09f27d44aea88626216279c353": {
          "model_module": "@jupyter-widgets/controls",
          "model_name": "DescriptionStyleModel",
          "model_module_version": "1.5.0",
          "state": {
            "_view_name": "StyleView",
            "_model_name": "DescriptionStyleModel",
            "description_width": "",
            "_view_module": "@jupyter-widgets/base",
            "_model_module_version": "1.5.0",
            "_view_count": null,
            "_view_module_version": "1.2.0",
            "_model_module": "@jupyter-widgets/controls"
          }
        },
        "5604f3ebb9d043fa9dcedd1612745366": {
          "model_module": "@jupyter-widgets/base",
          "model_name": "LayoutModel",
          "model_module_version": "1.2.0",
          "state": {
            "_view_name": "LayoutView",
            "grid_template_rows": null,
            "right": null,
            "justify_content": null,
            "_view_module": "@jupyter-widgets/base",
            "overflow": null,
            "_model_module_version": "1.2.0",
            "_view_count": null,
            "flex_flow": null,
            "width": null,
            "min_width": null,
            "border": null,
            "align_items": null,
            "bottom": null,
            "_model_module": "@jupyter-widgets/base",
            "top": null,
            "grid_column": null,
            "overflow_y": null,
            "overflow_x": null,
            "grid_auto_flow": null,
            "grid_area": null,
            "grid_template_columns": null,
            "flex": null,
            "_model_name": "LayoutModel",
            "justify_items": null,
            "grid_row": null,
            "max_height": null,
            "align_content": null,
            "visibility": null,
            "align_self": null,
            "height": null,
            "min_height": null,
            "padding": null,
            "grid_auto_rows": null,
            "grid_gap": null,
            "max_width": null,
            "order": null,
            "_view_module_version": "1.2.0",
            "grid_template_areas": null,
            "object_position": null,
            "object_fit": null,
            "grid_auto_columns": null,
            "margin": null,
            "display": null,
            "left": null
          }
        },
        "01d1ed022c19409c8c5131bf29e05647": {
          "model_module": "@jupyter-widgets/controls",
          "model_name": "ProgressStyleModel",
          "model_module_version": "1.5.0",
          "state": {
            "_view_name": "StyleView",
            "_model_name": "ProgressStyleModel",
            "description_width": "",
            "_view_module": "@jupyter-widgets/base",
            "_model_module_version": "1.5.0",
            "_view_count": null,
            "_view_module_version": "1.2.0",
            "bar_color": null,
            "_model_module": "@jupyter-widgets/controls"
          }
        },
        "61becc159b094c2eb58c3cf18431c736": {
          "model_module": "@jupyter-widgets/base",
          "model_name": "LayoutModel",
          "model_module_version": "1.2.0",
          "state": {
            "_view_name": "LayoutView",
            "grid_template_rows": null,
            "right": null,
            "justify_content": null,
            "_view_module": "@jupyter-widgets/base",
            "overflow": null,
            "_model_module_version": "1.2.0",
            "_view_count": null,
            "flex_flow": null,
            "width": null,
            "min_width": null,
            "border": null,
            "align_items": null,
            "bottom": null,
            "_model_module": "@jupyter-widgets/base",
            "top": null,
            "grid_column": null,
            "overflow_y": null,
            "overflow_x": null,
            "grid_auto_flow": null,
            "grid_area": null,
            "grid_template_columns": null,
            "flex": null,
            "_model_name": "LayoutModel",
            "justify_items": null,
            "grid_row": null,
            "max_height": null,
            "align_content": null,
            "visibility": null,
            "align_self": null,
            "height": null,
            "min_height": null,
            "padding": null,
            "grid_auto_rows": null,
            "grid_gap": null,
            "max_width": null,
            "order": null,
            "_view_module_version": "1.2.0",
            "grid_template_areas": null,
            "object_position": null,
            "object_fit": null,
            "grid_auto_columns": null,
            "margin": null,
            "display": null,
            "left": null
          }
        },
        "091eb73ffc1a4122a961ede0379113ba": {
          "model_module": "@jupyter-widgets/controls",
          "model_name": "DescriptionStyleModel",
          "model_module_version": "1.5.0",
          "state": {
            "_view_name": "StyleView",
            "_model_name": "DescriptionStyleModel",
            "description_width": "",
            "_view_module": "@jupyter-widgets/base",
            "_model_module_version": "1.5.0",
            "_view_count": null,
            "_view_module_version": "1.2.0",
            "_model_module": "@jupyter-widgets/controls"
          }
        },
        "7754a7e46852409dbaa59a31aedfb1bc": {
          "model_module": "@jupyter-widgets/base",
          "model_name": "LayoutModel",
          "model_module_version": "1.2.0",
          "state": {
            "_view_name": "LayoutView",
            "grid_template_rows": null,
            "right": null,
            "justify_content": null,
            "_view_module": "@jupyter-widgets/base",
            "overflow": null,
            "_model_module_version": "1.2.0",
            "_view_count": null,
            "flex_flow": null,
            "width": null,
            "min_width": null,
            "border": null,
            "align_items": null,
            "bottom": null,
            "_model_module": "@jupyter-widgets/base",
            "top": null,
            "grid_column": null,
            "overflow_y": null,
            "overflow_x": null,
            "grid_auto_flow": null,
            "grid_area": null,
            "grid_template_columns": null,
            "flex": null,
            "_model_name": "LayoutModel",
            "justify_items": null,
            "grid_row": null,
            "max_height": null,
            "align_content": null,
            "visibility": null,
            "align_self": null,
            "height": null,
            "min_height": null,
            "padding": null,
            "grid_auto_rows": null,
            "grid_gap": null,
            "max_width": null,
            "order": null,
            "_view_module_version": "1.2.0",
            "grid_template_areas": null,
            "object_position": null,
            "object_fit": null,
            "grid_auto_columns": null,
            "margin": null,
            "display": null,
            "left": null
          }
        },
        "ef2602d0013d45a88f7ec23a5b48a19a": {
          "model_module": "@jupyter-widgets/controls",
          "model_name": "HBoxModel",
          "model_module_version": "1.5.0",
          "state": {
            "_view_name": "HBoxView",
            "_dom_classes": [],
            "_model_name": "HBoxModel",
            "_view_module": "@jupyter-widgets/controls",
            "_model_module_version": "1.5.0",
            "_view_count": null,
            "_view_module_version": "1.5.0",
            "box_style": "",
            "layout": "IPY_MODEL_6fe2758c336e400ea129c91b70751520",
            "_model_module": "@jupyter-widgets/controls",
            "children": [
              "IPY_MODEL_76f48e663fb643f58f0e85d6307e6074",
              "IPY_MODEL_56537cbac12047b9ba5ebf4ef1e472db",
              "IPY_MODEL_2aa93f92f70a490d88720e72952fefbf"
            ]
          }
        },
        "6fe2758c336e400ea129c91b70751520": {
          "model_module": "@jupyter-widgets/base",
          "model_name": "LayoutModel",
          "model_module_version": "1.2.0",
          "state": {
            "_view_name": "LayoutView",
            "grid_template_rows": null,
            "right": null,
            "justify_content": null,
            "_view_module": "@jupyter-widgets/base",
            "overflow": null,
            "_model_module_version": "1.2.0",
            "_view_count": null,
            "flex_flow": null,
            "width": null,
            "min_width": null,
            "border": null,
            "align_items": null,
            "bottom": null,
            "_model_module": "@jupyter-widgets/base",
            "top": null,
            "grid_column": null,
            "overflow_y": null,
            "overflow_x": null,
            "grid_auto_flow": null,
            "grid_area": null,
            "grid_template_columns": null,
            "flex": null,
            "_model_name": "LayoutModel",
            "justify_items": null,
            "grid_row": null,
            "max_height": null,
            "align_content": null,
            "visibility": null,
            "align_self": null,
            "height": null,
            "min_height": null,
            "padding": null,
            "grid_auto_rows": null,
            "grid_gap": null,
            "max_width": null,
            "order": null,
            "_view_module_version": "1.2.0",
            "grid_template_areas": null,
            "object_position": null,
            "object_fit": null,
            "grid_auto_columns": null,
            "margin": null,
            "display": null,
            "left": null
          }
        },
        "76f48e663fb643f58f0e85d6307e6074": {
          "model_module": "@jupyter-widgets/controls",
          "model_name": "HTMLModel",
          "model_module_version": "1.5.0",
          "state": {
            "_view_name": "HTMLView",
            "style": "IPY_MODEL_2c873ff9c53444a5bb0ac465d041f3e3",
            "_dom_classes": [],
            "description": "",
            "_model_name": "HTMLModel",
            "placeholder": "​",
            "_view_module": "@jupyter-widgets/controls",
            "_model_module_version": "1.5.0",
            "value": "Training Loss: 0.2867, Accuracy: 0.8972: 100%",
            "_view_count": null,
            "_view_module_version": "1.5.0",
            "description_tooltip": null,
            "_model_module": "@jupyter-widgets/controls",
            "layout": "IPY_MODEL_5038835ff48b44dfaf76db1fea0656cc"
          }
        },
        "56537cbac12047b9ba5ebf4ef1e472db": {
          "model_module": "@jupyter-widgets/controls",
          "model_name": "FloatProgressModel",
          "model_module_version": "1.5.0",
          "state": {
            "_view_name": "ProgressView",
            "style": "IPY_MODEL_5c72d4078f284ceea4394d79620a4ae1",
            "_dom_classes": [],
            "description": "",
            "_model_name": "FloatProgressModel",
            "bar_style": "success",
            "max": 469,
            "_view_module": "@jupyter-widgets/controls",
            "_model_module_version": "1.5.0",
            "value": 469,
            "_view_count": null,
            "_view_module_version": "1.5.0",
            "orientation": "horizontal",
            "min": 0,
            "description_tooltip": null,
            "_model_module": "@jupyter-widgets/controls",
            "layout": "IPY_MODEL_27329925d0224766a170aa128dd5991c"
          }
        },
        "2aa93f92f70a490d88720e72952fefbf": {
          "model_module": "@jupyter-widgets/controls",
          "model_name": "HTMLModel",
          "model_module_version": "1.5.0",
          "state": {
            "_view_name": "HTMLView",
            "style": "IPY_MODEL_682a610d49a14c0e85a59118676bfab5",
            "_dom_classes": [],
            "description": "",
            "_model_name": "HTMLModel",
            "placeholder": "​",
            "_view_module": "@jupyter-widgets/controls",
            "_model_module_version": "1.5.0",
            "value": " 469/469 [00:24&lt;00:00, 19.11it/s]",
            "_view_count": null,
            "_view_module_version": "1.5.0",
            "description_tooltip": null,
            "_model_module": "@jupyter-widgets/controls",
            "layout": "IPY_MODEL_fe0a1abb563842aab1172ec87a491447"
          }
        },
        "2c873ff9c53444a5bb0ac465d041f3e3": {
          "model_module": "@jupyter-widgets/controls",
          "model_name": "DescriptionStyleModel",
          "model_module_version": "1.5.0",
          "state": {
            "_view_name": "StyleView",
            "_model_name": "DescriptionStyleModel",
            "description_width": "",
            "_view_module": "@jupyter-widgets/base",
            "_model_module_version": "1.5.0",
            "_view_count": null,
            "_view_module_version": "1.2.0",
            "_model_module": "@jupyter-widgets/controls"
          }
        },
        "5038835ff48b44dfaf76db1fea0656cc": {
          "model_module": "@jupyter-widgets/base",
          "model_name": "LayoutModel",
          "model_module_version": "1.2.0",
          "state": {
            "_view_name": "LayoutView",
            "grid_template_rows": null,
            "right": null,
            "justify_content": null,
            "_view_module": "@jupyter-widgets/base",
            "overflow": null,
            "_model_module_version": "1.2.0",
            "_view_count": null,
            "flex_flow": null,
            "width": null,
            "min_width": null,
            "border": null,
            "align_items": null,
            "bottom": null,
            "_model_module": "@jupyter-widgets/base",
            "top": null,
            "grid_column": null,
            "overflow_y": null,
            "overflow_x": null,
            "grid_auto_flow": null,
            "grid_area": null,
            "grid_template_columns": null,
            "flex": null,
            "_model_name": "LayoutModel",
            "justify_items": null,
            "grid_row": null,
            "max_height": null,
            "align_content": null,
            "visibility": null,
            "align_self": null,
            "height": null,
            "min_height": null,
            "padding": null,
            "grid_auto_rows": null,
            "grid_gap": null,
            "max_width": null,
            "order": null,
            "_view_module_version": "1.2.0",
            "grid_template_areas": null,
            "object_position": null,
            "object_fit": null,
            "grid_auto_columns": null,
            "margin": null,
            "display": null,
            "left": null
          }
        },
        "5c72d4078f284ceea4394d79620a4ae1": {
          "model_module": "@jupyter-widgets/controls",
          "model_name": "ProgressStyleModel",
          "model_module_version": "1.5.0",
          "state": {
            "_view_name": "StyleView",
            "_model_name": "ProgressStyleModel",
            "description_width": "",
            "_view_module": "@jupyter-widgets/base",
            "_model_module_version": "1.5.0",
            "_view_count": null,
            "_view_module_version": "1.2.0",
            "bar_color": null,
            "_model_module": "@jupyter-widgets/controls"
          }
        },
        "27329925d0224766a170aa128dd5991c": {
          "model_module": "@jupyter-widgets/base",
          "model_name": "LayoutModel",
          "model_module_version": "1.2.0",
          "state": {
            "_view_name": "LayoutView",
            "grid_template_rows": null,
            "right": null,
            "justify_content": null,
            "_view_module": "@jupyter-widgets/base",
            "overflow": null,
            "_model_module_version": "1.2.0",
            "_view_count": null,
            "flex_flow": null,
            "width": null,
            "min_width": null,
            "border": null,
            "align_items": null,
            "bottom": null,
            "_model_module": "@jupyter-widgets/base",
            "top": null,
            "grid_column": null,
            "overflow_y": null,
            "overflow_x": null,
            "grid_auto_flow": null,
            "grid_area": null,
            "grid_template_columns": null,
            "flex": null,
            "_model_name": "LayoutModel",
            "justify_items": null,
            "grid_row": null,
            "max_height": null,
            "align_content": null,
            "visibility": null,
            "align_self": null,
            "height": null,
            "min_height": null,
            "padding": null,
            "grid_auto_rows": null,
            "grid_gap": null,
            "max_width": null,
            "order": null,
            "_view_module_version": "1.2.0",
            "grid_template_areas": null,
            "object_position": null,
            "object_fit": null,
            "grid_auto_columns": null,
            "margin": null,
            "display": null,
            "left": null
          }
        },
        "682a610d49a14c0e85a59118676bfab5": {
          "model_module": "@jupyter-widgets/controls",
          "model_name": "DescriptionStyleModel",
          "model_module_version": "1.5.0",
          "state": {
            "_view_name": "StyleView",
            "_model_name": "DescriptionStyleModel",
            "description_width": "",
            "_view_module": "@jupyter-widgets/base",
            "_model_module_version": "1.5.0",
            "_view_count": null,
            "_view_module_version": "1.2.0",
            "_model_module": "@jupyter-widgets/controls"
          }
        },
        "fe0a1abb563842aab1172ec87a491447": {
          "model_module": "@jupyter-widgets/base",
          "model_name": "LayoutModel",
          "model_module_version": "1.2.0",
          "state": {
            "_view_name": "LayoutView",
            "grid_template_rows": null,
            "right": null,
            "justify_content": null,
            "_view_module": "@jupyter-widgets/base",
            "overflow": null,
            "_model_module_version": "1.2.0",
            "_view_count": null,
            "flex_flow": null,
            "width": null,
            "min_width": null,
            "border": null,
            "align_items": null,
            "bottom": null,
            "_model_module": "@jupyter-widgets/base",
            "top": null,
            "grid_column": null,
            "overflow_y": null,
            "overflow_x": null,
            "grid_auto_flow": null,
            "grid_area": null,
            "grid_template_columns": null,
            "flex": null,
            "_model_name": "LayoutModel",
            "justify_items": null,
            "grid_row": null,
            "max_height": null,
            "align_content": null,
            "visibility": null,
            "align_self": null,
            "height": null,
            "min_height": null,
            "padding": null,
            "grid_auto_rows": null,
            "grid_gap": null,
            "max_width": null,
            "order": null,
            "_view_module_version": "1.2.0",
            "grid_template_areas": null,
            "object_position": null,
            "object_fit": null,
            "grid_auto_columns": null,
            "margin": null,
            "display": null,
            "left": null
          }
        },
        "a9762baaa7694d3a8ec7388a16e2cd74": {
          "model_module": "@jupyter-widgets/controls",
          "model_name": "HBoxModel",
          "model_module_version": "1.5.0",
          "state": {
            "_view_name": "HBoxView",
            "_dom_classes": [],
            "_model_name": "HBoxModel",
            "_view_module": "@jupyter-widgets/controls",
            "_model_module_version": "1.5.0",
            "_view_count": null,
            "_view_module_version": "1.5.0",
            "box_style": "",
            "layout": "IPY_MODEL_157877f7054c4851ac5a2eed353cf42f",
            "_model_module": "@jupyter-widgets/controls",
            "children": [
              "IPY_MODEL_3311c6adff0b48f89004073f38126991",
              "IPY_MODEL_bf6a3a8677414ab8b92a2a200d61b755",
              "IPY_MODEL_8e47e6592079420287d5da45196ac450"
            ]
          }
        },
        "157877f7054c4851ac5a2eed353cf42f": {
          "model_module": "@jupyter-widgets/base",
          "model_name": "LayoutModel",
          "model_module_version": "1.2.0",
          "state": {
            "_view_name": "LayoutView",
            "grid_template_rows": null,
            "right": null,
            "justify_content": null,
            "_view_module": "@jupyter-widgets/base",
            "overflow": null,
            "_model_module_version": "1.2.0",
            "_view_count": null,
            "flex_flow": null,
            "width": null,
            "min_width": null,
            "border": null,
            "align_items": null,
            "bottom": null,
            "_model_module": "@jupyter-widgets/base",
            "top": null,
            "grid_column": null,
            "overflow_y": null,
            "overflow_x": null,
            "grid_auto_flow": null,
            "grid_area": null,
            "grid_template_columns": null,
            "flex": null,
            "_model_name": "LayoutModel",
            "justify_items": null,
            "grid_row": null,
            "max_height": null,
            "align_content": null,
            "visibility": null,
            "align_self": null,
            "height": null,
            "min_height": null,
            "padding": null,
            "grid_auto_rows": null,
            "grid_gap": null,
            "max_width": null,
            "order": null,
            "_view_module_version": "1.2.0",
            "grid_template_areas": null,
            "object_position": null,
            "object_fit": null,
            "grid_auto_columns": null,
            "margin": null,
            "display": null,
            "left": null
          }
        },
        "3311c6adff0b48f89004073f38126991": {
          "model_module": "@jupyter-widgets/controls",
          "model_name": "HTMLModel",
          "model_module_version": "1.5.0",
          "state": {
            "_view_name": "HTMLView",
            "style": "IPY_MODEL_7635ce0b52df417fbe7ef329d94f406f",
            "_dom_classes": [],
            "description": "",
            "_model_name": "HTMLModel",
            "placeholder": "​",
            "_view_module": "@jupyter-widgets/controls",
            "_model_module_version": "1.5.0",
            "value": "Training Loss: 0.2627, Accuracy: 0.9055: 100%",
            "_view_count": null,
            "_view_module_version": "1.5.0",
            "description_tooltip": null,
            "_model_module": "@jupyter-widgets/controls",
            "layout": "IPY_MODEL_1b85e34fc33e4ea7988594e56311dbfd"
          }
        },
        "bf6a3a8677414ab8b92a2a200d61b755": {
          "model_module": "@jupyter-widgets/controls",
          "model_name": "FloatProgressModel",
          "model_module_version": "1.5.0",
          "state": {
            "_view_name": "ProgressView",
            "style": "IPY_MODEL_e4f6605de25a475c8cefb1d0efd5c9c3",
            "_dom_classes": [],
            "description": "",
            "_model_name": "FloatProgressModel",
            "bar_style": "success",
            "max": 469,
            "_view_module": "@jupyter-widgets/controls",
            "_model_module_version": "1.5.0",
            "value": 469,
            "_view_count": null,
            "_view_module_version": "1.5.0",
            "orientation": "horizontal",
            "min": 0,
            "description_tooltip": null,
            "_model_module": "@jupyter-widgets/controls",
            "layout": "IPY_MODEL_eb5654fe51c14c3d8c5c4f3eb5500090"
          }
        },
        "8e47e6592079420287d5da45196ac450": {
          "model_module": "@jupyter-widgets/controls",
          "model_name": "HTMLModel",
          "model_module_version": "1.5.0",
          "state": {
            "_view_name": "HTMLView",
            "style": "IPY_MODEL_a9f5fb2a47e0462d847a0532f244a52b",
            "_dom_classes": [],
            "description": "",
            "_model_name": "HTMLModel",
            "placeholder": "​",
            "_view_module": "@jupyter-widgets/controls",
            "_model_module_version": "1.5.0",
            "value": " 469/469 [00:24&lt;00:00, 19.28it/s]",
            "_view_count": null,
            "_view_module_version": "1.5.0",
            "description_tooltip": null,
            "_model_module": "@jupyter-widgets/controls",
            "layout": "IPY_MODEL_34134ad69d3f41f2a0035b3412ae8189"
          }
        },
        "7635ce0b52df417fbe7ef329d94f406f": {
          "model_module": "@jupyter-widgets/controls",
          "model_name": "DescriptionStyleModel",
          "model_module_version": "1.5.0",
          "state": {
            "_view_name": "StyleView",
            "_model_name": "DescriptionStyleModel",
            "description_width": "",
            "_view_module": "@jupyter-widgets/base",
            "_model_module_version": "1.5.0",
            "_view_count": null,
            "_view_module_version": "1.2.0",
            "_model_module": "@jupyter-widgets/controls"
          }
        },
        "1b85e34fc33e4ea7988594e56311dbfd": {
          "model_module": "@jupyter-widgets/base",
          "model_name": "LayoutModel",
          "model_module_version": "1.2.0",
          "state": {
            "_view_name": "LayoutView",
            "grid_template_rows": null,
            "right": null,
            "justify_content": null,
            "_view_module": "@jupyter-widgets/base",
            "overflow": null,
            "_model_module_version": "1.2.0",
            "_view_count": null,
            "flex_flow": null,
            "width": null,
            "min_width": null,
            "border": null,
            "align_items": null,
            "bottom": null,
            "_model_module": "@jupyter-widgets/base",
            "top": null,
            "grid_column": null,
            "overflow_y": null,
            "overflow_x": null,
            "grid_auto_flow": null,
            "grid_area": null,
            "grid_template_columns": null,
            "flex": null,
            "_model_name": "LayoutModel",
            "justify_items": null,
            "grid_row": null,
            "max_height": null,
            "align_content": null,
            "visibility": null,
            "align_self": null,
            "height": null,
            "min_height": null,
            "padding": null,
            "grid_auto_rows": null,
            "grid_gap": null,
            "max_width": null,
            "order": null,
            "_view_module_version": "1.2.0",
            "grid_template_areas": null,
            "object_position": null,
            "object_fit": null,
            "grid_auto_columns": null,
            "margin": null,
            "display": null,
            "left": null
          }
        },
        "e4f6605de25a475c8cefb1d0efd5c9c3": {
          "model_module": "@jupyter-widgets/controls",
          "model_name": "ProgressStyleModel",
          "model_module_version": "1.5.0",
          "state": {
            "_view_name": "StyleView",
            "_model_name": "ProgressStyleModel",
            "description_width": "",
            "_view_module": "@jupyter-widgets/base",
            "_model_module_version": "1.5.0",
            "_view_count": null,
            "_view_module_version": "1.2.0",
            "bar_color": null,
            "_model_module": "@jupyter-widgets/controls"
          }
        },
        "eb5654fe51c14c3d8c5c4f3eb5500090": {
          "model_module": "@jupyter-widgets/base",
          "model_name": "LayoutModel",
          "model_module_version": "1.2.0",
          "state": {
            "_view_name": "LayoutView",
            "grid_template_rows": null,
            "right": null,
            "justify_content": null,
            "_view_module": "@jupyter-widgets/base",
            "overflow": null,
            "_model_module_version": "1.2.0",
            "_view_count": null,
            "flex_flow": null,
            "width": null,
            "min_width": null,
            "border": null,
            "align_items": null,
            "bottom": null,
            "_model_module": "@jupyter-widgets/base",
            "top": null,
            "grid_column": null,
            "overflow_y": null,
            "overflow_x": null,
            "grid_auto_flow": null,
            "grid_area": null,
            "grid_template_columns": null,
            "flex": null,
            "_model_name": "LayoutModel",
            "justify_items": null,
            "grid_row": null,
            "max_height": null,
            "align_content": null,
            "visibility": null,
            "align_self": null,
            "height": null,
            "min_height": null,
            "padding": null,
            "grid_auto_rows": null,
            "grid_gap": null,
            "max_width": null,
            "order": null,
            "_view_module_version": "1.2.0",
            "grid_template_areas": null,
            "object_position": null,
            "object_fit": null,
            "grid_auto_columns": null,
            "margin": null,
            "display": null,
            "left": null
          }
        },
        "a9f5fb2a47e0462d847a0532f244a52b": {
          "model_module": "@jupyter-widgets/controls",
          "model_name": "DescriptionStyleModel",
          "model_module_version": "1.5.0",
          "state": {
            "_view_name": "StyleView",
            "_model_name": "DescriptionStyleModel",
            "description_width": "",
            "_view_module": "@jupyter-widgets/base",
            "_model_module_version": "1.5.0",
            "_view_count": null,
            "_view_module_version": "1.2.0",
            "_model_module": "@jupyter-widgets/controls"
          }
        },
        "34134ad69d3f41f2a0035b3412ae8189": {
          "model_module": "@jupyter-widgets/base",
          "model_name": "LayoutModel",
          "model_module_version": "1.2.0",
          "state": {
            "_view_name": "LayoutView",
            "grid_template_rows": null,
            "right": null,
            "justify_content": null,
            "_view_module": "@jupyter-widgets/base",
            "overflow": null,
            "_model_module_version": "1.2.0",
            "_view_count": null,
            "flex_flow": null,
            "width": null,
            "min_width": null,
            "border": null,
            "align_items": null,
            "bottom": null,
            "_model_module": "@jupyter-widgets/base",
            "top": null,
            "grid_column": null,
            "overflow_y": null,
            "overflow_x": null,
            "grid_auto_flow": null,
            "grid_area": null,
            "grid_template_columns": null,
            "flex": null,
            "_model_name": "LayoutModel",
            "justify_items": null,
            "grid_row": null,
            "max_height": null,
            "align_content": null,
            "visibility": null,
            "align_self": null,
            "height": null,
            "min_height": null,
            "padding": null,
            "grid_auto_rows": null,
            "grid_gap": null,
            "max_width": null,
            "order": null,
            "_view_module_version": "1.2.0",
            "grid_template_areas": null,
            "object_position": null,
            "object_fit": null,
            "grid_auto_columns": null,
            "margin": null,
            "display": null,
            "left": null
          }
        },
        "32110db9089a41fda2dc211fcbfb7399": {
          "model_module": "@jupyter-widgets/controls",
          "model_name": "HBoxModel",
          "model_module_version": "1.5.0",
          "state": {
            "_view_name": "HBoxView",
            "_dom_classes": [],
            "_model_name": "HBoxModel",
            "_view_module": "@jupyter-widgets/controls",
            "_model_module_version": "1.5.0",
            "_view_count": null,
            "_view_module_version": "1.5.0",
            "box_style": "",
            "layout": "IPY_MODEL_c55489e96b5942b489ed2da9c0a38059",
            "_model_module": "@jupyter-widgets/controls",
            "children": [
              "IPY_MODEL_ebd24fd8918a4d9695c046933b7423d5",
              "IPY_MODEL_0a5a1f7f796c4ef39e944c4fcecdae87",
              "IPY_MODEL_39c6cd7a502e4fb8b7afca4f43b42a1b"
            ]
          }
        },
        "c55489e96b5942b489ed2da9c0a38059": {
          "model_module": "@jupyter-widgets/base",
          "model_name": "LayoutModel",
          "model_module_version": "1.2.0",
          "state": {
            "_view_name": "LayoutView",
            "grid_template_rows": null,
            "right": null,
            "justify_content": null,
            "_view_module": "@jupyter-widgets/base",
            "overflow": null,
            "_model_module_version": "1.2.0",
            "_view_count": null,
            "flex_flow": null,
            "width": null,
            "min_width": null,
            "border": null,
            "align_items": null,
            "bottom": null,
            "_model_module": "@jupyter-widgets/base",
            "top": null,
            "grid_column": null,
            "overflow_y": null,
            "overflow_x": null,
            "grid_auto_flow": null,
            "grid_area": null,
            "grid_template_columns": null,
            "flex": null,
            "_model_name": "LayoutModel",
            "justify_items": null,
            "grid_row": null,
            "max_height": null,
            "align_content": null,
            "visibility": null,
            "align_self": null,
            "height": null,
            "min_height": null,
            "padding": null,
            "grid_auto_rows": null,
            "grid_gap": null,
            "max_width": null,
            "order": null,
            "_view_module_version": "1.2.0",
            "grid_template_areas": null,
            "object_position": null,
            "object_fit": null,
            "grid_auto_columns": null,
            "margin": null,
            "display": null,
            "left": null
          }
        },
        "ebd24fd8918a4d9695c046933b7423d5": {
          "model_module": "@jupyter-widgets/controls",
          "model_name": "HTMLModel",
          "model_module_version": "1.5.0",
          "state": {
            "_view_name": "HTMLView",
            "style": "IPY_MODEL_044fef941dcd48a9ad331d06221d37ae",
            "_dom_classes": [],
            "description": "",
            "_model_name": "HTMLModel",
            "placeholder": "​",
            "_view_module": "@jupyter-widgets/controls",
            "_model_module_version": "1.5.0",
            "value": "Training Loss: 0.2455, Accuracy: 0.9120: 100%",
            "_view_count": null,
            "_view_module_version": "1.5.0",
            "description_tooltip": null,
            "_model_module": "@jupyter-widgets/controls",
            "layout": "IPY_MODEL_857347a63cc84026b4377662e9e82b09"
          }
        },
        "0a5a1f7f796c4ef39e944c4fcecdae87": {
          "model_module": "@jupyter-widgets/controls",
          "model_name": "FloatProgressModel",
          "model_module_version": "1.5.0",
          "state": {
            "_view_name": "ProgressView",
            "style": "IPY_MODEL_577588061a8d4e4089754d66e32c39a7",
            "_dom_classes": [],
            "description": "",
            "_model_name": "FloatProgressModel",
            "bar_style": "success",
            "max": 469,
            "_view_module": "@jupyter-widgets/controls",
            "_model_module_version": "1.5.0",
            "value": 469,
            "_view_count": null,
            "_view_module_version": "1.5.0",
            "orientation": "horizontal",
            "min": 0,
            "description_tooltip": null,
            "_model_module": "@jupyter-widgets/controls",
            "layout": "IPY_MODEL_20cbd5112a7646f496850b640e186d93"
          }
        },
        "39c6cd7a502e4fb8b7afca4f43b42a1b": {
          "model_module": "@jupyter-widgets/controls",
          "model_name": "HTMLModel",
          "model_module_version": "1.5.0",
          "state": {
            "_view_name": "HTMLView",
            "style": "IPY_MODEL_cc874a74859c4ae1b0438ffa964aaf09",
            "_dom_classes": [],
            "description": "",
            "_model_name": "HTMLModel",
            "placeholder": "​",
            "_view_module": "@jupyter-widgets/controls",
            "_model_module_version": "1.5.0",
            "value": " 469/469 [00:24&lt;00:00, 19.06it/s]",
            "_view_count": null,
            "_view_module_version": "1.5.0",
            "description_tooltip": null,
            "_model_module": "@jupyter-widgets/controls",
            "layout": "IPY_MODEL_4d63494d74194cd1bf97bc3f681fd87e"
          }
        },
        "044fef941dcd48a9ad331d06221d37ae": {
          "model_module": "@jupyter-widgets/controls",
          "model_name": "DescriptionStyleModel",
          "model_module_version": "1.5.0",
          "state": {
            "_view_name": "StyleView",
            "_model_name": "DescriptionStyleModel",
            "description_width": "",
            "_view_module": "@jupyter-widgets/base",
            "_model_module_version": "1.5.0",
            "_view_count": null,
            "_view_module_version": "1.2.0",
            "_model_module": "@jupyter-widgets/controls"
          }
        },
        "857347a63cc84026b4377662e9e82b09": {
          "model_module": "@jupyter-widgets/base",
          "model_name": "LayoutModel",
          "model_module_version": "1.2.0",
          "state": {
            "_view_name": "LayoutView",
            "grid_template_rows": null,
            "right": null,
            "justify_content": null,
            "_view_module": "@jupyter-widgets/base",
            "overflow": null,
            "_model_module_version": "1.2.0",
            "_view_count": null,
            "flex_flow": null,
            "width": null,
            "min_width": null,
            "border": null,
            "align_items": null,
            "bottom": null,
            "_model_module": "@jupyter-widgets/base",
            "top": null,
            "grid_column": null,
            "overflow_y": null,
            "overflow_x": null,
            "grid_auto_flow": null,
            "grid_area": null,
            "grid_template_columns": null,
            "flex": null,
            "_model_name": "LayoutModel",
            "justify_items": null,
            "grid_row": null,
            "max_height": null,
            "align_content": null,
            "visibility": null,
            "align_self": null,
            "height": null,
            "min_height": null,
            "padding": null,
            "grid_auto_rows": null,
            "grid_gap": null,
            "max_width": null,
            "order": null,
            "_view_module_version": "1.2.0",
            "grid_template_areas": null,
            "object_position": null,
            "object_fit": null,
            "grid_auto_columns": null,
            "margin": null,
            "display": null,
            "left": null
          }
        },
        "577588061a8d4e4089754d66e32c39a7": {
          "model_module": "@jupyter-widgets/controls",
          "model_name": "ProgressStyleModel",
          "model_module_version": "1.5.0",
          "state": {
            "_view_name": "StyleView",
            "_model_name": "ProgressStyleModel",
            "description_width": "",
            "_view_module": "@jupyter-widgets/base",
            "_model_module_version": "1.5.0",
            "_view_count": null,
            "_view_module_version": "1.2.0",
            "bar_color": null,
            "_model_module": "@jupyter-widgets/controls"
          }
        },
        "20cbd5112a7646f496850b640e186d93": {
          "model_module": "@jupyter-widgets/base",
          "model_name": "LayoutModel",
          "model_module_version": "1.2.0",
          "state": {
            "_view_name": "LayoutView",
            "grid_template_rows": null,
            "right": null,
            "justify_content": null,
            "_view_module": "@jupyter-widgets/base",
            "overflow": null,
            "_model_module_version": "1.2.0",
            "_view_count": null,
            "flex_flow": null,
            "width": null,
            "min_width": null,
            "border": null,
            "align_items": null,
            "bottom": null,
            "_model_module": "@jupyter-widgets/base",
            "top": null,
            "grid_column": null,
            "overflow_y": null,
            "overflow_x": null,
            "grid_auto_flow": null,
            "grid_area": null,
            "grid_template_columns": null,
            "flex": null,
            "_model_name": "LayoutModel",
            "justify_items": null,
            "grid_row": null,
            "max_height": null,
            "align_content": null,
            "visibility": null,
            "align_self": null,
            "height": null,
            "min_height": null,
            "padding": null,
            "grid_auto_rows": null,
            "grid_gap": null,
            "max_width": null,
            "order": null,
            "_view_module_version": "1.2.0",
            "grid_template_areas": null,
            "object_position": null,
            "object_fit": null,
            "grid_auto_columns": null,
            "margin": null,
            "display": null,
            "left": null
          }
        },
        "cc874a74859c4ae1b0438ffa964aaf09": {
          "model_module": "@jupyter-widgets/controls",
          "model_name": "DescriptionStyleModel",
          "model_module_version": "1.5.0",
          "state": {
            "_view_name": "StyleView",
            "_model_name": "DescriptionStyleModel",
            "description_width": "",
            "_view_module": "@jupyter-widgets/base",
            "_model_module_version": "1.5.0",
            "_view_count": null,
            "_view_module_version": "1.2.0",
            "_model_module": "@jupyter-widgets/controls"
          }
        },
        "4d63494d74194cd1bf97bc3f681fd87e": {
          "model_module": "@jupyter-widgets/base",
          "model_name": "LayoutModel",
          "model_module_version": "1.2.0",
          "state": {
            "_view_name": "LayoutView",
            "grid_template_rows": null,
            "right": null,
            "justify_content": null,
            "_view_module": "@jupyter-widgets/base",
            "overflow": null,
            "_model_module_version": "1.2.0",
            "_view_count": null,
            "flex_flow": null,
            "width": null,
            "min_width": null,
            "border": null,
            "align_items": null,
            "bottom": null,
            "_model_module": "@jupyter-widgets/base",
            "top": null,
            "grid_column": null,
            "overflow_y": null,
            "overflow_x": null,
            "grid_auto_flow": null,
            "grid_area": null,
            "grid_template_columns": null,
            "flex": null,
            "_model_name": "LayoutModel",
            "justify_items": null,
            "grid_row": null,
            "max_height": null,
            "align_content": null,
            "visibility": null,
            "align_self": null,
            "height": null,
            "min_height": null,
            "padding": null,
            "grid_auto_rows": null,
            "grid_gap": null,
            "max_width": null,
            "order": null,
            "_view_module_version": "1.2.0",
            "grid_template_areas": null,
            "object_position": null,
            "object_fit": null,
            "grid_auto_columns": null,
            "margin": null,
            "display": null,
            "left": null
          }
        }
      }
    }
  },
  "cells": [
    {
      "cell_type": "markdown",
      "metadata": {
        "id": "view-in-github",
        "colab_type": "text"
      },
      "source": [
        "<a href=\"https://colab.research.google.com/github/LorenzoLamberti94/APAI2021/blob/main/Solution_LAB1_APAI_DNN_Definition_%26_Training.ipynb\" target=\"_parent\"><img src=\"https://colab.research.google.com/assets/colab-badge.svg\" alt=\"Open In Colab\"/></a>"
      ]
    },
    {
      "cell_type": "markdown",
      "metadata": {
        "id": "mDxvjs35_SWd"
      },
      "source": [
        "# **LAB1 APAI: DNN Definition & Training**\n",
        "\n",
        "**Credits**: *Lorenzo Lamberti, Francesco Conti,  Alessio Burrello, Nazareno Bruschi, Davide Nadalini, Alberto Dequino.*\n",
        "*(University of Bologna)*\n",
        "\n",
        "**Contacts**: *lorenzo.lamberti@unibo.it*, *f.conti@unibo.it* \n",
        "\n"
      ]
    },
    {
      "cell_type": "markdown",
      "metadata": {
        "id": "eSLWHhFQh56H"
      },
      "source": [
        "## **In this Hands-on session:**\n",
        "\n",
        "A first-time user of Pytorch framework will learn how to define, train, and test a neural network over the Fashion-MNIST dataset."
      ]
    },
    {
      "cell_type": "markdown",
      "metadata": {
        "id": "aO4p3Mx_t6Qf"
      },
      "source": [
        "### Tasks:\n",
        "\n",
        "---\n",
        "\n",
        "1.  PyTorch definition of a NN model;\n",
        "2. Calculate MAC and kB of the Neural model defined;\n",
        "3. Data loader for Fashion-MNIST\n",
        "4. Code for testing a neural network on Fashion MNIST dataset;\n",
        "5. Code for training a neural network on Fashion MNIST;\n",
        "6. Save and load model’s trained weights;\n",
        "7. Bonus: reduce network’s size under 5MMAC \n",
        "---\n",
        "\n",
        "\n"
      ]
    },
    {
      "cell_type": "markdown",
      "metadata": {
        "id": "MOsVZLnUzMqU"
      },
      "source": [
        "## Let's start !"
      ]
    },
    {
      "cell_type": "markdown",
      "metadata": {
        "id": "TH8A3ArSIzOI"
      },
      "source": [
        "Let us start by installing dependencies..."
      ]
    },
    {
      "cell_type": "code",
      "metadata": {
        "colab": {
          "base_uri": "https://localhost:8080/"
        },
        "id": "Nfj8089GgMZq",
        "cellView": "form",
        "outputId": "91f04a34-c51e-48cb-d283-e5bac76c40a3"
      },
      "source": [
        "#@title Install dependencies { form-width: \"20%\" }\n",
        "\n",
        "# these ones should already be available\n",
        "!pip install numpy\n",
        "!pip install tqdm\n",
        "!pip install pillow\n",
        "\n",
        "!pip install torch\n",
        "!pip install torchvision\n",
        "\n",
        "!pip install thop\n",
        "!pip install matplotlib\n",
        "!pip install sklearn\n",
        "!pip install torchinfo\n",
        "\n",
        "# You will need these if running on a private server (no colab)\n",
        "# !pip install jupyter\n",
        "# !pip install ipywidgets\n",
        "# !jupyter nbextension enable --py widgetsnbextension\n",
        "\n"
      ],
      "execution_count": 57,
      "outputs": [
        {
          "output_type": "stream",
          "name": "stdout",
          "text": [
            "Requirement already satisfied: numpy in /usr/local/lib/python3.7/dist-packages (1.19.5)\n",
            "Requirement already satisfied: tqdm in /usr/local/lib/python3.7/dist-packages (4.62.3)\n",
            "Requirement already satisfied: pillow in /usr/local/lib/python3.7/dist-packages (7.1.2)\n",
            "Requirement already satisfied: torch in /usr/local/lib/python3.7/dist-packages (1.10.0+cu111)\n",
            "Requirement already satisfied: typing-extensions in /usr/local/lib/python3.7/dist-packages (from torch) (3.10.0.2)\n",
            "Requirement already satisfied: torchvision in /usr/local/lib/python3.7/dist-packages (0.11.1+cu111)\n",
            "Requirement already satisfied: torch==1.10.0 in /usr/local/lib/python3.7/dist-packages (from torchvision) (1.10.0+cu111)\n",
            "Requirement already satisfied: numpy in /usr/local/lib/python3.7/dist-packages (from torchvision) (1.19.5)\n",
            "Requirement already satisfied: pillow!=8.3.0,>=5.3.0 in /usr/local/lib/python3.7/dist-packages (from torchvision) (7.1.2)\n",
            "Requirement already satisfied: typing-extensions in /usr/local/lib/python3.7/dist-packages (from torch==1.10.0->torchvision) (3.10.0.2)\n",
            "Requirement already satisfied: thop in /usr/local/lib/python3.7/dist-packages (0.0.31.post2005241907)\n",
            "Requirement already satisfied: torch>=1.0.0 in /usr/local/lib/python3.7/dist-packages (from thop) (1.10.0+cu111)\n",
            "Requirement already satisfied: typing-extensions in /usr/local/lib/python3.7/dist-packages (from torch>=1.0.0->thop) (3.10.0.2)\n",
            "Requirement already satisfied: matplotlib in /usr/local/lib/python3.7/dist-packages (3.2.2)\n",
            "Requirement already satisfied: python-dateutil>=2.1 in /usr/local/lib/python3.7/dist-packages (from matplotlib) (2.8.2)\n",
            "Requirement already satisfied: cycler>=0.10 in /usr/local/lib/python3.7/dist-packages (from matplotlib) (0.11.0)\n",
            "Requirement already satisfied: pyparsing!=2.0.4,!=2.1.2,!=2.1.6,>=2.0.1 in /usr/local/lib/python3.7/dist-packages (from matplotlib) (2.4.7)\n",
            "Requirement already satisfied: numpy>=1.11 in /usr/local/lib/python3.7/dist-packages (from matplotlib) (1.19.5)\n",
            "Requirement already satisfied: kiwisolver>=1.0.1 in /usr/local/lib/python3.7/dist-packages (from matplotlib) (1.3.2)\n",
            "Requirement already satisfied: six>=1.5 in /usr/local/lib/python3.7/dist-packages (from python-dateutil>=2.1->matplotlib) (1.15.0)\n",
            "Requirement already satisfied: sklearn in /usr/local/lib/python3.7/dist-packages (0.0)\n",
            "Requirement already satisfied: scikit-learn in /usr/local/lib/python3.7/dist-packages (from sklearn) (0.22.2.post1)\n",
            "Requirement already satisfied: joblib>=0.11 in /usr/local/lib/python3.7/dist-packages (from scikit-learn->sklearn) (1.1.0)\n",
            "Requirement already satisfied: scipy>=0.17.0 in /usr/local/lib/python3.7/dist-packages (from scikit-learn->sklearn) (1.4.1)\n",
            "Requirement already satisfied: numpy>=1.11.0 in /usr/local/lib/python3.7/dist-packages (from scikit-learn->sklearn) (1.19.5)\n",
            "Requirement already satisfied: torchinfo in /usr/local/lib/python3.7/dist-packages (1.5.3)\n"
          ]
        }
      ]
    },
    {
      "cell_type": "markdown",
      "metadata": {
        "id": "077hTkLtzUar"
      },
      "source": [
        "## Imports:\n",
        "Now we import some packages  we will need:"
      ]
    },
    {
      "cell_type": "code",
      "metadata": {
        "colab": {
          "base_uri": "https://localhost:8080/"
        },
        "id": "HLlnWjXhg17X",
        "outputId": "7e1e5ebd-0180-49d1-83ae-c67c9f0dc7b4"
      },
      "source": [
        "#basic\n",
        "import os\n",
        "from os.path import join\n",
        "import numpy as np\n",
        "from tqdm import tqdm\n",
        "import time\n",
        "\n",
        "#plotting\n",
        "import matplotlib.pyplot as plt\n",
        "\n",
        "#torch\n",
        "import torch; print('\\nPyTorch version in use:', torch.__version__, '\\ncuda avail: ', torch.cuda.is_available())\n",
        "import torch.nn as nn\n",
        "import torch.nn.functional as F\n",
        "import torch.optim as optim\n",
        "from torch.utils.data import DataLoader\n",
        "\n",
        "#torchvision\n",
        "import torchvision\n",
        "from torchvision import transforms, datasets\n",
        "\n",
        "# others\n",
        "from copy import deepcopy\n",
        "from tqdm.autonotebook import tqdm\n",
        "from sklearn.metrics import precision_score, recall_score, f1_score, accuracy_score\n",
        "import inspect\n"
      ],
      "execution_count": 58,
      "outputs": [
        {
          "output_type": "stream",
          "name": "stdout",
          "text": [
            "\n",
            "PyTorch version in use: 1.10.0+cu111 \n",
            "cuda avail:  True\n"
          ]
        }
      ]
    },
    {
      "cell_type": "markdown",
      "metadata": {
        "id": "oi8zt0JZ0D7Z"
      },
      "source": [
        "## Set device\n",
        "Between \"cuda\" and \"cpu\""
      ]
    },
    {
      "cell_type": "code",
      "metadata": {
        "colab": {
          "base_uri": "https://localhost:8080/"
        },
        "id": "WY59unFq40v7",
        "outputId": "c83e71a9-f605-43b7-9c0f-b48280833132"
      },
      "source": [
        "device = torch.device('cuda' if torch.cuda.is_available() else 'cpu')\n",
        "print('Device: %s' % device)"
      ],
      "execution_count": 59,
      "outputs": [
        {
          "output_type": "stream",
          "name": "stdout",
          "text": [
            "Device: cuda\n"
          ]
        }
      ]
    },
    {
      "cell_type": "markdown",
      "metadata": {
        "id": "SmSNU-3lGK9d"
      },
      "source": [
        "# **Task 1:** Creating a Model\n",
        "---\n",
        "\n"
      ]
    },
    {
      "cell_type": "markdown",
      "metadata": {
        "id": "UaCBw-WVipNK"
      },
      "source": [
        "The first real step is to define the network topology. We will define a custom one.\n",
        "\n",
        "* Use `torch.nn.Module`,\n",
        "* **IMPORTANT:** Instantiate a separate `torch.nn.Module` for each node in your topology; This is mandatory for parametric modules (e.g., `torch.nn.Conv2d`, `nn.Linear`,`nn.BatchNorm2d`).\n",
        "\n",
        "---\n",
        "\n",
        "You can use the following modules:\n",
        "* `nn.Conv2d`\n",
        "* `nn.Linear`\n",
        "* `nn.BatchNorm2d`\n",
        "* `nn.ReLU`\n",
        "* `nn.MaxPool2d`\n",
        "* `nn.LogSoftmax`\n",
        "\n"
      ]
    },
    {
      "cell_type": "markdown",
      "metadata": {
        "id": "euYJstpwV4Ma"
      },
      "source": [
        "**You must define the NN topology following this diagram:**"
      ]
    },
    {
      "cell_type": "markdown",
      "metadata": {
        "id": "Xns9ClrMV7Tv"
      },
      "source": [
        "![NN2 (1).png](data:image/png;base64,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)"
      ]
    },
    {
      "cell_type": "markdown",
      "metadata": {
        "id": "I0sZH5H2L76D"
      },
      "source": [
        "### This is how our network looks like:"
      ]
    },
    {
      "cell_type": "markdown",
      "metadata": {
        "id": "oHoDn8MmEX3E"
      },
      "source": [
        "![immagine_2021-11-14_023208.png](data:image/png;base64,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)"
      ]
    },
    {
      "cell_type": "code",
      "metadata": {
        "id": "s11ciz67kuNh"
      },
      "source": [
        "class ConvBnRelu(nn.Module):\n",
        "    def __init__(self, in_channels, out_channels, stride):\n",
        "        super(ConvBnRelu, self).__init__()\n",
        "        self.conv1 = nn.Conv2d(in_channels=in_channels, out_channels=out_channels, kernel_size=3, stride=stride, padding=1, bias=False, padding_mode='zeros')\n",
        "        self.bn1 = nn.BatchNorm2d(num_features=out_channels, eps=1e-05, momentum=0.1, affine=True, track_running_stats=True)\n",
        "        self.relu1 = nn.ReLU()\n",
        "\n",
        "    def forward(self, x):\n",
        "        x = self.conv1(x)\n",
        "        x = self.bn1(x)\n",
        "        x = self.relu1(x)\n",
        "        return x\n",
        "\n",
        "class CNN(nn.Module):\n",
        "    def __init__(self, n_classes=10, depth_mult=1.):\n",
        "        super(CNN, self).__init__()\n",
        "        # first_conv_channels=int(32*depth_mult)\n",
        "        self.ConvBnRelu1 = ConvBnRelu(1, 32,  stride=1) # conv3x3: ch_in=1, ch_out=32, in=28x28, out=28x28/2\n",
        "        self.ConvBnRelu2 = ConvBnRelu(32, 64,  stride=1) # conv3x3: ch_in=1, ch_out=32, in=28x28, out=28x28/2\n",
        "        self.pool = nn.MaxPool2d(kernel_size=2, stride=2, padding=0, dilation=1, return_indices=False, ceil_mode=False) # MaxPool2: in=14x14, out=14x14/2\n",
        "        self.ConvBnRelu3 = ConvBnRelu(64, 128, stride=2) # conv3x3: ch_in=32, ch_out=64, in=7x7, out=7x7\n",
        "        self.dropout = nn.Dropout(p=0.5, inplace=False)\n",
        "        fc_in_size = 7*7*128\n",
        "        self.fc = nn.Linear(fc_in_size, n_classes, bias=False)\n",
        "        self.softmax = nn.LogSoftmax(dim=1)\n",
        "\n",
        "    def forward(self, x):\n",
        "        x = self.ConvBnRelu1(x)\n",
        "        x = self.ConvBnRelu2(x)\n",
        "        x = self.pool(x)\n",
        "        x = self.ConvBnRelu3(x)\n",
        "        x = self.dropout(x)\n",
        "        x = x.flatten(1)\n",
        "        x = self.fc(x)\n",
        "        output = self.softmax(x)\n",
        "        return output\n",
        "\n",
        "net = CNN().to(device)\n"
      ],
      "execution_count": 60,
      "outputs": []
    },
    {
      "cell_type": "markdown",
      "metadata": {
        "id": "VP3aw9Re2_Np"
      },
      "source": [
        "### Test defined network, and verify layers\n",
        "\n",
        "\n"
      ]
    },
    {
      "cell_type": "code",
      "metadata": {
        "id": "e8KvUHPmm9PC"
      },
      "source": [
        "#@title Dummy input  { form-width: \"70%\" }\n",
        "# input_size = (batch_n, img_ch,img_width, img_height)\n",
        "input_size = (1, 1, 28, 28)  #@param\n",
        "input = torch.randn(input_size).to(device)#add one extra field to input size for batch_n\n"
      ],
      "execution_count": 61,
      "outputs": []
    },
    {
      "cell_type": "markdown",
      "metadata": {
        "id": "uDvVv8ASKVb0"
      },
      "source": [
        "Print output tensor size and the CNN network topology defined:"
      ]
    },
    {
      "cell_type": "code",
      "metadata": {
        "colab": {
          "base_uri": "https://localhost:8080/"
        },
        "id": "kSa1Bg3722Gz",
        "outputId": "e611b40c-394c-486a-f744-b45433810927"
      },
      "source": [
        "output = net(input)\n",
        "print('Output shape:', output.shape)\n",
        "print('Network Topology:\\n',net)"
      ],
      "execution_count": 62,
      "outputs": [
        {
          "output_type": "stream",
          "name": "stdout",
          "text": [
            "Output shape: torch.Size([1, 10])\n",
            "Network Topology:\n",
            " CNN(\n",
            "  (ConvBnRelu1): ConvBnRelu(\n",
            "    (conv1): Conv2d(1, 32, kernel_size=(3, 3), stride=(1, 1), padding=(1, 1), bias=False)\n",
            "    (bn1): BatchNorm2d(32, eps=1e-05, momentum=0.1, affine=True, track_running_stats=True)\n",
            "    (relu1): ReLU()\n",
            "  )\n",
            "  (ConvBnRelu2): ConvBnRelu(\n",
            "    (conv1): Conv2d(32, 64, kernel_size=(3, 3), stride=(1, 1), padding=(1, 1), bias=False)\n",
            "    (bn1): BatchNorm2d(64, eps=1e-05, momentum=0.1, affine=True, track_running_stats=True)\n",
            "    (relu1): ReLU()\n",
            "  )\n",
            "  (pool): MaxPool2d(kernel_size=2, stride=2, padding=0, dilation=1, ceil_mode=False)\n",
            "  (ConvBnRelu3): ConvBnRelu(\n",
            "    (conv1): Conv2d(64, 128, kernel_size=(3, 3), stride=(2, 2), padding=(1, 1), bias=False)\n",
            "    (bn1): BatchNorm2d(128, eps=1e-05, momentum=0.1, affine=True, track_running_stats=True)\n",
            "    (relu1): ReLU()\n",
            "  )\n",
            "  (dropout): Dropout(p=0.5, inplace=False)\n",
            "  (fc): Linear(in_features=6272, out_features=10, bias=False)\n",
            "  (softmax): LogSoftmax(dim=1)\n",
            ")\n"
          ]
        }
      ]
    },
    {
      "cell_type": "markdown",
      "metadata": {
        "id": "IrPQVjWGyrMA"
      },
      "source": [
        "# **Task 2:** Count network's parameters and MAC operations\n",
        "\n",
        "---\n",
        "\n",
        "Let's define a couple of useful functions to measure the model's MAC operations and number of parameters.\n",
        "These two functions are equivalent !"
      ]
    },
    {
      "cell_type": "code",
      "metadata": {
        "colab": {
          "base_uri": "https://localhost:8080/"
        },
        "id": "NAsWm5qHsBLe",
        "outputId": "1e475aa9-0a38-458c-ec7a-74cbe25ef6a7"
      },
      "source": [
        "def network_size_and_mac(net, input_size, verbose=False):\n",
        "    from thop import profile\n",
        "    if verbose: print('input_size is now:', input_size)\n",
        "    input = torch.randn(input_size).to(device) # initialize a random tensor\n",
        "    macs, params = profile(net, inputs=(input, ), verbose=verbose) #toggle verbose to True to debug errors\n",
        "    print(\"Network's \\tn°params: %.3fk \\tMAC: %.3fM\\n\" % (params/1e3, macs/1e6))\n",
        "\n",
        "def print_summary(net, input_size):\n",
        "    from torchinfo import summary\n",
        "    print(summary(net, input_size=input_size))\n",
        "\n",
        "network_size_and_mac(deepcopy(net), input_size) #use deepcopy to avoid graph modifications by hese function calls\n",
        "print_summary(deepcopy(net), input_size) #use deepcopy to avoid graph modifications by hese function calls"
      ],
      "execution_count": 63,
      "outputs": [
        {
          "output_type": "stream",
          "name": "stdout",
          "text": [
            "Network's \tn°params: 155.616k \tMAC: 18.515M\n",
            "\n",
            "==========================================================================================\n",
            "Layer (type:depth-idx)                   Output Shape              Param #\n",
            "==========================================================================================\n",
            "CNN                                      --                        --\n",
            "├─ConvBnRelu: 1-1                        [1, 32, 28, 28]           --\n",
            "│    └─Conv2d: 2-1                       [1, 32, 28, 28]           288\n",
            "│    └─BatchNorm2d: 2-2                  [1, 32, 28, 28]           64\n",
            "│    └─ReLU: 2-3                         [1, 32, 28, 28]           --\n",
            "├─ConvBnRelu: 1-2                        [1, 64, 28, 28]           --\n",
            "│    └─Conv2d: 2-4                       [1, 64, 28, 28]           18,432\n",
            "│    └─BatchNorm2d: 2-5                  [1, 64, 28, 28]           128\n",
            "│    └─ReLU: 2-6                         [1, 64, 28, 28]           --\n",
            "├─MaxPool2d: 1-3                         [1, 64, 14, 14]           --\n",
            "├─ConvBnRelu: 1-4                        [1, 128, 7, 7]            --\n",
            "│    └─Conv2d: 2-7                       [1, 128, 7, 7]            73,728\n",
            "│    └─BatchNorm2d: 2-8                  [1, 128, 7, 7]            256\n",
            "│    └─ReLU: 2-9                         [1, 128, 7, 7]            --\n",
            "├─Dropout: 1-5                           [1, 128, 7, 7]            --\n",
            "├─Linear: 1-6                            [1, 10]                   62,720\n",
            "├─LogSoftmax: 1-7                        [1, 10]                   --\n",
            "==========================================================================================\n",
            "Total params: 155,616\n",
            "Trainable params: 155,616\n",
            "Non-trainable params: 0\n",
            "Total mult-adds (M): 18.35\n",
            "==========================================================================================\n",
            "Input size (MB): 0.00\n",
            "Forward/backward pass size (MB): 1.30\n",
            "Params size (MB): 0.62\n",
            "Estimated Total Size (MB): 1.93\n",
            "==========================================================================================\n"
          ]
        }
      ]
    },
    {
      "cell_type": "markdown",
      "metadata": {
        "id": "mPHKSY4Qs2kz"
      },
      "source": [
        "**TorchInfo insights:**\n",
        "This tool calculates the Parameters Size as (number_of_parameters*4).\n",
        "This because each parameter needs 4 Bytes (32bit) to be represented in float32 format."
      ]
    },
    {
      "cell_type": "markdown",
      "metadata": {
        "id": "e3sgwFOIwgM3"
      },
      "source": [
        "# **Task 3:** Dataset & DataLoaders\n",
        "\n",
        "---\n",
        "\n",
        "In this notebook we'll a custom CNN on the [Fashion-MNIST dataset](https://github.com/zalandoresearch/fashion-mnist), which is a set of 28x28 grayscale images of clothes.\n",
        "This dataset is provided by the [Torchvision package](https://pytorch.org/docs/stable/torchvision/index.html).\n",
        "\n",
        "Before diving in, let's look at the Fashion MNIST dataset. The dataset has 6k training images and 1k validation images. It has a total of 10 classes, each represented by an integer index. The following cell creates a mapping from these indices to their corresponding human-readable strings, then downloads the Fashion MNIST training dataset from Torchvision. It may take a minute to run.\n",
        "\n",
        "Torchvision provides easy access to many datasets, including COCO, CIFAR, and Cityscapes. See its documentation for a complete list. \n",
        "\n",
        "The dataset is stored on the Colab VM in the `/data/fashionmnist` directory.\n",
        "\n",
        "*You can explore dataset images by changing the index below:*"
      ]
    },
    {
      "cell_type": "code",
      "metadata": {
        "colab": {
          "base_uri": "https://localhost:8080/",
          "height": 258
        },
        "id": "P9YKtOiYxAsS",
        "outputId": "f3a922af-ab6e-465a-8191-6eb98f52ba0f"
      },
      "source": [
        "#@title Show dataset image samples\n",
        "class_map = {\n",
        "0 : \"t-shirt\",\n",
        "1 : \"trouser\",\n",
        "2 : \"pullover\",\n",
        "3 : \"dress\",\n",
        "4 : \"coat\",\n",
        "5 : \"sandal\",\n",
        "6 : \"shirt\",\n",
        "7 : \"sneaker\",\n",
        "8 : \"bag\",\n",
        "9 : \"ankle boot\"\n",
        "}\n",
        "\n",
        "# Downloads the Fashion MNIST dataset using Torchvision\n",
        "path='./data/fashionmnist'\n",
        "fashion_mnist_dataset = datasets.FashionMNIST(\n",
        "    path,\n",
        "    train=True,\n",
        "    download=True)\n",
        "\n",
        "img_index = 0 #@param {type:\"integer\"}\n",
        "\n",
        "tup = fashion_mnist_dataset[img_index] # tup = (image, label)\n",
        "display(tup[0].resize((224, 224)))\n",
        "print(class_map[tup[1]])"
      ],
      "execution_count": 64,
      "outputs": [
        {
          "output_type": "display_data",
          "data": {
            "image/png": "[encoded data removed]",
            "text/plain": [
              "<PIL.Image.Image image mode=L size=224x224 at 0x7F0F9E0BAC90>"
            ]
          },
          "metadata": {}
        },
        {
          "output_type": "stream",
          "name": "stdout",
          "text": [
            "ankle boot\n"
          ]
        }
      ]
    },
    {
      "cell_type": "markdown",
      "metadata": {
        "id": "W8CslUMA1FZD"
      },
      "source": [
        "### Data loaders for Fashion MNIST\n",
        "\n"
      ]
    },
    {
      "cell_type": "markdown",
      "metadata": {
        "id": "LIpI-cuqMbLj"
      },
      "source": [
        "The code below first sets up transform using `torhvision transfroms` for converting images to pytorch tensors and normalizing the images.\n",
        "\n",
        "Next, We use `torchvision datasets` for dowloading the fashion mnist dataset and applying transforms which we defined above.\n",
        "\n",
        "* `train_dataset` contains the training data.\n",
        "* `valid_dataset` contains the validation data\n",
        "\n",
        "Next, We use `pytorch dataloader` for making dataloader from the train and validation sets."
      ]
    },
    {
      "cell_type": "code",
      "metadata": {
        "colab": {
          "base_uri": "https://localhost:8080/"
        },
        "id": "_Aw_XFl8oCOZ",
        "outputId": "97c4b270-8907-4751-e174-ace909f95d0a"
      },
      "source": [
        "def get_data_loaders(train_batch_size=128, val_batch_size=128, path='./data/fashionmnist',verbose=False):\n",
        "    #define data transformations\n",
        "    fashion_mnist = datasets.FashionMNIST(download=True, train=True, root=path).train_data.float()\n",
        "    data_transform = transforms.Compose([transforms.ToTensor(), \n",
        "                                         transforms.Normalize((fashion_mnist.mean()/255,), (fashion_mnist.std()/255,))])\n",
        "    \n",
        "    # Load train/valid datasets\n",
        "    train_dataset = datasets.FashionMNIST(download=False, root=path, transform=data_transform, train=True)\n",
        "    valid_dataset = datasets.FashionMNIST(download=False, root=path, transform=data_transform, train=False)\n",
        "\n",
        "    # define dataloaders\n",
        "    train_loader = torch.utils.data.DataLoader(\n",
        "        train_dataset, \n",
        "        batch_size=train_batch_size, \n",
        "        shuffle=True)\n",
        "    valid_loader = torch.utils.data.DataLoader(\n",
        "        valid_dataset, \n",
        "        batch_size=val_batch_size, \n",
        "        shuffle=False)\n",
        "\n",
        "    # count how many images we have in each set\n",
        "    train_dataset_size = len(train_dataset)\n",
        "    valid_dataset_size = len(valid_dataset)\n",
        "    if verbose: print('Dataset size:\\nTraining images %d,\\nValidation images %d' % (train_dataset_size, valid_dataset_size))\n",
        "    \n",
        "    return train_loader, valid_loader\n",
        "\n",
        "train_loader, val_loader = get_data_loaders( verbose=True)\n"
      ],
      "execution_count": 65,
      "outputs": [
        {
          "output_type": "stream",
          "name": "stderr",
          "text": [
            "/usr/local/lib/python3.7/dist-packages/torchvision/datasets/mnist.py:62: UserWarning: train_data has been renamed data\n",
            "  warnings.warn(\"train_data has been renamed data\")\n"
          ]
        },
        {
          "output_type": "stream",
          "name": "stdout",
          "text": [
            "Dataset size:\n",
            "Training images 60000,\n",
            "Validation images 10000\n"
          ]
        }
      ]
    },
    {
      "cell_type": "markdown",
      "metadata": {
        "id": "R7ZfZ7Ic4h5t"
      },
      "source": [
        "#**Task 4:** testing the CNN over the dataset\n",
        "\n",
        "---\n",
        "\n"
      ]
    },
    {
      "cell_type": "markdown",
      "metadata": {
        "id": "t0iCOJDS1J8I"
      },
      "source": [
        "### Accuracy Metric calculation"
      ]
    },
    {
      "cell_type": "markdown",
      "metadata": {
        "id": "Km0hniV74L_Q"
      },
      "source": [
        "First we define a function to calculate the accuracy, defined as: `accuracy = num_correct_predictions/total_n_predictions`\n",
        "\n"
      ]
    },
    {
      "cell_type": "code",
      "metadata": {
        "id": "x2s9V-q0B3hP"
      },
      "source": [
        "def calculate_accuracy(best_guesses, targets):\n",
        "    num_correct = torch.eq(targets, best_guesses).sum().item()\n",
        "    total_guesses = len(targets)\n",
        "    correct_percentage = num_correct/total_guesses\n",
        "    return correct_percentage"
      ],
      "execution_count": 66,
      "outputs": []
    },
    {
      "cell_type": "markdown",
      "metadata": {
        "id": "Xqk806h5AEY7"
      },
      "source": [
        "Or you could take advantage of scikitlearn to calcultate the Accuracy! (we wont use it in this tutorial, but it would be a ready-to-use function!)"
      ]
    },
    {
      "cell_type": "code",
      "metadata": {
        "id": "OvrsE2oTqCbb"
      },
      "source": [
        "def calculate_metric(metric_fn, true_y, pred_y):\n",
        "    if \"average\" in inspect.getfullargspec(metric_fn).args:\n",
        "        return metric_fn(true_y, pred_y, average=\"macro\")\n",
        "    else:\n",
        "        return metric_fn(true_y, pred_y)\n",
        "    "
      ],
      "execution_count": 67,
      "outputs": []
    },
    {
      "cell_type": "markdown",
      "metadata": {
        "id": "k8SL9AZ0M2Ak"
      },
      "source": [
        "### Testing Function\n",
        "Before training we want to verify our data->network pipeline and set a baseline level of performance. The following cell defines a function, `validate,` that runs a network on a dataset and shows the percentage of the dataset that was correctly classified."
      ]
    },
    {
      "cell_type": "code",
      "metadata": {
        "id": "mLPgZVOg4mjt"
      },
      "source": [
        "def validate(net, val_loader, loss_function, accuracy_score):\n",
        "    val_losses = []\n",
        "    val_accuracy = []\n",
        "    \n",
        "    # set net to evaluating (testing)\n",
        "    net.eval()\n",
        "    with torch.no_grad():\n",
        "        for batch_idx, data in enumerate(val_loader):\n",
        "            inputs, labels = data[0].to(device), data[1].to(device)\n",
        "\n",
        "            # net forward\n",
        "            outputs = net(inputs) # this gets the prediction from the network\n",
        "\n",
        "            # calculate loss\n",
        "            loss = loss_function(outputs, labels)\n",
        "            val_losses.append(loss) # append current average training loss to a buffer variable, for plotting learning curve\n",
        "\n",
        "            # calculate validation accuracy\n",
        "            predicted_classes = torch.max(outputs, 1)[1] # get class from network's prediction\n",
        "            val_accuracy.append(calculate_accuracy(predicted_classes.cpu(), labels.cpu())) \n",
        "            # val_accuracy.append(calculate_metric(accuracy_score, labels.cpu(), predicted_classes.cpu())) #this is the same accuracy calculated with scikitlearn\n",
        "            \n",
        "    average_val_loss = sum(val_losses)/(batch_idx+1)\n",
        "    return val_accuracy, average_val_loss\n",
        "    "
      ],
      "execution_count": 68,
      "outputs": []
    },
    {
      "cell_type": "markdown",
      "metadata": {
        "id": "fr82RgWn3fVt"
      },
      "source": [
        "You should see the untrained network guess about 10% of the dataset correctly, since it's randomly guessing and there are 10 classes."
      ]
    },
    {
      "cell_type": "code",
      "metadata": {
        "colab": {
          "base_uri": "https://localhost:8080/"
        },
        "id": "NSjQ40yCNAvN",
        "outputId": "130ee613-25a3-4a39-ed42-e270a8616dd4"
      },
      "source": [
        "loss_function = nn.CrossEntropyLoss() # cross entropy works well for multi-class problems\n",
        "\n",
        "val_accuracy, average_val_loss = validate(net, val_loader, loss_function, accuracy_score)\n",
        "print('Accuracy: %0.2f'% (sum(val_accuracy)/len(val_accuracy)))"
      ],
      "execution_count": 69,
      "outputs": [
        {
          "output_type": "stream",
          "name": "stdout",
          "text": [
            "Accuracy: 0.09\n"
          ]
        }
      ]
    },
    {
      "cell_type": "markdown",
      "metadata": {
        "id": "QZ8wp9qIMsKE"
      },
      "source": [
        "# **Task 5:** Training Loop\n",
        "\n",
        "---\n",
        "\n"
      ]
    },
    {
      "cell_type": "markdown",
      "metadata": {
        "id": "lQ67crHMzNgt"
      },
      "source": [
        "**Basic training in PyTorch:**\n",
        "- enumerates a dataset in batches\n",
        "- runs the network on each batch\n",
        "- evaluates the network's performance using a loss function\n",
        "- use `net.zero_grad()` to reset the gradients before backpropagation.\n",
        "- calls `backward()` on the loss to propagate gradients through the network\n",
        "- uses an optimizer to `step()` and apply the gradients to the network's weights\n",
        "\n",
        "In this case we'll use: \n",
        "* **Loss Function:** [CrossEntropyLoss](https://pytorch.org/docs/master/nn.html#torch.nn.CrossEntropyLoss) since we have a classification problem.\n",
        "* **Optimizer:** We'll use the [Adam](https://pytorch.org/docs/master/optim.html#torch.optim.Adam) optimizer since it's a very easy optimizer to use (no need to tweak hyperparameters).\n",
        "\n",
        "**Loops:** \n",
        "\n",
        "*   for loop over `epochs`: at the end of each epoch we calculate the validation accuracy\n",
        "*   for loop over `training batches`: for each batch we backpropagate using the loss function\n",
        "\n",
        "\n",
        "\n",
        "\n",
        "- enumerates a dataset in batches\n",
        "- runs the network on each batch\n",
        "- evaluates the network's performance using a loss function\n",
        "- use `net.zero_grad()` to reset the gradients before backpropagation.\n",
        "- calls `backward()` on the loss to propagate gradients through the network\n",
        "- uses an optimizer to `step()` and apply the gradients to the network's weights\n",
        "```\n",
        "Pseudo-code:\n",
        "├─ for each epoch (enumerate):\n",
        "│  ├── for each training batch:\n",
        "│  │  ├── output = net(input)\n",
        "│  │  ├── loss = (output,ground_truth)\n",
        "│  │  ├── net.zero_grad()\n",
        "│  │  ├── loss.backward()\n",
        "│  │  ├── optimizer step()\n",
        "│  │  ├── calculate training accuracy\n",
        "│  │  └── print: training accuracy and loss\n",
        "│  └── test on validation set: print accuracy\n",
        "\n",
        "\n",
        "We'll only train for 5 epochs for timeliness. The following cell should take 4-5 minutes to run."
      ]
    },
    {
      "cell_type": "markdown",
      "metadata": {
        "id": "G4O-gp-I4lEM"
      },
      "source": [
        "### **Note: why do we need to reset the gradients**\n",
        "In PyTorch, for every mini-batch during the training phase, we typically want to explicitly set the gradients to zero (`net.zero_grads()`)before starting to do backpropragation (i.e., updating the Weights and biases) because PyTorch accumulates the gradients on subsequent backward passes. So, the default action has been set to accumulate (i.e. sum) the gradients on every `loss.backward()` call.\n",
        "\n",
        "I f you don't reset them, the gradient would be a combination of the old gradient, which you have already used to update your model parameters, and the newly-computed gradient. It would therefore point in some other direction than the intended direction towards the minimum (or maximum, in case of maximization objectives)."
      ]
    },
    {
      "cell_type": "code",
      "metadata": {
        "id": "APLpS8iGP5CP"
      },
      "source": [
        "#@title Training parameters { form-width: \"70%\" }\n",
        "epochs = 5 #@param {type:\"integer\"}\n",
        "batch_size = 128 #@param {type:\"integer\"}"
      ],
      "execution_count": 70,
      "outputs": []
    },
    {
      "cell_type": "code",
      "metadata": {
        "colab": {
          "base_uri": "https://localhost:8080/"
        },
        "id": "uMlB1mosp9I2",
        "outputId": "6f2b700e-33be-4141-b347-6c622ee98d42"
      },
      "source": [
        "# Move net to gpu:\n",
        "net.to(device)\n",
        "\n",
        "# Build Dataloaders\n",
        "train_loader, val_loader = get_data_loaders(batch_size, batch_size)\n",
        "\n",
        "# Define loss function\n",
        "loss_function = nn.CrossEntropyLoss() # cross entropy works well for multi-class problems\n",
        "\n",
        "\n",
        "def training(net, train_loader, val_loader, loss_function, epochs):    \n",
        "    # Define optimizer\n",
        "    optimizer = torch.optim.Adam(net.parameters(), lr=3e-4)\n",
        "\n",
        "    # count tot batches\n",
        "    tot_train_batches = len(train_loader)\n",
        "    tot_val_batches = len(val_loader)\n",
        "\n",
        "    # Create lists to store training history\n",
        "    train_loss_history = []\n",
        "    train_accuracy_history = []\n",
        "    # Create lists to store validation history\n",
        "    val_loss_history = []\n",
        "    val_accuracy_history = []\n",
        "\n",
        "    start_ts = time.time()\n",
        "    # loop for every epoch (training + evaluation)\n",
        "    for epoch in range(epochs):\n",
        "        total_epoch_loss = 0\n",
        "        train_accuracy = []\n",
        "\n",
        "        # progress bar (works in Jupyter notebook too!)\n",
        "        progress = tqdm(enumerate(train_loader), desc=\"Loss: \", total=tot_train_batches)\n",
        "\n",
        "        # ----------------- TRAINING  -------------------- #\n",
        "        # set model to training\n",
        "        net.train()\n",
        "        \n",
        "        for batch_idx, data in progress:\n",
        "            inputs, labels = data[0].to(device), data[1].to(device)\n",
        "            \n",
        "            # Compute prediction (forward input in the model)\n",
        "            outputs = net(inputs)\n",
        "            # Compute prediction error with the loss function\n",
        "            loss = loss_function(outputs, labels)\n",
        "            # Backpropagation\n",
        "            net.zero_grad()\n",
        "            loss.backward()\n",
        "            # Optimizer step\n",
        "            optimizer.step()\n",
        "\n",
        "            # getting training quality data\n",
        "            current_loss = loss.item()\n",
        "\n",
        "            #compute average loss\n",
        "            total_epoch_loss += current_loss\n",
        "            average_train_loss = total_epoch_loss/(batch_idx+1)\n",
        "            \n",
        "            # calculate training accuracy\n",
        "            predicted_classes = torch.max(outputs, 1)[1] # get class from network's prediction\n",
        "            train_accuracy.append(calculate_metric(accuracy_score, labels.cpu(), predicted_classes.cpu()))\n",
        "            average_train_accuracy = sum(train_accuracy)/(batch_idx+1)\n",
        "\n",
        "            # updating progress bar\n",
        "            progress.set_description(\"Training Loss: {:.4f}, Accuracy: {:.4f}\".format(average_train_loss, average_train_accuracy))\n",
        "            \n",
        "            ## DEBUG: stop after one single batch\n",
        "            # break\n",
        "\n",
        "        # ----------------- VALIDATION  ----------------- #\n",
        "        val_accuracy, average_val_loss = validate(net, val_loader, loss_function, accuracy_score)\n",
        "        \n",
        "        # compute mean accuracy\n",
        "        average_train_accuracy = sum(train_accuracy)/tot_train_batches\n",
        "        average_val_accuracy = sum(val_accuracy)/tot_val_batches\n",
        "\n",
        "        # print training/validation Accuracy and Loss\n",
        "        print('Epoch %d/%d' % (epoch+1,epochs), 'Training loss:  %.4f' % (average_train_loss), 'Accuracy: %.4f' % (average_train_accuracy))\n",
        "        print('Validation Loss: %.4f' % (average_val_loss), 'Accuracy: %.4f' % (average_val_accuracy))\n",
        "        \n",
        "        # append current average training loss to a buffer variable, for plotting learning curve later\n",
        "        train_loss_history.append(average_train_loss)\n",
        "        val_loss_history.append(average_val_loss)\n",
        "        train_accuracy_history.append(average_train_accuracy)\n",
        "        val_accuracy_history.append(average_val_accuracy)\n",
        "\n",
        "    print('Training time: %.1f seconds' % (time.time()-start_ts))\n",
        "\n",
        "            \n",
        "    return train_loss_history, train_accuracy_history, val_loss_history, val_accuracy_history\n",
        "\n"
      ],
      "execution_count": 71,
      "outputs": [
        {
          "output_type": "stream",
          "name": "stderr",
          "text": [
            "/usr/local/lib/python3.7/dist-packages/torchvision/datasets/mnist.py:62: UserWarning: train_data has been renamed data\n",
            "  warnings.warn(\"train_data has been renamed data\")\n"
          ]
        }
      ]
    },
    {
      "cell_type": "code",
      "metadata": {
        "colab": {
          "base_uri": "https://localhost:8080/",
          "height": 364,
          "referenced_widgets": [
            "2cfed226f8c94d758ee6681c56e51b0e",
            "0b1fbac74a5947b0a3ee1e5b5dac17dc",
            "b72c87fe405949e39b8caa659968cd78",
            "a245794a9f514cf787c850fa82ead57f",
            "1a6710b0d53e482e892113234ccc75bf",
            "7093c7e82843440ea94fa4b67964252b",
            "0a61ebbebbd245edbd90a9b41e4b657a",
            "3f87d6edc81a4cd9aec17b975c544b36",
            "9cfbe074cc504175aa311c09fb1ca146",
            "4066d151e3a24263bd3405d0f5452931",
            "a955c63954014a1cab8bd32466b3d238",
            "a8eb911af4f847b384ec3a31d47947a4",
            "0225f6e837504bf5a5946216cb1c49f8",
            "7aeb73706dbe48d7ae73dca911512740",
            "b3e9a4a2f3e044f195a3feb4bc38e47f",
            "227e8cd3ebf24c6298cec8747615c67f",
            "a7d6baf6a1504888bce63b16beb60196",
            "17c86610a6604c3bb37fe9ab3806aff1",
            "ff67004e74194f1fb4bb5e1a01db1465",
            "c411327081204eca8dbfb44365dcce7c",
            "0dd07d8c3f704bfca0e4dcf530d9cb73",
            "0ce8bb25eab3499788e6017fbed92637",
            "9b3a582c8a9a4e03b880fb959a4e2815",
            "7415ce8dcd634218a7561a2e03e1d8d4",
            "03918ffcfbb543088be6ceaccbddd7f4",
            "941b3d6f46fc4868a8ece91d13bef19d",
            "6d6db0426ae64158942c812b12824eda",
            "51ec73bf831748e48ef49250597da556",
            "239119552a664fc1a4b31e24fa568b78",
            "09099711f41d45e387c58cf49f86d52a",
            "4329379b1867495d80071536785b3819",
            "15125ca666574c9d94cd33981ac96036",
            "10f6945e18f04372b2cab49a9274452b",
            "ad4ac25487ca42f18758d60efe1bccf6",
            "9332c797d2444ffdae37897c93b6702c",
            "8a22715cdc8c407e9ad09c7ccade5bad",
            "b9eaaa8a1b8f4ff5816b6c582c466060",
            "5a8cbac01f064b0bb066b016057e0ae6",
            "fe3c7f27eb054c0b8bc97a0a049eb19a",
            "93852e262a9c4c4fa22f5c3fa75f07ef",
            "74359a8541fe42eaa2be900cec332154",
            "8628152df61d480da7cb9d0bbcf75c10",
            "7586ccbfacc94875b2c12fe3b63755d0",
            "c124b745ad14432187df6ed4b55d53db",
            "7858b88a3a344fb9b6ce9e3266bd662b",
            "5734b40f3f734372996bba7593b4c7f1",
            "52050af3ad364a9da5e1b181566448a2",
            "8d981c070a964407839dce87377dd480",
            "f79023c5950245b4b0ae9cc48a0de130",
            "1995bf3bc12b44acb2e91881b22ef3db",
            "2f03b7e3931b4221a38f371c8ae03e2e",
            "7e83889ce75949159a74904d6d7cd769",
            "70d4a21d957142cdad7ce45a2cf8cb97",
            "37b7bc39ea74404bb0ac43fd1fce3837",
            "f562de9264d8437ca6ac023fb51181f0"
          ]
        },
        "id": "a-NEAXGAtw6X",
        "outputId": "1414a937-d1cb-48cc-ea88-fba0d8f67bcb"
      },
      "source": [
        "(train_loss_history,\n",
        "train_accuracy_history, \n",
        "val_loss_history, \n",
        "val_accuracy_history) = training(net, train_loader, val_loader, loss_function, epochs)"
      ],
      "execution_count": 72,
      "outputs": [
        {
          "output_type": "display_data",
          "data": {
            "application/vnd.jupyter.widget-view+json": {
              "model_id": "2cfed226f8c94d758ee6681c56e51b0e",
              "version_minor": 0,
              "version_major": 2
            },
            "text/plain": [
              "Loss:   0%|          | 0/469 [00:00<?, ?it/s]"
            ]
          },
          "metadata": {}
        },
        {
          "output_type": "stream",
          "name": "stdout",
          "text": [
            "Epoch 1/5 Training loss:  0.4208 Accuracy: 0.8503\n",
            "Validation Loss: 0.2975 Accuracy: 0.8925\n"
          ]
        },
        {
          "output_type": "display_data",
          "data": {
            "application/vnd.jupyter.widget-view+json": {
              "model_id": "a8eb911af4f847b384ec3a31d47947a4",
              "version_minor": 0,
              "version_major": 2
            },
            "text/plain": [
              "Loss:   0%|          | 0/469 [00:00<?, ?it/s]"
            ]
          },
          "metadata": {}
        },
        {
          "output_type": "stream",
          "name": "stdout",
          "text": [
            "Epoch 2/5 Training loss:  0.2813 Accuracy: 0.8979\n",
            "Validation Loss: 0.2651 Accuracy: 0.9052\n"
          ]
        },
        {
          "output_type": "display_data",
          "data": {
            "application/vnd.jupyter.widget-view+json": {
              "model_id": "9b3a582c8a9a4e03b880fb959a4e2815",
              "version_minor": 0,
              "version_major": 2
            },
            "text/plain": [
              "Loss:   0%|          | 0/469 [00:00<?, ?it/s]"
            ]
          },
          "metadata": {}
        },
        {
          "output_type": "stream",
          "name": "stdout",
          "text": [
            "Epoch 3/5 Training loss:  0.2454 Accuracy: 0.9124\n",
            "Validation Loss: 0.2460 Accuracy: 0.9102\n"
          ]
        },
        {
          "output_type": "display_data",
          "data": {
            "application/vnd.jupyter.widget-view+json": {
              "model_id": "ad4ac25487ca42f18758d60efe1bccf6",
              "version_minor": 0,
              "version_major": 2
            },
            "text/plain": [
              "Loss:   0%|          | 0/469 [00:00<?, ?it/s]"
            ]
          },
          "metadata": {}
        },
        {
          "output_type": "stream",
          "name": "stdout",
          "text": [
            "Epoch 4/5 Training loss:  0.2243 Accuracy: 0.9195\n",
            "Validation Loss: 0.2454 Accuracy: 0.9103\n"
          ]
        },
        {
          "output_type": "display_data",
          "data": {
            "application/vnd.jupyter.widget-view+json": {
              "model_id": "7858b88a3a344fb9b6ce9e3266bd662b",
              "version_minor": 0,
              "version_major": 2
            },
            "text/plain": [
              "Loss:   0%|          | 0/469 [00:00<?, ?it/s]"
            ]
          },
          "metadata": {}
        },
        {
          "output_type": "stream",
          "name": "stdout",
          "text": [
            "Epoch 5/5 Training loss:  0.2075 Accuracy: 0.9252\n",
            "Validation Loss: 0.2349 Accuracy: 0.9129\n",
            "Training time: 159.0 seconds\n"
          ]
        }
      ]
    },
    {
      "cell_type": "markdown",
      "metadata": {
        "id": "Lzgf8vuT1xam"
      },
      "source": [
        "We now re-evaluated our network's performance, and you will see an accuracy ~90%"
      ]
    },
    {
      "cell_type": "code",
      "metadata": {
        "colab": {
          "base_uri": "https://localhost:8080/",
          "height": 279
        },
        "id": "OZfyNjK6180t",
        "outputId": "7a1ba23e-78ee-4299-e4fc-ef169a67063a"
      },
      "source": [
        "plt.plot(train_loss_history,label=\"Training Loss\")\n",
        "plt.plot(val_loss_history,label=\"Validation Loss\")\n",
        "plt.xlabel('No. of Epochs')\n",
        "plt.ylabel('Accuracy & Loss')\n",
        "plt.legend(frameon=False)\n",
        "plt.show()"
      ],
      "execution_count": 73,
      "outputs": [
        {
          "output_type": "display_data",
          "data": {
            "image/png": "[encoded data removed]",
            "text/plain": [
              "<Figure size 432x288 with 1 Axes>"
            ]
          },
          "metadata": {
            "needs_background": "light"
          }
        }
      ]
    },
    {
      "cell_type": "code",
      "metadata": {
        "colab": {
          "base_uri": "https://localhost:8080/",
          "height": 283
        },
        "id": "nkxaealT2jul",
        "outputId": "43ed63fe-3ad2-4b16-8538-e2f6ca1b9b3f"
      },
      "source": [
        "\n",
        "plt.plot(train_accuracy_history,label=\"Training Accuracy\")\n",
        "plt.plot(val_accuracy_history,label=\"Validation Accuracy\")\n",
        "plt.xlabel('No. of Epochs')\n",
        "plt.ylabel('Accuracy & Loss')\n",
        "plt.ylim([0., 1.]) # limit y axis between 0 and 1\n",
        "plt.legend(frameon=False)\n",
        "plt.show()"
      ],
      "execution_count": 74,
      "outputs": [
        {
          "output_type": "display_data",
          "data": {
            "image/png": "[encoded data removed]",
            "text/plain": [
              "<Figure size 432x288 with 1 Axes>"
            ]
          },
          "metadata": {
            "needs_background": "light"
          }
        }
      ]
    },
    {
      "cell_type": "markdown",
      "metadata": {
        "id": "srEdjBj4F9t1"
      },
      "source": [
        "# **Task 6:** Save/Load Model\n",
        "\n",
        "---\n",
        "\n"
      ]
    },
    {
      "cell_type": "code",
      "metadata": {
        "id": "d9iPVEngbFCB"
      },
      "source": [
        "#@title Training parameters { form-width: \"70%\" }\n",
        "model_export_path = \"./model/\" #@param {type:\"string\"}\n",
        "model_name = 'ExampleNet.pth' #@param {type:\"string\"}\n",
        "os.makedirs(model_export_path, exist_ok=True)\n"
      ],
      "execution_count": 75,
      "outputs": []
    },
    {
      "cell_type": "markdown",
      "metadata": {
        "id": "_o9xVvDebyQa"
      },
      "source": [
        "### Save a PyTorch Model"
      ]
    },
    {
      "cell_type": "code",
      "metadata": {
        "id": "Lsbcb_WgFx3c"
      },
      "source": [
        "#Save Pytorch model\n",
        "torch.save(net.state_dict(), join(model_export_path,model_name))    \n"
      ],
      "execution_count": 76,
      "outputs": []
    },
    {
      "cell_type": "markdown",
      "metadata": {
        "id": "1V8x_sf5b_WL"
      },
      "source": [
        "### Load a PyTorch Model"
      ]
    },
    {
      "cell_type": "code",
      "metadata": {
        "colab": {
          "base_uri": "https://localhost:8080/"
        },
        "id": "GUR7LrRkb2vQ",
        "outputId": "2ceb6750-75de-4c5d-f908-d281bcc710c5"
      },
      "source": [
        "# Load a PyTorch Model\n",
        "NEW_net = CNN().to(device)\n",
        "state_dict = torch.load(join(model_export_path,model_name))\n",
        "NEW_net.load_state_dict(state_dict)"
      ],
      "execution_count": 77,
      "outputs": [
        {
          "output_type": "execute_result",
          "data": {
            "text/plain": [
              "<All keys matched successfully>"
            ]
          },
          "metadata": {},
          "execution_count": 77
        }
      ]
    },
    {
      "cell_type": "markdown",
      "metadata": {
        "id": "E4z1XnYragES"
      },
      "source": [
        "Test again the network accuracy, to be sure that you saved/loaded weights correctly"
      ]
    },
    {
      "cell_type": "code",
      "metadata": {
        "colab": {
          "base_uri": "https://localhost:8080/"
        },
        "id": "f-KAUyhdXVTa",
        "outputId": "a4d92495-fbb6-45bd-b913-8fe07c81d678"
      },
      "source": [
        "# Test over validation dataset\n",
        "val_accuracy, average_val_loss = validate(NEW_net, val_loader, loss_function, accuracy_score)\n",
        "# Print valid statistics\n",
        "average_val_accuracy = sum(val_accuracy)/len(val_loader)\n",
        "print('Validation Loss: %.4f' % (average_val_loss), 'Accuracy: %.4f' % (average_val_accuracy))"
      ],
      "execution_count": 78,
      "outputs": [
        {
          "output_type": "stream",
          "name": "stdout",
          "text": [
            "Validation Loss: 0.2349 Accuracy: 0.9129\n"
          ]
        }
      ]
    },
    {
      "cell_type": "markdown",
      "metadata": {
        "id": "FhVGRnf-tK1A"
      },
      "source": [
        "## Export to ONNX format"
      ]
    },
    {
      "cell_type": "markdown",
      "metadata": {
        "id": "Jy20LRkbZnfJ"
      },
      "source": [
        "The network can be exported in ONNX format for usage in **DORY (*Deplyment Oriented to memoRY*)** or other deployment tools. In the frame below, we export the produced graph to ONNX format. **ONNX (*Open Neural Network eXchange*)** is an interchange format that can be used to deploy the network on an inference engine - including our own DORY (soon to be released for deployment on PULP-based platforms). To see how the model looks like, the cell will trigger a download to your local machine and then open a frame into a tool called **Netron** (https://lutzroeder.github.io/netron) that can be used to visualize it: just drag the ONNX file and drop it on top of the Netron frame!"
      ]
    },
    {
      "cell_type": "code",
      "metadata": {
        "id": "ZHwK-GE-5ODZ",
        "colab": {
          "base_uri": "https://localhost:8080/",
          "height": 421
        },
        "outputId": "2702d5a9-4601-4d58-c171-e69da882d126"
      },
      "source": [
        "torch.onnx.export(net, input, 'fmnist_cnn.onnx')\n",
        "from IPython.display import IFrame\n",
        "from google.colab import files\n",
        "import urllib\n",
        "files.download('fmnist_cnn.onnx')\n",
        "url = urllib.parse.quote(\"https://lutzroeder.github.io/netron\", safe=':/?=&')\n",
        "IFrame(url, width=800, height=400)"
      ],
      "execution_count": 79,
      "outputs": [
        {
          "output_type": "display_data",
          "data": {
            "application/javascript": [
              "\n",
              "    async function download(id, filename, size) {\n",
              "      if (!google.colab.kernel.accessAllowed) {\n",
              "        return;\n",
              "      }\n",
              "      const div = document.createElement('div');\n",
              "      const label = document.createElement('label');\n",
              "      label.textContent = `Downloading \"${filename}\": `;\n",
              "      div.appendChild(label);\n",
              "      const progress = document.createElement('progress');\n",
              "      progress.max = size;\n",
              "      div.appendChild(progress);\n",
              "      document.body.appendChild(div);\n",
              "\n",
              "      const buffers = [];\n",
              "      let downloaded = 0;\n",
              "\n",
              "      const channel = await google.colab.kernel.comms.open(id);\n",
              "      // Send a message to notify the kernel that we're ready.\n",
              "      channel.send({})\n",
              "\n",
              "      for await (const message of channel.messages) {\n",
              "        // Send a message to notify the kernel that we're ready.\n",
              "        channel.send({})\n",
              "        if (message.buffers) {\n",
              "          for (const buffer of message.buffers) {\n",
              "            buffers.push(buffer);\n",
              "            downloaded += buffer.byteLength;\n",
              "            progress.value = downloaded;\n",
              "          }\n",
              "        }\n",
              "      }\n",
              "      const blob = new Blob(buffers, {type: 'application/binary'});\n",
              "      const a = document.createElement('a');\n",
              "      a.href = window.URL.createObjectURL(blob);\n",
              "      a.download = filename;\n",
              "      div.appendChild(a);\n",
              "      a.click();\n",
              "      div.remove();\n",
              "    }\n",
              "  "
            ],
            "text/plain": [
              "<IPython.core.display.Javascript object>"
            ]
          },
          "metadata": {}
        },
        {
          "output_type": "display_data",
          "data": {
            "application/javascript": [
              "download(\"download_aac84ac6-cd9c-4b87-bd37-cb4e9b6dbea7\", \"fmnist_cnn.onnx\", 622465)"
            ],
            "text/plain": [
              "<IPython.core.display.Javascript object>"
            ]
          },
          "metadata": {}
        },
        {
          "output_type": "execute_result",
          "data": {
            "text/html": [
              "\n",
              "        <iframe\n",
              "            width=\"800\"\n",
              "            height=\"400\"\n",
              "            src=\"https://lutzroeder.github.io/netron\"\n",
              "            frameborder=\"0\"\n",
              "            allowfullscreen\n",
              "        ></iframe>\n",
              "        "
            ],
            "text/plain": [
              "<IPython.lib.display.IFrame at 0x7f0f9d2ca250>"
            ]
          },
          "metadata": {},
          "execution_count": 79
        }
      ]
    },
    {
      "cell_type": "markdown",
      "metadata": {
        "id": "tz_Xa_FP8Zri"
      },
      "source": [
        "# **Task 7:** Reduce Network's MAC operations \n",
        "\n",
        "---\n",
        "\n",
        "\n",
        "Current network has: \n",
        "*   n°params: 155.616k\n",
        "*   MAC: 18.515M\n",
        "\n",
        "**Task:** Reduce it below 5 MMAC, but keeping accuracy ~90%.\n",
        "\n",
        "**Solution:**\n",
        "\n",
        "In this solution we will reduce the number of channels of the convolutional layers, by halving them (depth multiplier = 0.5).\n",
        "\n",
        "You can explore another 2 ways:\n",
        "1.   Add or remove layers\n",
        "2.   Play with the “stride” of che convolutional layers.\n",
        "\n",
        "\n",
        "\n"
      ]
    },
    {
      "cell_type": "markdown",
      "metadata": {
        "id": "XJuVH_8_-Igl"
      },
      "source": [
        "## New network with reduced size"
      ]
    },
    {
      "cell_type": "code",
      "metadata": {
        "id": "2oI6KRmz8ZH2"
      },
      "source": [
        "class CNN_reduced(nn.Module):\n",
        "    def __init__(self, n_classes=10, depth_mult=1.):\n",
        "        super(CNN_reduced, self).__init__()\n",
        "        first_conv_channels=int(32*depth_mult)\n",
        "        self.ConvBnRelu1 = ConvBnRelu(1, first_conv_channels,  stride=1) # conv3x3: ch_in=1, ch_out=32, in=28x28, out=28x28/2\n",
        "        self.ConvBnRelu2 = ConvBnRelu(first_conv_channels, first_conv_channels*2,  stride=1) # conv3x3: ch_in=1, ch_out=32, in=28x28, out=28x28/2\n",
        "        self.pool = nn.MaxPool2d(kernel_size=2, stride=2, padding=0, dilation=1, return_indices=False, ceil_mode=False) # MaxPool2: in=14x14, out=14x14/2\n",
        "        self.ConvBnRelu3 = ConvBnRelu(first_conv_channels*2, first_conv_channels*4, stride=2) # conv3x3: ch_in=32, ch_out=64, in=7x7, out=7x7\n",
        "\n",
        "        self.dropout = nn.Dropout(p=0.5, inplace=False)\n",
        "        fc_in_size = 7*7*(first_conv_channels*4)\n",
        "        self.fc = nn.Linear(fc_in_size, n_classes, bias=False)\n",
        "        self.softmax = nn.LogSoftmax(dim=1)\n",
        "\n",
        "    def forward(self, x):\n",
        "        x = self.ConvBnRelu1(x)\n",
        "        x = self.ConvBnRelu2(x)\n",
        "        x = self.pool(x)\n",
        "        x = self.ConvBnRelu3(x)\n",
        "        x = self.dropout(x)\n",
        "        x = x.flatten(1)\n",
        "        x = self.fc(x)\n",
        "        output = self.softmax(x)\n",
        "        return output\n",
        "\n",
        "net_reduced = CNN_reduced(depth_mult=.5).to(device)\n"
      ],
      "execution_count": 80,
      "outputs": []
    },
    {
      "cell_type": "markdown",
      "metadata": {
        "id": "2HF7Hi9o9oUK"
      },
      "source": [
        "Let's see how many MAC operations the new network has..."
      ]
    },
    {
      "cell_type": "code",
      "metadata": {
        "colab": {
          "base_uri": "https://localhost:8080/"
        },
        "id": "uvVsFvL99njF",
        "outputId": "73c2baab-b2c9-4e54-f183-274846d1bd0a"
      },
      "source": [
        "network_size_and_mac(deepcopy(net_reduced), input_size) #use deepcopy to avoid graph modifications by hese function calls\n",
        "print_summary(deepcopy(net_reduced), input_size) #use deepcopy to avoid graph modifications by hese function calls"
      ],
      "execution_count": 81,
      "outputs": [
        {
          "output_type": "stream",
          "name": "stdout",
          "text": [
            "Network's \tn°params: 54.768k \tMAC: 4.742M\n",
            "\n",
            "==========================================================================================\n",
            "Layer (type:depth-idx)                   Output Shape              Param #\n",
            "==========================================================================================\n",
            "CNN_reduced                              --                        --\n",
            "├─ConvBnRelu: 1-1                        [1, 16, 28, 28]           --\n",
            "│    └─Conv2d: 2-1                       [1, 16, 28, 28]           144\n",
            "│    └─BatchNorm2d: 2-2                  [1, 16, 28, 28]           32\n",
            "│    └─ReLU: 2-3                         [1, 16, 28, 28]           --\n",
            "├─ConvBnRelu: 1-2                        [1, 32, 28, 28]           --\n",
            "│    └─Conv2d: 2-4                       [1, 32, 28, 28]           4,608\n",
            "│    └─BatchNorm2d: 2-5                  [1, 32, 28, 28]           64\n",
            "│    └─ReLU: 2-6                         [1, 32, 28, 28]           --\n",
            "├─MaxPool2d: 1-3                         [1, 32, 14, 14]           --\n",
            "├─ConvBnRelu: 1-4                        [1, 64, 7, 7]             --\n",
            "│    └─Conv2d: 2-7                       [1, 64, 7, 7]             18,432\n",
            "│    └─BatchNorm2d: 2-8                  [1, 64, 7, 7]             128\n",
            "│    └─ReLU: 2-9                         [1, 64, 7, 7]             --\n",
            "├─Dropout: 1-5                           [1, 64, 7, 7]             --\n",
            "├─Linear: 1-6                            [1, 10]                   31,360\n",
            "├─LogSoftmax: 1-7                        [1, 10]                   --\n",
            "==========================================================================================\n",
            "Total params: 54,768\n",
            "Trainable params: 54,768\n",
            "Non-trainable params: 0\n",
            "Total mult-adds (M): 4.66\n",
            "==========================================================================================\n",
            "Input size (MB): 0.00\n",
            "Forward/backward pass size (MB): 0.65\n",
            "Params size (MB): 0.22\n",
            "Estimated Total Size (MB): 0.87\n",
            "==========================================================================================\n"
          ]
        }
      ]
    },
    {
      "cell_type": "markdown",
      "metadata": {
        "id": "3KXk7hUr9zUl"
      },
      "source": [
        "**The New network has 4.742M MAC, which is less than our constrain of 5M !!**"
      ]
    },
    {
      "cell_type": "markdown",
      "metadata": {
        "id": "xJZ-6C82-Nq3"
      },
      "source": [
        "## Retrain the network and verify validation accuracy ~90%"
      ]
    },
    {
      "cell_type": "code",
      "metadata": {
        "colab": {
          "base_uri": "https://localhost:8080/",
          "height": 364,
          "referenced_widgets": [
            "82379c96838c40b69a3ec606f1cbc2da",
            "c1a4b2cb62d9487c8a0f16dfb679cfa0",
            "317443df04fb4dc985da8ccb86c1a286",
            "4c4d6dd0a57b4485b0620adde0cc9ed3",
            "5fdedc0b6c234b968ba9c84025df5624",
            "6d2584d6425b4b9b8bb8544dbb7d0829",
            "97a006943f3e4a53a0ba34e79ef566d7",
            "1e29b2fec728449da8eb2f3274984fa8",
            "1273bda7d63541ef90308de27b526e28",
            "fd86dd8fa97a4bdc812ef0a50fc1b4a9",
            "d14a814e573045d0a09da925d4d0ba54",
            "641be5c3c24b4e849b53100780c7f3af",
            "fd38a1c956cc408087787ae302feec40",
            "30dcfeb6c36f4d37926911db8f6c11cf",
            "57dbfe89d434478d9d27cf8f28f6f595",
            "848e957a708244e88915a42512076e47",
            "acaa2e09f27d44aea88626216279c353",
            "5604f3ebb9d043fa9dcedd1612745366",
            "01d1ed022c19409c8c5131bf29e05647",
            "61becc159b094c2eb58c3cf18431c736",
            "091eb73ffc1a4122a961ede0379113ba",
            "7754a7e46852409dbaa59a31aedfb1bc",
            "ef2602d0013d45a88f7ec23a5b48a19a",
            "6fe2758c336e400ea129c91b70751520",
            "76f48e663fb643f58f0e85d6307e6074",
            "56537cbac12047b9ba5ebf4ef1e472db",
            "2aa93f92f70a490d88720e72952fefbf",
            "2c873ff9c53444a5bb0ac465d041f3e3",
            "5038835ff48b44dfaf76db1fea0656cc",
            "5c72d4078f284ceea4394d79620a4ae1",
            "27329925d0224766a170aa128dd5991c",
            "682a610d49a14c0e85a59118676bfab5",
            "fe0a1abb563842aab1172ec87a491447",
            "a9762baaa7694d3a8ec7388a16e2cd74",
            "157877f7054c4851ac5a2eed353cf42f",
            "3311c6adff0b48f89004073f38126991",
            "bf6a3a8677414ab8b92a2a200d61b755",
            "8e47e6592079420287d5da45196ac450",
            "7635ce0b52df417fbe7ef329d94f406f",
            "1b85e34fc33e4ea7988594e56311dbfd",
            "e4f6605de25a475c8cefb1d0efd5c9c3",
            "eb5654fe51c14c3d8c5c4f3eb5500090",
            "a9f5fb2a47e0462d847a0532f244a52b",
            "34134ad69d3f41f2a0035b3412ae8189",
            "32110db9089a41fda2dc211fcbfb7399",
            "c55489e96b5942b489ed2da9c0a38059",
            "ebd24fd8918a4d9695c046933b7423d5",
            "0a5a1f7f796c4ef39e944c4fcecdae87",
            "39c6cd7a502e4fb8b7afca4f43b42a1b",
            "044fef941dcd48a9ad331d06221d37ae",
            "857347a63cc84026b4377662e9e82b09",
            "577588061a8d4e4089754d66e32c39a7",
            "20cbd5112a7646f496850b640e186d93",
            "cc874a74859c4ae1b0438ffa964aaf09",
            "4d63494d74194cd1bf97bc3f681fd87e"
          ]
        },
        "id": "2Ka3HUPrtw6a",
        "outputId": "aa0388e7-bb09-4201-ef4f-3335c2700723"
      },
      "source": [
        "(train_loss_history,\n",
        "train_accuracy_history, \n",
        "val_loss_history, \n",
        "val_accuracy_history) = training(net_reduced, train_loader, val_loader, loss_function, epochs)"
      ],
      "execution_count": 82,
      "outputs": [
        {
          "output_type": "display_data",
          "data": {
            "application/vnd.jupyter.widget-view+json": {
              "model_id": "82379c96838c40b69a3ec606f1cbc2da",
              "version_minor": 0,
              "version_major": 2
            },
            "text/plain": [
              "Loss:   0%|          | 0/469 [00:00<?, ?it/s]"
            ]
          },
          "metadata": {}
        },
        {
          "output_type": "stream",
          "name": "stdout",
          "text": [
            "Epoch 1/5 Training loss:  0.4933 Accuracy: 0.8264\n",
            "Validation Loss: 0.3396 Accuracy: 0.8800\n"
          ]
        },
        {
          "output_type": "display_data",
          "data": {
            "application/vnd.jupyter.widget-view+json": {
              "model_id": "641be5c3c24b4e849b53100780c7f3af",
              "version_minor": 0,
              "version_major": 2
            },
            "text/plain": [
              "Loss:   0%|          | 0/469 [00:00<?, ?it/s]"
            ]
          },
          "metadata": {}
        },
        {
          "output_type": "stream",
          "name": "stdout",
          "text": [
            "Epoch 2/5 Training loss:  0.3224 Accuracy: 0.8837\n",
            "Validation Loss: 0.3033 Accuracy: 0.8890\n"
          ]
        },
        {
          "output_type": "display_data",
          "data": {
            "application/vnd.jupyter.widget-view+json": {
              "model_id": "ef2602d0013d45a88f7ec23a5b48a19a",
              "version_minor": 0,
              "version_major": 2
            },
            "text/plain": [
              "Loss:   0%|          | 0/469 [00:00<?, ?it/s]"
            ]
          },
          "metadata": {}
        },
        {
          "output_type": "stream",
          "name": "stdout",
          "text": [
            "Epoch 3/5 Training loss:  0.2867 Accuracy: 0.8972\n",
            "Validation Loss: 0.2713 Accuracy: 0.9013\n"
          ]
        },
        {
          "output_type": "display_data",
          "data": {
            "application/vnd.jupyter.widget-view+json": {
              "model_id": "a9762baaa7694d3a8ec7388a16e2cd74",
              "version_minor": 0,
              "version_major": 2
            },
            "text/plain": [
              "Loss:   0%|          | 0/469 [00:00<?, ?it/s]"
            ]
          },
          "metadata": {}
        },
        {
          "output_type": "stream",
          "name": "stdout",
          "text": [
            "Epoch 4/5 Training loss:  0.2627 Accuracy: 0.9055\n",
            "Validation Loss: 0.2823 Accuracy: 0.8976\n"
          ]
        },
        {
          "output_type": "display_data",
          "data": {
            "application/vnd.jupyter.widget-view+json": {
              "model_id": "32110db9089a41fda2dc211fcbfb7399",
              "version_minor": 0,
              "version_major": 2
            },
            "text/plain": [
              "Loss:   0%|          | 0/469 [00:00<?, ?it/s]"
            ]
          },
          "metadata": {}
        },
        {
          "output_type": "stream",
          "name": "stdout",
          "text": [
            "Epoch 5/5 Training loss:  0.2455 Accuracy: 0.9120\n",
            "Validation Loss: 0.2485 Accuracy: 0.9098\n",
            "Training time: 136.7 seconds\n"
          ]
        }
      ]
    },
    {
      "cell_type": "markdown",
      "metadata": {
        "id": "czMkBFSH9ZUH"
      },
      "source": [
        "# Not used"
      ]
    },
    {
      "cell_type": "markdown",
      "metadata": {
        "id": "3oeHvb2PtFXh"
      },
      "source": [
        "## Average Meter class (not used right now)"
      ]
    },
    {
      "cell_type": "code",
      "metadata": {
        "id": "7KCbZi6sqsQt"
      },
      "source": [
        "# convenience class to keep track of averages\n",
        "class AverageMeter(object):\n",
        "    \"\"\"\n",
        "    Computes and stores the average and current value\n",
        "    Copied from: https://github.com/pytorch/examples/blob/master/imagenet/main.py\n",
        "    \"\"\"\n",
        "    def __init__(self, name, fmt=':f'):\n",
        "        self.name = name\n",
        "        self.fmt = fmt # format. example ':6.2f'\n",
        "        self.reset()\n",
        "\n",
        "    def reset(self):\n",
        "        self.val = 0\n",
        "        self.avg = 0\n",
        "        self.sum = 0\n",
        "        self.count = 0\n",
        "\n",
        "    def update(self, val, n=1):\n",
        "        self.val = val\n",
        "        self.sum += val * n\n",
        "        self.count += n\n",
        "        self.avg = self.sum / self.count\n",
        "\n",
        "    def __str__(self):\n",
        "        fmtstr = '{name} {val' + self.fmt + '} ({avg' + self.fmt + '})'\n",
        "        return fmtstr.format(**self.__dict__)\n",
        "\n",
        "\n"
      ],
      "execution_count": 83,
      "outputs": []
    },
    {
      "cell_type": "markdown",
      "metadata": {
        "id": "gCrWRJ2U5nHh"
      },
      "source": [
        "## **Exercise 1**\n",
        ".....TEMPLATE\n",
        "* ...\n",
        "* ...\n",
        "* ...\n",
        "\n",
        "> *Answer:...*"
      ]
    }
  ]
}