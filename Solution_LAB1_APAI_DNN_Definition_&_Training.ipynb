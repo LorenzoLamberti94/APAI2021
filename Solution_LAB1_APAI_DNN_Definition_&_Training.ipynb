{
  "nbformat": 4,
  "nbformat_minor": 0,
  "metadata": {
    "accelerator": "GPU",
    "colab": {
      "name": "Solution_LAB1_APAI_DNN_Definition_&_Training.ipynb",
      "provenance": [],
      "collapsed_sections": [
        "czMkBFSH9ZUH"
      ],
      "include_colab_link": true
    },
    "kernelspec": {
      "display_name": "Python 3",
      "name": "python3"
    },
    "language_info": {
      "codemirror_mode": {
        "name": "ipython",
        "version": 3
      },
      "file_extension": ".py",
      "mimetype": "text/x-python",
      "name": "python",
      "nbconvert_exporter": "python",
      "pygments_lexer": "ipython3",
      "version": "3.9.7"
    },
    "widgets": {
      "application/vnd.jupyter.widget-state+json": {
        "ff6af83086d2434fa8da323e55e21629": {
          "model_module": "@jupyter-widgets/controls",
          "model_name": "HBoxModel",
          "model_module_version": "1.5.0",
          "state": {
            "_view_name": "HBoxView",
            "_dom_classes": [],
            "_model_name": "HBoxModel",
            "_view_module": "@jupyter-widgets/controls",
            "_model_module_version": "1.5.0",
            "_view_count": null,
            "_view_module_version": "1.5.0",
            "box_style": "",
            "layout": "IPY_MODEL_c28abf08a5a442e38c94e1512c2d9157",
            "_model_module": "@jupyter-widgets/controls",
            "children": [
              "IPY_MODEL_e783c76ca44549b294f7edd7fb347f97",
              "IPY_MODEL_e9da0ed3f42743d99af26b0cd5c6d625",
              "IPY_MODEL_a7a1f7f9ea2347babbd530503a43feb3"
            ]
          }
        },
        "c28abf08a5a442e38c94e1512c2d9157": {
          "model_module": "@jupyter-widgets/base",
          "model_name": "LayoutModel",
          "model_module_version": "1.2.0",
          "state": {
            "_view_name": "LayoutView",
            "grid_template_rows": null,
            "right": null,
            "justify_content": null,
            "_view_module": "@jupyter-widgets/base",
            "overflow": null,
            "_model_module_version": "1.2.0",
            "_view_count": null,
            "flex_flow": null,
            "width": null,
            "min_width": null,
            "border": null,
            "align_items": null,
            "bottom": null,
            "_model_module": "@jupyter-widgets/base",
            "top": null,
            "grid_column": null,
            "overflow_y": null,
            "overflow_x": null,
            "grid_auto_flow": null,
            "grid_area": null,
            "grid_template_columns": null,
            "flex": null,
            "_model_name": "LayoutModel",
            "justify_items": null,
            "grid_row": null,
            "max_height": null,
            "align_content": null,
            "visibility": null,
            "align_self": null,
            "height": null,
            "min_height": null,
            "padding": null,
            "grid_auto_rows": null,
            "grid_gap": null,
            "max_width": null,
            "order": null,
            "_view_module_version": "1.2.0",
            "grid_template_areas": null,
            "object_position": null,
            "object_fit": null,
            "grid_auto_columns": null,
            "margin": null,
            "display": null,
            "left": null
          }
        },
        "e783c76ca44549b294f7edd7fb347f97": {
          "model_module": "@jupyter-widgets/controls",
          "model_name": "HTMLModel",
          "model_module_version": "1.5.0",
          "state": {
            "_view_name": "HTMLView",
            "style": "IPY_MODEL_ad6ce81419cd496dae43a115e69ecd05",
            "_dom_classes": [],
            "description": "",
            "_model_name": "HTMLModel",
            "placeholder": "​",
            "_view_module": "@jupyter-widgets/controls",
            "_model_module_version": "1.5.0",
            "value": "Training Loss: 0.4244, Accuracy: 0.8491: 100%",
            "_view_count": null,
            "_view_module_version": "1.5.0",
            "description_tooltip": null,
            "_model_module": "@jupyter-widgets/controls",
            "layout": "IPY_MODEL_0b824cd65cda47ed832af7312ba66a07"
          }
        },
        "e9da0ed3f42743d99af26b0cd5c6d625": {
          "model_module": "@jupyter-widgets/controls",
          "model_name": "FloatProgressModel",
          "model_module_version": "1.5.0",
          "state": {
            "_view_name": "ProgressView",
            "style": "IPY_MODEL_c60268f16c4a44b0a7d207fde09b5d58",
            "_dom_classes": [],
            "description": "",
            "_model_name": "FloatProgressModel",
            "bar_style": "success",
            "max": 469,
            "_view_module": "@jupyter-widgets/controls",
            "_model_module_version": "1.5.0",
            "value": 469,
            "_view_count": null,
            "_view_module_version": "1.5.0",
            "orientation": "horizontal",
            "min": 0,
            "description_tooltip": null,
            "_model_module": "@jupyter-widgets/controls",
            "layout": "IPY_MODEL_3dc8eab0909f474da731e9caafc68a0b"
          }
        },
        "a7a1f7f9ea2347babbd530503a43feb3": {
          "model_module": "@jupyter-widgets/controls",
          "model_name": "HTMLModel",
          "model_module_version": "1.5.0",
          "state": {
            "_view_name": "HTMLView",
            "style": "IPY_MODEL_1f62ecd77d5544d4845f1b230d9ccd85",
            "_dom_classes": [],
            "description": "",
            "_model_name": "HTMLModel",
            "placeholder": "​",
            "_view_module": "@jupyter-widgets/controls",
            "_model_module_version": "1.5.0",
            "value": " 469/469 [00:32&lt;00:00, 15.07it/s]",
            "_view_count": null,
            "_view_module_version": "1.5.0",
            "description_tooltip": null,
            "_model_module": "@jupyter-widgets/controls",
            "layout": "IPY_MODEL_b97f1aac2a4d4c55a0592eca9e5e24ec"
          }
        },
        "ad6ce81419cd496dae43a115e69ecd05": {
          "model_module": "@jupyter-widgets/controls",
          "model_name": "DescriptionStyleModel",
          "model_module_version": "1.5.0",
          "state": {
            "_view_name": "StyleView",
            "_model_name": "DescriptionStyleModel",
            "description_width": "",
            "_view_module": "@jupyter-widgets/base",
            "_model_module_version": "1.5.0",
            "_view_count": null,
            "_view_module_version": "1.2.0",
            "_model_module": "@jupyter-widgets/controls"
          }
        },
        "0b824cd65cda47ed832af7312ba66a07": {
          "model_module": "@jupyter-widgets/base",
          "model_name": "LayoutModel",
          "model_module_version": "1.2.0",
          "state": {
            "_view_name": "LayoutView",
            "grid_template_rows": null,
            "right": null,
            "justify_content": null,
            "_view_module": "@jupyter-widgets/base",
            "overflow": null,
            "_model_module_version": "1.2.0",
            "_view_count": null,
            "flex_flow": null,
            "width": null,
            "min_width": null,
            "border": null,
            "align_items": null,
            "bottom": null,
            "_model_module": "@jupyter-widgets/base",
            "top": null,
            "grid_column": null,
            "overflow_y": null,
            "overflow_x": null,
            "grid_auto_flow": null,
            "grid_area": null,
            "grid_template_columns": null,
            "flex": null,
            "_model_name": "LayoutModel",
            "justify_items": null,
            "grid_row": null,
            "max_height": null,
            "align_content": null,
            "visibility": null,
            "align_self": null,
            "height": null,
            "min_height": null,
            "padding": null,
            "grid_auto_rows": null,
            "grid_gap": null,
            "max_width": null,
            "order": null,
            "_view_module_version": "1.2.0",
            "grid_template_areas": null,
            "object_position": null,
            "object_fit": null,
            "grid_auto_columns": null,
            "margin": null,
            "display": null,
            "left": null
          }
        },
        "c60268f16c4a44b0a7d207fde09b5d58": {
          "model_module": "@jupyter-widgets/controls",
          "model_name": "ProgressStyleModel",
          "model_module_version": "1.5.0",
          "state": {
            "_view_name": "StyleView",
            "_model_name": "ProgressStyleModel",
            "description_width": "",
            "_view_module": "@jupyter-widgets/base",
            "_model_module_version": "1.5.0",
            "_view_count": null,
            "_view_module_version": "1.2.0",
            "bar_color": null,
            "_model_module": "@jupyter-widgets/controls"
          }
        },
        "3dc8eab0909f474da731e9caafc68a0b": {
          "model_module": "@jupyter-widgets/base",
          "model_name": "LayoutModel",
          "model_module_version": "1.2.0",
          "state": {
            "_view_name": "LayoutView",
            "grid_template_rows": null,
            "right": null,
            "justify_content": null,
            "_view_module": "@jupyter-widgets/base",
            "overflow": null,
            "_model_module_version": "1.2.0",
            "_view_count": null,
            "flex_flow": null,
            "width": null,
            "min_width": null,
            "border": null,
            "align_items": null,
            "bottom": null,
            "_model_module": "@jupyter-widgets/base",
            "top": null,
            "grid_column": null,
            "overflow_y": null,
            "overflow_x": null,
            "grid_auto_flow": null,
            "grid_area": null,
            "grid_template_columns": null,
            "flex": null,
            "_model_name": "LayoutModel",
            "justify_items": null,
            "grid_row": null,
            "max_height": null,
            "align_content": null,
            "visibility": null,
            "align_self": null,
            "height": null,
            "min_height": null,
            "padding": null,
            "grid_auto_rows": null,
            "grid_gap": null,
            "max_width": null,
            "order": null,
            "_view_module_version": "1.2.0",
            "grid_template_areas": null,
            "object_position": null,
            "object_fit": null,
            "grid_auto_columns": null,
            "margin": null,
            "display": null,
            "left": null
          }
        },
        "1f62ecd77d5544d4845f1b230d9ccd85": {
          "model_module": "@jupyter-widgets/controls",
          "model_name": "DescriptionStyleModel",
          "model_module_version": "1.5.0",
          "state": {
            "_view_name": "StyleView",
            "_model_name": "DescriptionStyleModel",
            "description_width": "",
            "_view_module": "@jupyter-widgets/base",
            "_model_module_version": "1.5.0",
            "_view_count": null,
            "_view_module_version": "1.2.0",
            "_model_module": "@jupyter-widgets/controls"
          }
        },
        "b97f1aac2a4d4c55a0592eca9e5e24ec": {
          "model_module": "@jupyter-widgets/base",
          "model_name": "LayoutModel",
          "model_module_version": "1.2.0",
          "state": {
            "_view_name": "LayoutView",
            "grid_template_rows": null,
            "right": null,
            "justify_content": null,
            "_view_module": "@jupyter-widgets/base",
            "overflow": null,
            "_model_module_version": "1.2.0",
            "_view_count": null,
            "flex_flow": null,
            "width": null,
            "min_width": null,
            "border": null,
            "align_items": null,
            "bottom": null,
            "_model_module": "@jupyter-widgets/base",
            "top": null,
            "grid_column": null,
            "overflow_y": null,
            "overflow_x": null,
            "grid_auto_flow": null,
            "grid_area": null,
            "grid_template_columns": null,
            "flex": null,
            "_model_name": "LayoutModel",
            "justify_items": null,
            "grid_row": null,
            "max_height": null,
            "align_content": null,
            "visibility": null,
            "align_self": null,
            "height": null,
            "min_height": null,
            "padding": null,
            "grid_auto_rows": null,
            "grid_gap": null,
            "max_width": null,
            "order": null,
            "_view_module_version": "1.2.0",
            "grid_template_areas": null,
            "object_position": null,
            "object_fit": null,
            "grid_auto_columns": null,
            "margin": null,
            "display": null,
            "left": null
          }
        },
        "369bfacd5666442d8e24cbfca0655577": {
          "model_module": "@jupyter-widgets/controls",
          "model_name": "HBoxModel",
          "model_module_version": "1.5.0",
          "state": {
            "_view_name": "HBoxView",
            "_dom_classes": [],
            "_model_name": "HBoxModel",
            "_view_module": "@jupyter-widgets/controls",
            "_model_module_version": "1.5.0",
            "_view_count": null,
            "_view_module_version": "1.5.0",
            "box_style": "",
            "layout": "IPY_MODEL_5fb257de38ff4741bc137ab30d839886",
            "_model_module": "@jupyter-widgets/controls",
            "children": [
              "IPY_MODEL_e1a7d42143d9459a8b58b5054de269eb",
              "IPY_MODEL_7691787b59c04bf7adb5a25151dc5500",
              "IPY_MODEL_c37bcb0e9efb40db94b284fa585d3607"
            ]
          }
        },
        "5fb257de38ff4741bc137ab30d839886": {
          "model_module": "@jupyter-widgets/base",
          "model_name": "LayoutModel",
          "model_module_version": "1.2.0",
          "state": {
            "_view_name": "LayoutView",
            "grid_template_rows": null,
            "right": null,
            "justify_content": null,
            "_view_module": "@jupyter-widgets/base",
            "overflow": null,
            "_model_module_version": "1.2.0",
            "_view_count": null,
            "flex_flow": null,
            "width": null,
            "min_width": null,
            "border": null,
            "align_items": null,
            "bottom": null,
            "_model_module": "@jupyter-widgets/base",
            "top": null,
            "grid_column": null,
            "overflow_y": null,
            "overflow_x": null,
            "grid_auto_flow": null,
            "grid_area": null,
            "grid_template_columns": null,
            "flex": null,
            "_model_name": "LayoutModel",
            "justify_items": null,
            "grid_row": null,
            "max_height": null,
            "align_content": null,
            "visibility": null,
            "align_self": null,
            "height": null,
            "min_height": null,
            "padding": null,
            "grid_auto_rows": null,
            "grid_gap": null,
            "max_width": null,
            "order": null,
            "_view_module_version": "1.2.0",
            "grid_template_areas": null,
            "object_position": null,
            "object_fit": null,
            "grid_auto_columns": null,
            "margin": null,
            "display": null,
            "left": null
          }
        },
        "e1a7d42143d9459a8b58b5054de269eb": {
          "model_module": "@jupyter-widgets/controls",
          "model_name": "HTMLModel",
          "model_module_version": "1.5.0",
          "state": {
            "_view_name": "HTMLView",
            "style": "IPY_MODEL_402a77303f6e4b2a9a4c466389cd0955",
            "_dom_classes": [],
            "description": "",
            "_model_name": "HTMLModel",
            "placeholder": "​",
            "_view_module": "@jupyter-widgets/controls",
            "_model_module_version": "1.5.0",
            "value": "Training Loss: 0.2835, Accuracy: 0.8978: 100%",
            "_view_count": null,
            "_view_module_version": "1.5.0",
            "description_tooltip": null,
            "_model_module": "@jupyter-widgets/controls",
            "layout": "IPY_MODEL_7e6fcaf9be72486387cb1b97555da444"
          }
        },
        "7691787b59c04bf7adb5a25151dc5500": {
          "model_module": "@jupyter-widgets/controls",
          "model_name": "FloatProgressModel",
          "model_module_version": "1.5.0",
          "state": {
            "_view_name": "ProgressView",
            "style": "IPY_MODEL_c0204531817247349da2b642413037a6",
            "_dom_classes": [],
            "description": "",
            "_model_name": "FloatProgressModel",
            "bar_style": "success",
            "max": 469,
            "_view_module": "@jupyter-widgets/controls",
            "_model_module_version": "1.5.0",
            "value": 469,
            "_view_count": null,
            "_view_module_version": "1.5.0",
            "orientation": "horizontal",
            "min": 0,
            "description_tooltip": null,
            "_model_module": "@jupyter-widgets/controls",
            "layout": "IPY_MODEL_14a1538fc6574812b597bdaa4675ee56"
          }
        },
        "c37bcb0e9efb40db94b284fa585d3607": {
          "model_module": "@jupyter-widgets/controls",
          "model_name": "HTMLModel",
          "model_module_version": "1.5.0",
          "state": {
            "_view_name": "HTMLView",
            "style": "IPY_MODEL_25b498a710e24f57871e8906252c5038",
            "_dom_classes": [],
            "description": "",
            "_model_name": "HTMLModel",
            "placeholder": "​",
            "_view_module": "@jupyter-widgets/controls",
            "_model_module_version": "1.5.0",
            "value": " 469/469 [00:30&lt;00:00, 16.13it/s]",
            "_view_count": null,
            "_view_module_version": "1.5.0",
            "description_tooltip": null,
            "_model_module": "@jupyter-widgets/controls",
            "layout": "IPY_MODEL_90fc2101030c4d508fb2e8f1b7e1203e"
          }
        },
        "402a77303f6e4b2a9a4c466389cd0955": {
          "model_module": "@jupyter-widgets/controls",
          "model_name": "DescriptionStyleModel",
          "model_module_version": "1.5.0",
          "state": {
            "_view_name": "StyleView",
            "_model_name": "DescriptionStyleModel",
            "description_width": "",
            "_view_module": "@jupyter-widgets/base",
            "_model_module_version": "1.5.0",
            "_view_count": null,
            "_view_module_version": "1.2.0",
            "_model_module": "@jupyter-widgets/controls"
          }
        },
        "7e6fcaf9be72486387cb1b97555da444": {
          "model_module": "@jupyter-widgets/base",
          "model_name": "LayoutModel",
          "model_module_version": "1.2.0",
          "state": {
            "_view_name": "LayoutView",
            "grid_template_rows": null,
            "right": null,
            "justify_content": null,
            "_view_module": "@jupyter-widgets/base",
            "overflow": null,
            "_model_module_version": "1.2.0",
            "_view_count": null,
            "flex_flow": null,
            "width": null,
            "min_width": null,
            "border": null,
            "align_items": null,
            "bottom": null,
            "_model_module": "@jupyter-widgets/base",
            "top": null,
            "grid_column": null,
            "overflow_y": null,
            "overflow_x": null,
            "grid_auto_flow": null,
            "grid_area": null,
            "grid_template_columns": null,
            "flex": null,
            "_model_name": "LayoutModel",
            "justify_items": null,
            "grid_row": null,
            "max_height": null,
            "align_content": null,
            "visibility": null,
            "align_self": null,
            "height": null,
            "min_height": null,
            "padding": null,
            "grid_auto_rows": null,
            "grid_gap": null,
            "max_width": null,
            "order": null,
            "_view_module_version": "1.2.0",
            "grid_template_areas": null,
            "object_position": null,
            "object_fit": null,
            "grid_auto_columns": null,
            "margin": null,
            "display": null,
            "left": null
          }
        },
        "c0204531817247349da2b642413037a6": {
          "model_module": "@jupyter-widgets/controls",
          "model_name": "ProgressStyleModel",
          "model_module_version": "1.5.0",
          "state": {
            "_view_name": "StyleView",
            "_model_name": "ProgressStyleModel",
            "description_width": "",
            "_view_module": "@jupyter-widgets/base",
            "_model_module_version": "1.5.0",
            "_view_count": null,
            "_view_module_version": "1.2.0",
            "bar_color": null,
            "_model_module": "@jupyter-widgets/controls"
          }
        },
        "14a1538fc6574812b597bdaa4675ee56": {
          "model_module": "@jupyter-widgets/base",
          "model_name": "LayoutModel",
          "model_module_version": "1.2.0",
          "state": {
            "_view_name": "LayoutView",
            "grid_template_rows": null,
            "right": null,
            "justify_content": null,
            "_view_module": "@jupyter-widgets/base",
            "overflow": null,
            "_model_module_version": "1.2.0",
            "_view_count": null,
            "flex_flow": null,
            "width": null,
            "min_width": null,
            "border": null,
            "align_items": null,
            "bottom": null,
            "_model_module": "@jupyter-widgets/base",
            "top": null,
            "grid_column": null,
            "overflow_y": null,
            "overflow_x": null,
            "grid_auto_flow": null,
            "grid_area": null,
            "grid_template_columns": null,
            "flex": null,
            "_model_name": "LayoutModel",
            "justify_items": null,
            "grid_row": null,
            "max_height": null,
            "align_content": null,
            "visibility": null,
            "align_self": null,
            "height": null,
            "min_height": null,
            "padding": null,
            "grid_auto_rows": null,
            "grid_gap": null,
            "max_width": null,
            "order": null,
            "_view_module_version": "1.2.0",
            "grid_template_areas": null,
            "object_position": null,
            "object_fit": null,
            "grid_auto_columns": null,
            "margin": null,
            "display": null,
            "left": null
          }
        },
        "25b498a710e24f57871e8906252c5038": {
          "model_module": "@jupyter-widgets/controls",
          "model_name": "DescriptionStyleModel",
          "model_module_version": "1.5.0",
          "state": {
            "_view_name": "StyleView",
            "_model_name": "DescriptionStyleModel",
            "description_width": "",
            "_view_module": "@jupyter-widgets/base",
            "_model_module_version": "1.5.0",
            "_view_count": null,
            "_view_module_version": "1.2.0",
            "_model_module": "@jupyter-widgets/controls"
          }
        },
        "90fc2101030c4d508fb2e8f1b7e1203e": {
          "model_module": "@jupyter-widgets/base",
          "model_name": "LayoutModel",
          "model_module_version": "1.2.0",
          "state": {
            "_view_name": "LayoutView",
            "grid_template_rows": null,
            "right": null,
            "justify_content": null,
            "_view_module": "@jupyter-widgets/base",
            "overflow": null,
            "_model_module_version": "1.2.0",
            "_view_count": null,
            "flex_flow": null,
            "width": null,
            "min_width": null,
            "border": null,
            "align_items": null,
            "bottom": null,
            "_model_module": "@jupyter-widgets/base",
            "top": null,
            "grid_column": null,
            "overflow_y": null,
            "overflow_x": null,
            "grid_auto_flow": null,
            "grid_area": null,
            "grid_template_columns": null,
            "flex": null,
            "_model_name": "LayoutModel",
            "justify_items": null,
            "grid_row": null,
            "max_height": null,
            "align_content": null,
            "visibility": null,
            "align_self": null,
            "height": null,
            "min_height": null,
            "padding": null,
            "grid_auto_rows": null,
            "grid_gap": null,
            "max_width": null,
            "order": null,
            "_view_module_version": "1.2.0",
            "grid_template_areas": null,
            "object_position": null,
            "object_fit": null,
            "grid_auto_columns": null,
            "margin": null,
            "display": null,
            "left": null
          }
        },
        "052fea01244c4a75a862a88b3df9a639": {
          "model_module": "@jupyter-widgets/controls",
          "model_name": "HBoxModel",
          "model_module_version": "1.5.0",
          "state": {
            "_view_name": "HBoxView",
            "_dom_classes": [],
            "_model_name": "HBoxModel",
            "_view_module": "@jupyter-widgets/controls",
            "_model_module_version": "1.5.0",
            "_view_count": null,
            "_view_module_version": "1.5.0",
            "box_style": "",
            "layout": "IPY_MODEL_23a2ad80047c4f1193ec04440f6e5d89",
            "_model_module": "@jupyter-widgets/controls",
            "children": [
              "IPY_MODEL_100fa297d53c485aafb6560c6b9ad08f",
              "IPY_MODEL_599c8ece964b41c4b7f345213c8ef5bd",
              "IPY_MODEL_5ab8c25d790049b7825f8fac8a867100"
            ]
          }
        },
        "23a2ad80047c4f1193ec04440f6e5d89": {
          "model_module": "@jupyter-widgets/base",
          "model_name": "LayoutModel",
          "model_module_version": "1.2.0",
          "state": {
            "_view_name": "LayoutView",
            "grid_template_rows": null,
            "right": null,
            "justify_content": null,
            "_view_module": "@jupyter-widgets/base",
            "overflow": null,
            "_model_module_version": "1.2.0",
            "_view_count": null,
            "flex_flow": null,
            "width": null,
            "min_width": null,
            "border": null,
            "align_items": null,
            "bottom": null,
            "_model_module": "@jupyter-widgets/base",
            "top": null,
            "grid_column": null,
            "overflow_y": null,
            "overflow_x": null,
            "grid_auto_flow": null,
            "grid_area": null,
            "grid_template_columns": null,
            "flex": null,
            "_model_name": "LayoutModel",
            "justify_items": null,
            "grid_row": null,
            "max_height": null,
            "align_content": null,
            "visibility": null,
            "align_self": null,
            "height": null,
            "min_height": null,
            "padding": null,
            "grid_auto_rows": null,
            "grid_gap": null,
            "max_width": null,
            "order": null,
            "_view_module_version": "1.2.0",
            "grid_template_areas": null,
            "object_position": null,
            "object_fit": null,
            "grid_auto_columns": null,
            "margin": null,
            "display": null,
            "left": null
          }
        },
        "100fa297d53c485aafb6560c6b9ad08f": {
          "model_module": "@jupyter-widgets/controls",
          "model_name": "HTMLModel",
          "model_module_version": "1.5.0",
          "state": {
            "_view_name": "HTMLView",
            "style": "IPY_MODEL_c82e8b7c5568472a8b3f54416edd8764",
            "_dom_classes": [],
            "description": "",
            "_model_name": "HTMLModel",
            "placeholder": "​",
            "_view_module": "@jupyter-widgets/controls",
            "_model_module_version": "1.5.0",
            "value": "Training Loss: 0.2455, Accuracy: 0.9118: 100%",
            "_view_count": null,
            "_view_module_version": "1.5.0",
            "description_tooltip": null,
            "_model_module": "@jupyter-widgets/controls",
            "layout": "IPY_MODEL_b3169c45fbef43ffbca11e3bf7128c42"
          }
        },
        "599c8ece964b41c4b7f345213c8ef5bd": {
          "model_module": "@jupyter-widgets/controls",
          "model_name": "FloatProgressModel",
          "model_module_version": "1.5.0",
          "state": {
            "_view_name": "ProgressView",
            "style": "IPY_MODEL_06f62a94fe10485c8899f7bc5aa0df2e",
            "_dom_classes": [],
            "description": "",
            "_model_name": "FloatProgressModel",
            "bar_style": "success",
            "max": 469,
            "_view_module": "@jupyter-widgets/controls",
            "_model_module_version": "1.5.0",
            "value": 469,
            "_view_count": null,
            "_view_module_version": "1.5.0",
            "orientation": "horizontal",
            "min": 0,
            "description_tooltip": null,
            "_model_module": "@jupyter-widgets/controls",
            "layout": "IPY_MODEL_441afab154c1472eaa337357588cd189"
          }
        },
        "5ab8c25d790049b7825f8fac8a867100": {
          "model_module": "@jupyter-widgets/controls",
          "model_name": "HTMLModel",
          "model_module_version": "1.5.0",
          "state": {
            "_view_name": "HTMLView",
            "style": "IPY_MODEL_12f4758dc29d4b569ab6405e0644f95a",
            "_dom_classes": [],
            "description": "",
            "_model_name": "HTMLModel",
            "placeholder": "​",
            "_view_module": "@jupyter-widgets/controls",
            "_model_module_version": "1.5.0",
            "value": " 469/469 [00:31&lt;00:00, 14.96it/s]",
            "_view_count": null,
            "_view_module_version": "1.5.0",
            "description_tooltip": null,
            "_model_module": "@jupyter-widgets/controls",
            "layout": "IPY_MODEL_4d7036167f1143ed9436a6931c0efdf4"
          }
        },
        "c82e8b7c5568472a8b3f54416edd8764": {
          "model_module": "@jupyter-widgets/controls",
          "model_name": "DescriptionStyleModel",
          "model_module_version": "1.5.0",
          "state": {
            "_view_name": "StyleView",
            "_model_name": "DescriptionStyleModel",
            "description_width": "",
            "_view_module": "@jupyter-widgets/base",
            "_model_module_version": "1.5.0",
            "_view_count": null,
            "_view_module_version": "1.2.0",
            "_model_module": "@jupyter-widgets/controls"
          }
        },
        "b3169c45fbef43ffbca11e3bf7128c42": {
          "model_module": "@jupyter-widgets/base",
          "model_name": "LayoutModel",
          "model_module_version": "1.2.0",
          "state": {
            "_view_name": "LayoutView",
            "grid_template_rows": null,
            "right": null,
            "justify_content": null,
            "_view_module": "@jupyter-widgets/base",
            "overflow": null,
            "_model_module_version": "1.2.0",
            "_view_count": null,
            "flex_flow": null,
            "width": null,
            "min_width": null,
            "border": null,
            "align_items": null,
            "bottom": null,
            "_model_module": "@jupyter-widgets/base",
            "top": null,
            "grid_column": null,
            "overflow_y": null,
            "overflow_x": null,
            "grid_auto_flow": null,
            "grid_area": null,
            "grid_template_columns": null,
            "flex": null,
            "_model_name": "LayoutModel",
            "justify_items": null,
            "grid_row": null,
            "max_height": null,
            "align_content": null,
            "visibility": null,
            "align_self": null,
            "height": null,
            "min_height": null,
            "padding": null,
            "grid_auto_rows": null,
            "grid_gap": null,
            "max_width": null,
            "order": null,
            "_view_module_version": "1.2.0",
            "grid_template_areas": null,
            "object_position": null,
            "object_fit": null,
            "grid_auto_columns": null,
            "margin": null,
            "display": null,
            "left": null
          }
        },
        "06f62a94fe10485c8899f7bc5aa0df2e": {
          "model_module": "@jupyter-widgets/controls",
          "model_name": "ProgressStyleModel",
          "model_module_version": "1.5.0",
          "state": {
            "_view_name": "StyleView",
            "_model_name": "ProgressStyleModel",
            "description_width": "",
            "_view_module": "@jupyter-widgets/base",
            "_model_module_version": "1.5.0",
            "_view_count": null,
            "_view_module_version": "1.2.0",
            "bar_color": null,
            "_model_module": "@jupyter-widgets/controls"
          }
        },
        "441afab154c1472eaa337357588cd189": {
          "model_module": "@jupyter-widgets/base",
          "model_name": "LayoutModel",
          "model_module_version": "1.2.0",
          "state": {
            "_view_name": "LayoutView",
            "grid_template_rows": null,
            "right": null,
            "justify_content": null,
            "_view_module": "@jupyter-widgets/base",
            "overflow": null,
            "_model_module_version": "1.2.0",
            "_view_count": null,
            "flex_flow": null,
            "width": null,
            "min_width": null,
            "border": null,
            "align_items": null,
            "bottom": null,
            "_model_module": "@jupyter-widgets/base",
            "top": null,
            "grid_column": null,
            "overflow_y": null,
            "overflow_x": null,
            "grid_auto_flow": null,
            "grid_area": null,
            "grid_template_columns": null,
            "flex": null,
            "_model_name": "LayoutModel",
            "justify_items": null,
            "grid_row": null,
            "max_height": null,
            "align_content": null,
            "visibility": null,
            "align_self": null,
            "height": null,
            "min_height": null,
            "padding": null,
            "grid_auto_rows": null,
            "grid_gap": null,
            "max_width": null,
            "order": null,
            "_view_module_version": "1.2.0",
            "grid_template_areas": null,
            "object_position": null,
            "object_fit": null,
            "grid_auto_columns": null,
            "margin": null,
            "display": null,
            "left": null
          }
        },
        "12f4758dc29d4b569ab6405e0644f95a": {
          "model_module": "@jupyter-widgets/controls",
          "model_name": "DescriptionStyleModel",
          "model_module_version": "1.5.0",
          "state": {
            "_view_name": "StyleView",
            "_model_name": "DescriptionStyleModel",
            "description_width": "",
            "_view_module": "@jupyter-widgets/base",
            "_model_module_version": "1.5.0",
            "_view_count": null,
            "_view_module_version": "1.2.0",
            "_model_module": "@jupyter-widgets/controls"
          }
        },
        "4d7036167f1143ed9436a6931c0efdf4": {
          "model_module": "@jupyter-widgets/base",
          "model_name": "LayoutModel",
          "model_module_version": "1.2.0",
          "state": {
            "_view_name": "LayoutView",
            "grid_template_rows": null,
            "right": null,
            "justify_content": null,
            "_view_module": "@jupyter-widgets/base",
            "overflow": null,
            "_model_module_version": "1.2.0",
            "_view_count": null,
            "flex_flow": null,
            "width": null,
            "min_width": null,
            "border": null,
            "align_items": null,
            "bottom": null,
            "_model_module": "@jupyter-widgets/base",
            "top": null,
            "grid_column": null,
            "overflow_y": null,
            "overflow_x": null,
            "grid_auto_flow": null,
            "grid_area": null,
            "grid_template_columns": null,
            "flex": null,
            "_model_name": "LayoutModel",
            "justify_items": null,
            "grid_row": null,
            "max_height": null,
            "align_content": null,
            "visibility": null,
            "align_self": null,
            "height": null,
            "min_height": null,
            "padding": null,
            "grid_auto_rows": null,
            "grid_gap": null,
            "max_width": null,
            "order": null,
            "_view_module_version": "1.2.0",
            "grid_template_areas": null,
            "object_position": null,
            "object_fit": null,
            "grid_auto_columns": null,
            "margin": null,
            "display": null,
            "left": null
          }
        },
        "e88fecd3dcf342a59fc2e644851c9c63": {
          "model_module": "@jupyter-widgets/controls",
          "model_name": "HBoxModel",
          "model_module_version": "1.5.0",
          "state": {
            "_view_name": "HBoxView",
            "_dom_classes": [],
            "_model_name": "HBoxModel",
            "_view_module": "@jupyter-widgets/controls",
            "_model_module_version": "1.5.0",
            "_view_count": null,
            "_view_module_version": "1.5.0",
            "box_style": "",
            "layout": "IPY_MODEL_42e27f3b4cf442e3ad8f2e5208e76f20",
            "_model_module": "@jupyter-widgets/controls",
            "children": [
              "IPY_MODEL_e4530898b5854e4eb405a12e584bc572",
              "IPY_MODEL_b9f189a7aea3402fb5adb90fca71f0c7",
              "IPY_MODEL_867c252dec894c06b12acde5739faf0b"
            ]
          }
        },
        "42e27f3b4cf442e3ad8f2e5208e76f20": {
          "model_module": "@jupyter-widgets/base",
          "model_name": "LayoutModel",
          "model_module_version": "1.2.0",
          "state": {
            "_view_name": "LayoutView",
            "grid_template_rows": null,
            "right": null,
            "justify_content": null,
            "_view_module": "@jupyter-widgets/base",
            "overflow": null,
            "_model_module_version": "1.2.0",
            "_view_count": null,
            "flex_flow": null,
            "width": null,
            "min_width": null,
            "border": null,
            "align_items": null,
            "bottom": null,
            "_model_module": "@jupyter-widgets/base",
            "top": null,
            "grid_column": null,
            "overflow_y": null,
            "overflow_x": null,
            "grid_auto_flow": null,
            "grid_area": null,
            "grid_template_columns": null,
            "flex": null,
            "_model_name": "LayoutModel",
            "justify_items": null,
            "grid_row": null,
            "max_height": null,
            "align_content": null,
            "visibility": null,
            "align_self": null,
            "height": null,
            "min_height": null,
            "padding": null,
            "grid_auto_rows": null,
            "grid_gap": null,
            "max_width": null,
            "order": null,
            "_view_module_version": "1.2.0",
            "grid_template_areas": null,
            "object_position": null,
            "object_fit": null,
            "grid_auto_columns": null,
            "margin": null,
            "display": null,
            "left": null
          }
        },
        "e4530898b5854e4eb405a12e584bc572": {
          "model_module": "@jupyter-widgets/controls",
          "model_name": "HTMLModel",
          "model_module_version": "1.5.0",
          "state": {
            "_view_name": "HTMLView",
            "style": "IPY_MODEL_fbca96b92dc54335908c7e62bf06a0e7",
            "_dom_classes": [],
            "description": "",
            "_model_name": "HTMLModel",
            "placeholder": "​",
            "_view_module": "@jupyter-widgets/controls",
            "_model_module_version": "1.5.0",
            "value": "Training Loss: 0.2253, Accuracy: 0.9187: 100%",
            "_view_count": null,
            "_view_module_version": "1.5.0",
            "description_tooltip": null,
            "_model_module": "@jupyter-widgets/controls",
            "layout": "IPY_MODEL_f207fcea20f04cf1a118ff1c523cb551"
          }
        },
        "b9f189a7aea3402fb5adb90fca71f0c7": {
          "model_module": "@jupyter-widgets/controls",
          "model_name": "FloatProgressModel",
          "model_module_version": "1.5.0",
          "state": {
            "_view_name": "ProgressView",
            "style": "IPY_MODEL_5e07f5ac71144fa69eb251f7ca3f1008",
            "_dom_classes": [],
            "description": "",
            "_model_name": "FloatProgressModel",
            "bar_style": "success",
            "max": 469,
            "_view_module": "@jupyter-widgets/controls",
            "_model_module_version": "1.5.0",
            "value": 469,
            "_view_count": null,
            "_view_module_version": "1.5.0",
            "orientation": "horizontal",
            "min": 0,
            "description_tooltip": null,
            "_model_module": "@jupyter-widgets/controls",
            "layout": "IPY_MODEL_57fec9d21a204e83a2342368fc30cacc"
          }
        },
        "867c252dec894c06b12acde5739faf0b": {
          "model_module": "@jupyter-widgets/controls",
          "model_name": "HTMLModel",
          "model_module_version": "1.5.0",
          "state": {
            "_view_name": "HTMLView",
            "style": "IPY_MODEL_72a15f5324a14a8289c0d055617141c3",
            "_dom_classes": [],
            "description": "",
            "_model_name": "HTMLModel",
            "placeholder": "​",
            "_view_module": "@jupyter-widgets/controls",
            "_model_module_version": "1.5.0",
            "value": " 469/469 [00:31&lt;00:00, 15.47it/s]",
            "_view_count": null,
            "_view_module_version": "1.5.0",
            "description_tooltip": null,
            "_model_module": "@jupyter-widgets/controls",
            "layout": "IPY_MODEL_b7f209d0b2a741b182a93c0bda405469"
          }
        },
        "fbca96b92dc54335908c7e62bf06a0e7": {
          "model_module": "@jupyter-widgets/controls",
          "model_name": "DescriptionStyleModel",
          "model_module_version": "1.5.0",
          "state": {
            "_view_name": "StyleView",
            "_model_name": "DescriptionStyleModel",
            "description_width": "",
            "_view_module": "@jupyter-widgets/base",
            "_model_module_version": "1.5.0",
            "_view_count": null,
            "_view_module_version": "1.2.0",
            "_model_module": "@jupyter-widgets/controls"
          }
        },
        "f207fcea20f04cf1a118ff1c523cb551": {
          "model_module": "@jupyter-widgets/base",
          "model_name": "LayoutModel",
          "model_module_version": "1.2.0",
          "state": {
            "_view_name": "LayoutView",
            "grid_template_rows": null,
            "right": null,
            "justify_content": null,
            "_view_module": "@jupyter-widgets/base",
            "overflow": null,
            "_model_module_version": "1.2.0",
            "_view_count": null,
            "flex_flow": null,
            "width": null,
            "min_width": null,
            "border": null,
            "align_items": null,
            "bottom": null,
            "_model_module": "@jupyter-widgets/base",
            "top": null,
            "grid_column": null,
            "overflow_y": null,
            "overflow_x": null,
            "grid_auto_flow": null,
            "grid_area": null,
            "grid_template_columns": null,
            "flex": null,
            "_model_name": "LayoutModel",
            "justify_items": null,
            "grid_row": null,
            "max_height": null,
            "align_content": null,
            "visibility": null,
            "align_self": null,
            "height": null,
            "min_height": null,
            "padding": null,
            "grid_auto_rows": null,
            "grid_gap": null,
            "max_width": null,
            "order": null,
            "_view_module_version": "1.2.0",
            "grid_template_areas": null,
            "object_position": null,
            "object_fit": null,
            "grid_auto_columns": null,
            "margin": null,
            "display": null,
            "left": null
          }
        },
        "5e07f5ac71144fa69eb251f7ca3f1008": {
          "model_module": "@jupyter-widgets/controls",
          "model_name": "ProgressStyleModel",
          "model_module_version": "1.5.0",
          "state": {
            "_view_name": "StyleView",
            "_model_name": "ProgressStyleModel",
            "description_width": "",
            "_view_module": "@jupyter-widgets/base",
            "_model_module_version": "1.5.0",
            "_view_count": null,
            "_view_module_version": "1.2.0",
            "bar_color": null,
            "_model_module": "@jupyter-widgets/controls"
          }
        },
        "57fec9d21a204e83a2342368fc30cacc": {
          "model_module": "@jupyter-widgets/base",
          "model_name": "LayoutModel",
          "model_module_version": "1.2.0",
          "state": {
            "_view_name": "LayoutView",
            "grid_template_rows": null,
            "right": null,
            "justify_content": null,
            "_view_module": "@jupyter-widgets/base",
            "overflow": null,
            "_model_module_version": "1.2.0",
            "_view_count": null,
            "flex_flow": null,
            "width": null,
            "min_width": null,
            "border": null,
            "align_items": null,
            "bottom": null,
            "_model_module": "@jupyter-widgets/base",
            "top": null,
            "grid_column": null,
            "overflow_y": null,
            "overflow_x": null,
            "grid_auto_flow": null,
            "grid_area": null,
            "grid_template_columns": null,
            "flex": null,
            "_model_name": "LayoutModel",
            "justify_items": null,
            "grid_row": null,
            "max_height": null,
            "align_content": null,
            "visibility": null,
            "align_self": null,
            "height": null,
            "min_height": null,
            "padding": null,
            "grid_auto_rows": null,
            "grid_gap": null,
            "max_width": null,
            "order": null,
            "_view_module_version": "1.2.0",
            "grid_template_areas": null,
            "object_position": null,
            "object_fit": null,
            "grid_auto_columns": null,
            "margin": null,
            "display": null,
            "left": null
          }
        },
        "72a15f5324a14a8289c0d055617141c3": {
          "model_module": "@jupyter-widgets/controls",
          "model_name": "DescriptionStyleModel",
          "model_module_version": "1.5.0",
          "state": {
            "_view_name": "StyleView",
            "_model_name": "DescriptionStyleModel",
            "description_width": "",
            "_view_module": "@jupyter-widgets/base",
            "_model_module_version": "1.5.0",
            "_view_count": null,
            "_view_module_version": "1.2.0",
            "_model_module": "@jupyter-widgets/controls"
          }
        },
        "b7f209d0b2a741b182a93c0bda405469": {
          "model_module": "@jupyter-widgets/base",
          "model_name": "LayoutModel",
          "model_module_version": "1.2.0",
          "state": {
            "_view_name": "LayoutView",
            "grid_template_rows": null,
            "right": null,
            "justify_content": null,
            "_view_module": "@jupyter-widgets/base",
            "overflow": null,
            "_model_module_version": "1.2.0",
            "_view_count": null,
            "flex_flow": null,
            "width": null,
            "min_width": null,
            "border": null,
            "align_items": null,
            "bottom": null,
            "_model_module": "@jupyter-widgets/base",
            "top": null,
            "grid_column": null,
            "overflow_y": null,
            "overflow_x": null,
            "grid_auto_flow": null,
            "grid_area": null,
            "grid_template_columns": null,
            "flex": null,
            "_model_name": "LayoutModel",
            "justify_items": null,
            "grid_row": null,
            "max_height": null,
            "align_content": null,
            "visibility": null,
            "align_self": null,
            "height": null,
            "min_height": null,
            "padding": null,
            "grid_auto_rows": null,
            "grid_gap": null,
            "max_width": null,
            "order": null,
            "_view_module_version": "1.2.0",
            "grid_template_areas": null,
            "object_position": null,
            "object_fit": null,
            "grid_auto_columns": null,
            "margin": null,
            "display": null,
            "left": null
          }
        },
        "ead3fd0b7f0c43298c3d2bd9b132cf34": {
          "model_module": "@jupyter-widgets/controls",
          "model_name": "HBoxModel",
          "model_module_version": "1.5.0",
          "state": {
            "_view_name": "HBoxView",
            "_dom_classes": [],
            "_model_name": "HBoxModel",
            "_view_module": "@jupyter-widgets/controls",
            "_model_module_version": "1.5.0",
            "_view_count": null,
            "_view_module_version": "1.5.0",
            "box_style": "",
            "layout": "IPY_MODEL_2a322987193448dc9bc0fd6d278b3c5a",
            "_model_module": "@jupyter-widgets/controls",
            "children": [
              "IPY_MODEL_879e914653dc42758d70c2c1c28a6729",
              "IPY_MODEL_81255bb97f2c46fa9a8df48a5b6b7554",
              "IPY_MODEL_98365f644b6049b8bdaa2b5c01d26018"
            ]
          }
        },
        "2a322987193448dc9bc0fd6d278b3c5a": {
          "model_module": "@jupyter-widgets/base",
          "model_name": "LayoutModel",
          "model_module_version": "1.2.0",
          "state": {
            "_view_name": "LayoutView",
            "grid_template_rows": null,
            "right": null,
            "justify_content": null,
            "_view_module": "@jupyter-widgets/base",
            "overflow": null,
            "_model_module_version": "1.2.0",
            "_view_count": null,
            "flex_flow": null,
            "width": null,
            "min_width": null,
            "border": null,
            "align_items": null,
            "bottom": null,
            "_model_module": "@jupyter-widgets/base",
            "top": null,
            "grid_column": null,
            "overflow_y": null,
            "overflow_x": null,
            "grid_auto_flow": null,
            "grid_area": null,
            "grid_template_columns": null,
            "flex": null,
            "_model_name": "LayoutModel",
            "justify_items": null,
            "grid_row": null,
            "max_height": null,
            "align_content": null,
            "visibility": null,
            "align_self": null,
            "height": null,
            "min_height": null,
            "padding": null,
            "grid_auto_rows": null,
            "grid_gap": null,
            "max_width": null,
            "order": null,
            "_view_module_version": "1.2.0",
            "grid_template_areas": null,
            "object_position": null,
            "object_fit": null,
            "grid_auto_columns": null,
            "margin": null,
            "display": null,
            "left": null
          }
        },
        "879e914653dc42758d70c2c1c28a6729": {
          "model_module": "@jupyter-widgets/controls",
          "model_name": "HTMLModel",
          "model_module_version": "1.5.0",
          "state": {
            "_view_name": "HTMLView",
            "style": "IPY_MODEL_8c52cbb2c22642eea734666c7ab0962d",
            "_dom_classes": [],
            "description": "",
            "_model_name": "HTMLModel",
            "placeholder": "​",
            "_view_module": "@jupyter-widgets/controls",
            "_model_module_version": "1.5.0",
            "value": "Training Loss: 0.2102, Accuracy: 0.9240: 100%",
            "_view_count": null,
            "_view_module_version": "1.5.0",
            "description_tooltip": null,
            "_model_module": "@jupyter-widgets/controls",
            "layout": "IPY_MODEL_44a64ca04d604ea494af005bfa8099a0"
          }
        },
        "81255bb97f2c46fa9a8df48a5b6b7554": {
          "model_module": "@jupyter-widgets/controls",
          "model_name": "FloatProgressModel",
          "model_module_version": "1.5.0",
          "state": {
            "_view_name": "ProgressView",
            "style": "IPY_MODEL_f1deaa634db840288bfb3ee16f332e95",
            "_dom_classes": [],
            "description": "",
            "_model_name": "FloatProgressModel",
            "bar_style": "success",
            "max": 469,
            "_view_module": "@jupyter-widgets/controls",
            "_model_module_version": "1.5.0",
            "value": 469,
            "_view_count": null,
            "_view_module_version": "1.5.0",
            "orientation": "horizontal",
            "min": 0,
            "description_tooltip": null,
            "_model_module": "@jupyter-widgets/controls",
            "layout": "IPY_MODEL_fae2b6b18ebb4bae86271c092e8cbfc3"
          }
        },
        "98365f644b6049b8bdaa2b5c01d26018": {
          "model_module": "@jupyter-widgets/controls",
          "model_name": "HTMLModel",
          "model_module_version": "1.5.0",
          "state": {
            "_view_name": "HTMLView",
            "style": "IPY_MODEL_2b5aa396ea604e61b70e4875108037a5",
            "_dom_classes": [],
            "description": "",
            "_model_name": "HTMLModel",
            "placeholder": "​",
            "_view_module": "@jupyter-widgets/controls",
            "_model_module_version": "1.5.0",
            "value": " 469/469 [00:31&lt;00:00, 15.14it/s]",
            "_view_count": null,
            "_view_module_version": "1.5.0",
            "description_tooltip": null,
            "_model_module": "@jupyter-widgets/controls",
            "layout": "IPY_MODEL_14f9c216bfab4d50be89961048e3019f"
          }
        },
        "8c52cbb2c22642eea734666c7ab0962d": {
          "model_module": "@jupyter-widgets/controls",
          "model_name": "DescriptionStyleModel",
          "model_module_version": "1.5.0",
          "state": {
            "_view_name": "StyleView",
            "_model_name": "DescriptionStyleModel",
            "description_width": "",
            "_view_module": "@jupyter-widgets/base",
            "_model_module_version": "1.5.0",
            "_view_count": null,
            "_view_module_version": "1.2.0",
            "_model_module": "@jupyter-widgets/controls"
          }
        },
        "44a64ca04d604ea494af005bfa8099a0": {
          "model_module": "@jupyter-widgets/base",
          "model_name": "LayoutModel",
          "model_module_version": "1.2.0",
          "state": {
            "_view_name": "LayoutView",
            "grid_template_rows": null,
            "right": null,
            "justify_content": null,
            "_view_module": "@jupyter-widgets/base",
            "overflow": null,
            "_model_module_version": "1.2.0",
            "_view_count": null,
            "flex_flow": null,
            "width": null,
            "min_width": null,
            "border": null,
            "align_items": null,
            "bottom": null,
            "_model_module": "@jupyter-widgets/base",
            "top": null,
            "grid_column": null,
            "overflow_y": null,
            "overflow_x": null,
            "grid_auto_flow": null,
            "grid_area": null,
            "grid_template_columns": null,
            "flex": null,
            "_model_name": "LayoutModel",
            "justify_items": null,
            "grid_row": null,
            "max_height": null,
            "align_content": null,
            "visibility": null,
            "align_self": null,
            "height": null,
            "min_height": null,
            "padding": null,
            "grid_auto_rows": null,
            "grid_gap": null,
            "max_width": null,
            "order": null,
            "_view_module_version": "1.2.0",
            "grid_template_areas": null,
            "object_position": null,
            "object_fit": null,
            "grid_auto_columns": null,
            "margin": null,
            "display": null,
            "left": null
          }
        },
        "f1deaa634db840288bfb3ee16f332e95": {
          "model_module": "@jupyter-widgets/controls",
          "model_name": "ProgressStyleModel",
          "model_module_version": "1.5.0",
          "state": {
            "_view_name": "StyleView",
            "_model_name": "ProgressStyleModel",
            "description_width": "",
            "_view_module": "@jupyter-widgets/base",
            "_model_module_version": "1.5.0",
            "_view_count": null,
            "_view_module_version": "1.2.0",
            "bar_color": null,
            "_model_module": "@jupyter-widgets/controls"
          }
        },
        "fae2b6b18ebb4bae86271c092e8cbfc3": {
          "model_module": "@jupyter-widgets/base",
          "model_name": "LayoutModel",
          "model_module_version": "1.2.0",
          "state": {
            "_view_name": "LayoutView",
            "grid_template_rows": null,
            "right": null,
            "justify_content": null,
            "_view_module": "@jupyter-widgets/base",
            "overflow": null,
            "_model_module_version": "1.2.0",
            "_view_count": null,
            "flex_flow": null,
            "width": null,
            "min_width": null,
            "border": null,
            "align_items": null,
            "bottom": null,
            "_model_module": "@jupyter-widgets/base",
            "top": null,
            "grid_column": null,
            "overflow_y": null,
            "overflow_x": null,
            "grid_auto_flow": null,
            "grid_area": null,
            "grid_template_columns": null,
            "flex": null,
            "_model_name": "LayoutModel",
            "justify_items": null,
            "grid_row": null,
            "max_height": null,
            "align_content": null,
            "visibility": null,
            "align_self": null,
            "height": null,
            "min_height": null,
            "padding": null,
            "grid_auto_rows": null,
            "grid_gap": null,
            "max_width": null,
            "order": null,
            "_view_module_version": "1.2.0",
            "grid_template_areas": null,
            "object_position": null,
            "object_fit": null,
            "grid_auto_columns": null,
            "margin": null,
            "display": null,
            "left": null
          }
        },
        "2b5aa396ea604e61b70e4875108037a5": {
          "model_module": "@jupyter-widgets/controls",
          "model_name": "DescriptionStyleModel",
          "model_module_version": "1.5.0",
          "state": {
            "_view_name": "StyleView",
            "_model_name": "DescriptionStyleModel",
            "description_width": "",
            "_view_module": "@jupyter-widgets/base",
            "_model_module_version": "1.5.0",
            "_view_count": null,
            "_view_module_version": "1.2.0",
            "_model_module": "@jupyter-widgets/controls"
          }
        },
        "14f9c216bfab4d50be89961048e3019f": {
          "model_module": "@jupyter-widgets/base",
          "model_name": "LayoutModel",
          "model_module_version": "1.2.0",
          "state": {
            "_view_name": "LayoutView",
            "grid_template_rows": null,
            "right": null,
            "justify_content": null,
            "_view_module": "@jupyter-widgets/base",
            "overflow": null,
            "_model_module_version": "1.2.0",
            "_view_count": null,
            "flex_flow": null,
            "width": null,
            "min_width": null,
            "border": null,
            "align_items": null,
            "bottom": null,
            "_model_module": "@jupyter-widgets/base",
            "top": null,
            "grid_column": null,
            "overflow_y": null,
            "overflow_x": null,
            "grid_auto_flow": null,
            "grid_area": null,
            "grid_template_columns": null,
            "flex": null,
            "_model_name": "LayoutModel",
            "justify_items": null,
            "grid_row": null,
            "max_height": null,
            "align_content": null,
            "visibility": null,
            "align_self": null,
            "height": null,
            "min_height": null,
            "padding": null,
            "grid_auto_rows": null,
            "grid_gap": null,
            "max_width": null,
            "order": null,
            "_view_module_version": "1.2.0",
            "grid_template_areas": null,
            "object_position": null,
            "object_fit": null,
            "grid_auto_columns": null,
            "margin": null,
            "display": null,
            "left": null
          }
        },
        "0f570cefebc84f1880c045ad0b9d6072": {
          "model_module": "@jupyter-widgets/controls",
          "model_name": "HBoxModel",
          "model_module_version": "1.5.0",
          "state": {
            "_view_name": "HBoxView",
            "_dom_classes": [],
            "_model_name": "HBoxModel",
            "_view_module": "@jupyter-widgets/controls",
            "_model_module_version": "1.5.0",
            "_view_count": null,
            "_view_module_version": "1.5.0",
            "box_style": "",
            "layout": "IPY_MODEL_f7d6d7716c1c4ab895254310305c89d4",
            "_model_module": "@jupyter-widgets/controls",
            "children": [
              "IPY_MODEL_a75f2519a5764e81939a49f609e8fda9",
              "IPY_MODEL_e51a676f975b49c28cbacf990e06db41",
              "IPY_MODEL_ff8daf659c434380a15c98a48db721a9"
            ]
          }
        },
        "f7d6d7716c1c4ab895254310305c89d4": {
          "model_module": "@jupyter-widgets/base",
          "model_name": "LayoutModel",
          "model_module_version": "1.2.0",
          "state": {
            "_view_name": "LayoutView",
            "grid_template_rows": null,
            "right": null,
            "justify_content": null,
            "_view_module": "@jupyter-widgets/base",
            "overflow": null,
            "_model_module_version": "1.2.0",
            "_view_count": null,
            "flex_flow": null,
            "width": null,
            "min_width": null,
            "border": null,
            "align_items": null,
            "bottom": null,
            "_model_module": "@jupyter-widgets/base",
            "top": null,
            "grid_column": null,
            "overflow_y": null,
            "overflow_x": null,
            "grid_auto_flow": null,
            "grid_area": null,
            "grid_template_columns": null,
            "flex": null,
            "_model_name": "LayoutModel",
            "justify_items": null,
            "grid_row": null,
            "max_height": null,
            "align_content": null,
            "visibility": null,
            "align_self": null,
            "height": null,
            "min_height": null,
            "padding": null,
            "grid_auto_rows": null,
            "grid_gap": null,
            "max_width": null,
            "order": null,
            "_view_module_version": "1.2.0",
            "grid_template_areas": null,
            "object_position": null,
            "object_fit": null,
            "grid_auto_columns": null,
            "margin": null,
            "display": null,
            "left": null
          }
        },
        "a75f2519a5764e81939a49f609e8fda9": {
          "model_module": "@jupyter-widgets/controls",
          "model_name": "HTMLModel",
          "model_module_version": "1.5.0",
          "state": {
            "_view_name": "HTMLView",
            "style": "IPY_MODEL_6af5c534475f480e9b1db968fe48ea9a",
            "_dom_classes": [],
            "description": "",
            "_model_name": "HTMLModel",
            "placeholder": "​",
            "_view_module": "@jupyter-widgets/controls",
            "_model_module_version": "1.5.0",
            "value": "Training Loss: 0.5072, Accuracy: 0.8217: 100%",
            "_view_count": null,
            "_view_module_version": "1.5.0",
            "description_tooltip": null,
            "_model_module": "@jupyter-widgets/controls",
            "layout": "IPY_MODEL_6c238400278c4d219827f243fac41efa"
          }
        },
        "e51a676f975b49c28cbacf990e06db41": {
          "model_module": "@jupyter-widgets/controls",
          "model_name": "FloatProgressModel",
          "model_module_version": "1.5.0",
          "state": {
            "_view_name": "ProgressView",
            "style": "IPY_MODEL_2ccd279d43e24f96886bc1447c50337f",
            "_dom_classes": [],
            "description": "",
            "_model_name": "FloatProgressModel",
            "bar_style": "success",
            "max": 469,
            "_view_module": "@jupyter-widgets/controls",
            "_model_module_version": "1.5.0",
            "value": 469,
            "_view_count": null,
            "_view_module_version": "1.5.0",
            "orientation": "horizontal",
            "min": 0,
            "description_tooltip": null,
            "_model_module": "@jupyter-widgets/controls",
            "layout": "IPY_MODEL_6da9b1ecdf2743edab23d9faf17770a5"
          }
        },
        "ff8daf659c434380a15c98a48db721a9": {
          "model_module": "@jupyter-widgets/controls",
          "model_name": "HTMLModel",
          "model_module_version": "1.5.0",
          "state": {
            "_view_name": "HTMLView",
            "style": "IPY_MODEL_0c53d41a47004bd7a7b821847942ff03",
            "_dom_classes": [],
            "description": "",
            "_model_name": "HTMLModel",
            "placeholder": "​",
            "_view_module": "@jupyter-widgets/controls",
            "_model_module_version": "1.5.0",
            "value": " 469/469 [00:27&lt;00:00, 17.46it/s]",
            "_view_count": null,
            "_view_module_version": "1.5.0",
            "description_tooltip": null,
            "_model_module": "@jupyter-widgets/controls",
            "layout": "IPY_MODEL_96c2c85adcfd4d67a6d6e76088103efc"
          }
        },
        "6af5c534475f480e9b1db968fe48ea9a": {
          "model_module": "@jupyter-widgets/controls",
          "model_name": "DescriptionStyleModel",
          "model_module_version": "1.5.0",
          "state": {
            "_view_name": "StyleView",
            "_model_name": "DescriptionStyleModel",
            "description_width": "",
            "_view_module": "@jupyter-widgets/base",
            "_model_module_version": "1.5.0",
            "_view_count": null,
            "_view_module_version": "1.2.0",
            "_model_module": "@jupyter-widgets/controls"
          }
        },
        "6c238400278c4d219827f243fac41efa": {
          "model_module": "@jupyter-widgets/base",
          "model_name": "LayoutModel",
          "model_module_version": "1.2.0",
          "state": {
            "_view_name": "LayoutView",
            "grid_template_rows": null,
            "right": null,
            "justify_content": null,
            "_view_module": "@jupyter-widgets/base",
            "overflow": null,
            "_model_module_version": "1.2.0",
            "_view_count": null,
            "flex_flow": null,
            "width": null,
            "min_width": null,
            "border": null,
            "align_items": null,
            "bottom": null,
            "_model_module": "@jupyter-widgets/base",
            "top": null,
            "grid_column": null,
            "overflow_y": null,
            "overflow_x": null,
            "grid_auto_flow": null,
            "grid_area": null,
            "grid_template_columns": null,
            "flex": null,
            "_model_name": "LayoutModel",
            "justify_items": null,
            "grid_row": null,
            "max_height": null,
            "align_content": null,
            "visibility": null,
            "align_self": null,
            "height": null,
            "min_height": null,
            "padding": null,
            "grid_auto_rows": null,
            "grid_gap": null,
            "max_width": null,
            "order": null,
            "_view_module_version": "1.2.0",
            "grid_template_areas": null,
            "object_position": null,
            "object_fit": null,
            "grid_auto_columns": null,
            "margin": null,
            "display": null,
            "left": null
          }
        },
        "2ccd279d43e24f96886bc1447c50337f": {
          "model_module": "@jupyter-widgets/controls",
          "model_name": "ProgressStyleModel",
          "model_module_version": "1.5.0",
          "state": {
            "_view_name": "StyleView",
            "_model_name": "ProgressStyleModel",
            "description_width": "",
            "_view_module": "@jupyter-widgets/base",
            "_model_module_version": "1.5.0",
            "_view_count": null,
            "_view_module_version": "1.2.0",
            "bar_color": null,
            "_model_module": "@jupyter-widgets/controls"
          }
        },
        "6da9b1ecdf2743edab23d9faf17770a5": {
          "model_module": "@jupyter-widgets/base",
          "model_name": "LayoutModel",
          "model_module_version": "1.2.0",
          "state": {
            "_view_name": "LayoutView",
            "grid_template_rows": null,
            "right": null,
            "justify_content": null,
            "_view_module": "@jupyter-widgets/base",
            "overflow": null,
            "_model_module_version": "1.2.0",
            "_view_count": null,
            "flex_flow": null,
            "width": null,
            "min_width": null,
            "border": null,
            "align_items": null,
            "bottom": null,
            "_model_module": "@jupyter-widgets/base",
            "top": null,
            "grid_column": null,
            "overflow_y": null,
            "overflow_x": null,
            "grid_auto_flow": null,
            "grid_area": null,
            "grid_template_columns": null,
            "flex": null,
            "_model_name": "LayoutModel",
            "justify_items": null,
            "grid_row": null,
            "max_height": null,
            "align_content": null,
            "visibility": null,
            "align_self": null,
            "height": null,
            "min_height": null,
            "padding": null,
            "grid_auto_rows": null,
            "grid_gap": null,
            "max_width": null,
            "order": null,
            "_view_module_version": "1.2.0",
            "grid_template_areas": null,
            "object_position": null,
            "object_fit": null,
            "grid_auto_columns": null,
            "margin": null,
            "display": null,
            "left": null
          }
        },
        "0c53d41a47004bd7a7b821847942ff03": {
          "model_module": "@jupyter-widgets/controls",
          "model_name": "DescriptionStyleModel",
          "model_module_version": "1.5.0",
          "state": {
            "_view_name": "StyleView",
            "_model_name": "DescriptionStyleModel",
            "description_width": "",
            "_view_module": "@jupyter-widgets/base",
            "_model_module_version": "1.5.0",
            "_view_count": null,
            "_view_module_version": "1.2.0",
            "_model_module": "@jupyter-widgets/controls"
          }
        },
        "96c2c85adcfd4d67a6d6e76088103efc": {
          "model_module": "@jupyter-widgets/base",
          "model_name": "LayoutModel",
          "model_module_version": "1.2.0",
          "state": {
            "_view_name": "LayoutView",
            "grid_template_rows": null,
            "right": null,
            "justify_content": null,
            "_view_module": "@jupyter-widgets/base",
            "overflow": null,
            "_model_module_version": "1.2.0",
            "_view_count": null,
            "flex_flow": null,
            "width": null,
            "min_width": null,
            "border": null,
            "align_items": null,
            "bottom": null,
            "_model_module": "@jupyter-widgets/base",
            "top": null,
            "grid_column": null,
            "overflow_y": null,
            "overflow_x": null,
            "grid_auto_flow": null,
            "grid_area": null,
            "grid_template_columns": null,
            "flex": null,
            "_model_name": "LayoutModel",
            "justify_items": null,
            "grid_row": null,
            "max_height": null,
            "align_content": null,
            "visibility": null,
            "align_self": null,
            "height": null,
            "min_height": null,
            "padding": null,
            "grid_auto_rows": null,
            "grid_gap": null,
            "max_width": null,
            "order": null,
            "_view_module_version": "1.2.0",
            "grid_template_areas": null,
            "object_position": null,
            "object_fit": null,
            "grid_auto_columns": null,
            "margin": null,
            "display": null,
            "left": null
          }
        },
        "3ed638fc791a4c53b13e9f063eeb41ed": {
          "model_module": "@jupyter-widgets/controls",
          "model_name": "HBoxModel",
          "model_module_version": "1.5.0",
          "state": {
            "_view_name": "HBoxView",
            "_dom_classes": [],
            "_model_name": "HBoxModel",
            "_view_module": "@jupyter-widgets/controls",
            "_model_module_version": "1.5.0",
            "_view_count": null,
            "_view_module_version": "1.5.0",
            "box_style": "",
            "layout": "IPY_MODEL_65d6ceff9f5041c3b9ac7ee6c1c26e9a",
            "_model_module": "@jupyter-widgets/controls",
            "children": [
              "IPY_MODEL_0c03e7dc948f4205a7024c082eb2a617",
              "IPY_MODEL_6c62c1bf143a4593bdcc47c4e96fe215",
              "IPY_MODEL_084dde8641ca4d4b8eedbe16dc96ecb4"
            ]
          }
        },
        "65d6ceff9f5041c3b9ac7ee6c1c26e9a": {
          "model_module": "@jupyter-widgets/base",
          "model_name": "LayoutModel",
          "model_module_version": "1.2.0",
          "state": {
            "_view_name": "LayoutView",
            "grid_template_rows": null,
            "right": null,
            "justify_content": null,
            "_view_module": "@jupyter-widgets/base",
            "overflow": null,
            "_model_module_version": "1.2.0",
            "_view_count": null,
            "flex_flow": null,
            "width": null,
            "min_width": null,
            "border": null,
            "align_items": null,
            "bottom": null,
            "_model_module": "@jupyter-widgets/base",
            "top": null,
            "grid_column": null,
            "overflow_y": null,
            "overflow_x": null,
            "grid_auto_flow": null,
            "grid_area": null,
            "grid_template_columns": null,
            "flex": null,
            "_model_name": "LayoutModel",
            "justify_items": null,
            "grid_row": null,
            "max_height": null,
            "align_content": null,
            "visibility": null,
            "align_self": null,
            "height": null,
            "min_height": null,
            "padding": null,
            "grid_auto_rows": null,
            "grid_gap": null,
            "max_width": null,
            "order": null,
            "_view_module_version": "1.2.0",
            "grid_template_areas": null,
            "object_position": null,
            "object_fit": null,
            "grid_auto_columns": null,
            "margin": null,
            "display": null,
            "left": null
          }
        },
        "0c03e7dc948f4205a7024c082eb2a617": {
          "model_module": "@jupyter-widgets/controls",
          "model_name": "HTMLModel",
          "model_module_version": "1.5.0",
          "state": {
            "_view_name": "HTMLView",
            "style": "IPY_MODEL_1b3c079efffa436287593357ba81351f",
            "_dom_classes": [],
            "description": "",
            "_model_name": "HTMLModel",
            "placeholder": "​",
            "_view_module": "@jupyter-widgets/controls",
            "_model_module_version": "1.5.0",
            "value": "Training Loss: 0.3218, Accuracy: 0.8848: 100%",
            "_view_count": null,
            "_view_module_version": "1.5.0",
            "description_tooltip": null,
            "_model_module": "@jupyter-widgets/controls",
            "layout": "IPY_MODEL_de64cc921fa8465680cffe8ca296a265"
          }
        },
        "6c62c1bf143a4593bdcc47c4e96fe215": {
          "model_module": "@jupyter-widgets/controls",
          "model_name": "FloatProgressModel",
          "model_module_version": "1.5.0",
          "state": {
            "_view_name": "ProgressView",
            "style": "IPY_MODEL_9f481ebdf14f4207b8ab12b4cfc446fe",
            "_dom_classes": [],
            "description": "",
            "_model_name": "FloatProgressModel",
            "bar_style": "success",
            "max": 469,
            "_view_module": "@jupyter-widgets/controls",
            "_model_module_version": "1.5.0",
            "value": 469,
            "_view_count": null,
            "_view_module_version": "1.5.0",
            "orientation": "horizontal",
            "min": 0,
            "description_tooltip": null,
            "_model_module": "@jupyter-widgets/controls",
            "layout": "IPY_MODEL_fa837a02339d44b0a91f735521738357"
          }
        },
        "084dde8641ca4d4b8eedbe16dc96ecb4": {
          "model_module": "@jupyter-widgets/controls",
          "model_name": "HTMLModel",
          "model_module_version": "1.5.0",
          "state": {
            "_view_name": "HTMLView",
            "style": "IPY_MODEL_ada564b5bb72412a94b2eb93f8191849",
            "_dom_classes": [],
            "description": "",
            "_model_name": "HTMLModel",
            "placeholder": "​",
            "_view_module": "@jupyter-widgets/controls",
            "_model_module_version": "1.5.0",
            "value": " 469/469 [00:27&lt;00:00, 17.58it/s]",
            "_view_count": null,
            "_view_module_version": "1.5.0",
            "description_tooltip": null,
            "_model_module": "@jupyter-widgets/controls",
            "layout": "IPY_MODEL_647db0afbdb247ea931a75135f1670d0"
          }
        },
        "1b3c079efffa436287593357ba81351f": {
          "model_module": "@jupyter-widgets/controls",
          "model_name": "DescriptionStyleModel",
          "model_module_version": "1.5.0",
          "state": {
            "_view_name": "StyleView",
            "_model_name": "DescriptionStyleModel",
            "description_width": "",
            "_view_module": "@jupyter-widgets/base",
            "_model_module_version": "1.5.0",
            "_view_count": null,
            "_view_module_version": "1.2.0",
            "_model_module": "@jupyter-widgets/controls"
          }
        },
        "de64cc921fa8465680cffe8ca296a265": {
          "model_module": "@jupyter-widgets/base",
          "model_name": "LayoutModel",
          "model_module_version": "1.2.0",
          "state": {
            "_view_name": "LayoutView",
            "grid_template_rows": null,
            "right": null,
            "justify_content": null,
            "_view_module": "@jupyter-widgets/base",
            "overflow": null,
            "_model_module_version": "1.2.0",
            "_view_count": null,
            "flex_flow": null,
            "width": null,
            "min_width": null,
            "border": null,
            "align_items": null,
            "bottom": null,
            "_model_module": "@jupyter-widgets/base",
            "top": null,
            "grid_column": null,
            "overflow_y": null,
            "overflow_x": null,
            "grid_auto_flow": null,
            "grid_area": null,
            "grid_template_columns": null,
            "flex": null,
            "_model_name": "LayoutModel",
            "justify_items": null,
            "grid_row": null,
            "max_height": null,
            "align_content": null,
            "visibility": null,
            "align_self": null,
            "height": null,
            "min_height": null,
            "padding": null,
            "grid_auto_rows": null,
            "grid_gap": null,
            "max_width": null,
            "order": null,
            "_view_module_version": "1.2.0",
            "grid_template_areas": null,
            "object_position": null,
            "object_fit": null,
            "grid_auto_columns": null,
            "margin": null,
            "display": null,
            "left": null
          }
        },
        "9f481ebdf14f4207b8ab12b4cfc446fe": {
          "model_module": "@jupyter-widgets/controls",
          "model_name": "ProgressStyleModel",
          "model_module_version": "1.5.0",
          "state": {
            "_view_name": "StyleView",
            "_model_name": "ProgressStyleModel",
            "description_width": "",
            "_view_module": "@jupyter-widgets/base",
            "_model_module_version": "1.5.0",
            "_view_count": null,
            "_view_module_version": "1.2.0",
            "bar_color": null,
            "_model_module": "@jupyter-widgets/controls"
          }
        },
        "fa837a02339d44b0a91f735521738357": {
          "model_module": "@jupyter-widgets/base",
          "model_name": "LayoutModel",
          "model_module_version": "1.2.0",
          "state": {
            "_view_name": "LayoutView",
            "grid_template_rows": null,
            "right": null,
            "justify_content": null,
            "_view_module": "@jupyter-widgets/base",
            "overflow": null,
            "_model_module_version": "1.2.0",
            "_view_count": null,
            "flex_flow": null,
            "width": null,
            "min_width": null,
            "border": null,
            "align_items": null,
            "bottom": null,
            "_model_module": "@jupyter-widgets/base",
            "top": null,
            "grid_column": null,
            "overflow_y": null,
            "overflow_x": null,
            "grid_auto_flow": null,
            "grid_area": null,
            "grid_template_columns": null,
            "flex": null,
            "_model_name": "LayoutModel",
            "justify_items": null,
            "grid_row": null,
            "max_height": null,
            "align_content": null,
            "visibility": null,
            "align_self": null,
            "height": null,
            "min_height": null,
            "padding": null,
            "grid_auto_rows": null,
            "grid_gap": null,
            "max_width": null,
            "order": null,
            "_view_module_version": "1.2.0",
            "grid_template_areas": null,
            "object_position": null,
            "object_fit": null,
            "grid_auto_columns": null,
            "margin": null,
            "display": null,
            "left": null
          }
        },
        "ada564b5bb72412a94b2eb93f8191849": {
          "model_module": "@jupyter-widgets/controls",
          "model_name": "DescriptionStyleModel",
          "model_module_version": "1.5.0",
          "state": {
            "_view_name": "StyleView",
            "_model_name": "DescriptionStyleModel",
            "description_width": "",
            "_view_module": "@jupyter-widgets/base",
            "_model_module_version": "1.5.0",
            "_view_count": null,
            "_view_module_version": "1.2.0",
            "_model_module": "@jupyter-widgets/controls"
          }
        },
        "647db0afbdb247ea931a75135f1670d0": {
          "model_module": "@jupyter-widgets/base",
          "model_name": "LayoutModel",
          "model_module_version": "1.2.0",
          "state": {
            "_view_name": "LayoutView",
            "grid_template_rows": null,
            "right": null,
            "justify_content": null,
            "_view_module": "@jupyter-widgets/base",
            "overflow": null,
            "_model_module_version": "1.2.0",
            "_view_count": null,
            "flex_flow": null,
            "width": null,
            "min_width": null,
            "border": null,
            "align_items": null,
            "bottom": null,
            "_model_module": "@jupyter-widgets/base",
            "top": null,
            "grid_column": null,
            "overflow_y": null,
            "overflow_x": null,
            "grid_auto_flow": null,
            "grid_area": null,
            "grid_template_columns": null,
            "flex": null,
            "_model_name": "LayoutModel",
            "justify_items": null,
            "grid_row": null,
            "max_height": null,
            "align_content": null,
            "visibility": null,
            "align_self": null,
            "height": null,
            "min_height": null,
            "padding": null,
            "grid_auto_rows": null,
            "grid_gap": null,
            "max_width": null,
            "order": null,
            "_view_module_version": "1.2.0",
            "grid_template_areas": null,
            "object_position": null,
            "object_fit": null,
            "grid_auto_columns": null,
            "margin": null,
            "display": null,
            "left": null
          }
        },
        "230ea1190fb14c0889ce44fb3383eb54": {
          "model_module": "@jupyter-widgets/controls",
          "model_name": "HBoxModel",
          "model_module_version": "1.5.0",
          "state": {
            "_view_name": "HBoxView",
            "_dom_classes": [],
            "_model_name": "HBoxModel",
            "_view_module": "@jupyter-widgets/controls",
            "_model_module_version": "1.5.0",
            "_view_count": null,
            "_view_module_version": "1.5.0",
            "box_style": "",
            "layout": "IPY_MODEL_80d2ce2ffbd0472297bceca107869092",
            "_model_module": "@jupyter-widgets/controls",
            "children": [
              "IPY_MODEL_f47c413320cb4cc89522a1f381f937d8",
              "IPY_MODEL_e11b047333484157b8199c248f8b81b9",
              "IPY_MODEL_2019edb5962b43dab70b45b012ca23bc"
            ]
          }
        },
        "80d2ce2ffbd0472297bceca107869092": {
          "model_module": "@jupyter-widgets/base",
          "model_name": "LayoutModel",
          "model_module_version": "1.2.0",
          "state": {
            "_view_name": "LayoutView",
            "grid_template_rows": null,
            "right": null,
            "justify_content": null,
            "_view_module": "@jupyter-widgets/base",
            "overflow": null,
            "_model_module_version": "1.2.0",
            "_view_count": null,
            "flex_flow": null,
            "width": null,
            "min_width": null,
            "border": null,
            "align_items": null,
            "bottom": null,
            "_model_module": "@jupyter-widgets/base",
            "top": null,
            "grid_column": null,
            "overflow_y": null,
            "overflow_x": null,
            "grid_auto_flow": null,
            "grid_area": null,
            "grid_template_columns": null,
            "flex": null,
            "_model_name": "LayoutModel",
            "justify_items": null,
            "grid_row": null,
            "max_height": null,
            "align_content": null,
            "visibility": null,
            "align_self": null,
            "height": null,
            "min_height": null,
            "padding": null,
            "grid_auto_rows": null,
            "grid_gap": null,
            "max_width": null,
            "order": null,
            "_view_module_version": "1.2.0",
            "grid_template_areas": null,
            "object_position": null,
            "object_fit": null,
            "grid_auto_columns": null,
            "margin": null,
            "display": null,
            "left": null
          }
        },
        "f47c413320cb4cc89522a1f381f937d8": {
          "model_module": "@jupyter-widgets/controls",
          "model_name": "HTMLModel",
          "model_module_version": "1.5.0",
          "state": {
            "_view_name": "HTMLView",
            "style": "IPY_MODEL_bccb09309001476cb109b14f4b8afd98",
            "_dom_classes": [],
            "description": "",
            "_model_name": "HTMLModel",
            "placeholder": "​",
            "_view_module": "@jupyter-widgets/controls",
            "_model_module_version": "1.5.0",
            "value": "Training Loss: 0.2818, Accuracy: 0.8986: 100%",
            "_view_count": null,
            "_view_module_version": "1.5.0",
            "description_tooltip": null,
            "_model_module": "@jupyter-widgets/controls",
            "layout": "IPY_MODEL_cbb02306962144ed9200724a71c53079"
          }
        },
        "e11b047333484157b8199c248f8b81b9": {
          "model_module": "@jupyter-widgets/controls",
          "model_name": "FloatProgressModel",
          "model_module_version": "1.5.0",
          "state": {
            "_view_name": "ProgressView",
            "style": "IPY_MODEL_a2f059b8505f43798c92a887258ae43a",
            "_dom_classes": [],
            "description": "",
            "_model_name": "FloatProgressModel",
            "bar_style": "success",
            "max": 469,
            "_view_module": "@jupyter-widgets/controls",
            "_model_module_version": "1.5.0",
            "value": 469,
            "_view_count": null,
            "_view_module_version": "1.5.0",
            "orientation": "horizontal",
            "min": 0,
            "description_tooltip": null,
            "_model_module": "@jupyter-widgets/controls",
            "layout": "IPY_MODEL_c738703a4dec4af1b00cb24d4a5be7f4"
          }
        },
        "2019edb5962b43dab70b45b012ca23bc": {
          "model_module": "@jupyter-widgets/controls",
          "model_name": "HTMLModel",
          "model_module_version": "1.5.0",
          "state": {
            "_view_name": "HTMLView",
            "style": "IPY_MODEL_4f46766cecfb446193bbbde5c5c4bf2a",
            "_dom_classes": [],
            "description": "",
            "_model_name": "HTMLModel",
            "placeholder": "​",
            "_view_module": "@jupyter-widgets/controls",
            "_model_module_version": "1.5.0",
            "value": " 469/469 [00:27&lt;00:00, 17.85it/s]",
            "_view_count": null,
            "_view_module_version": "1.5.0",
            "description_tooltip": null,
            "_model_module": "@jupyter-widgets/controls",
            "layout": "IPY_MODEL_e41898a854d84964a5717f1c2536d4fd"
          }
        },
        "bccb09309001476cb109b14f4b8afd98": {
          "model_module": "@jupyter-widgets/controls",
          "model_name": "DescriptionStyleModel",
          "model_module_version": "1.5.0",
          "state": {
            "_view_name": "StyleView",
            "_model_name": "DescriptionStyleModel",
            "description_width": "",
            "_view_module": "@jupyter-widgets/base",
            "_model_module_version": "1.5.0",
            "_view_count": null,
            "_view_module_version": "1.2.0",
            "_model_module": "@jupyter-widgets/controls"
          }
        },
        "cbb02306962144ed9200724a71c53079": {
          "model_module": "@jupyter-widgets/base",
          "model_name": "LayoutModel",
          "model_module_version": "1.2.0",
          "state": {
            "_view_name": "LayoutView",
            "grid_template_rows": null,
            "right": null,
            "justify_content": null,
            "_view_module": "@jupyter-widgets/base",
            "overflow": null,
            "_model_module_version": "1.2.0",
            "_view_count": null,
            "flex_flow": null,
            "width": null,
            "min_width": null,
            "border": null,
            "align_items": null,
            "bottom": null,
            "_model_module": "@jupyter-widgets/base",
            "top": null,
            "grid_column": null,
            "overflow_y": null,
            "overflow_x": null,
            "grid_auto_flow": null,
            "grid_area": null,
            "grid_template_columns": null,
            "flex": null,
            "_model_name": "LayoutModel",
            "justify_items": null,
            "grid_row": null,
            "max_height": null,
            "align_content": null,
            "visibility": null,
            "align_self": null,
            "height": null,
            "min_height": null,
            "padding": null,
            "grid_auto_rows": null,
            "grid_gap": null,
            "max_width": null,
            "order": null,
            "_view_module_version": "1.2.0",
            "grid_template_areas": null,
            "object_position": null,
            "object_fit": null,
            "grid_auto_columns": null,
            "margin": null,
            "display": null,
            "left": null
          }
        },
        "a2f059b8505f43798c92a887258ae43a": {
          "model_module": "@jupyter-widgets/controls",
          "model_name": "ProgressStyleModel",
          "model_module_version": "1.5.0",
          "state": {
            "_view_name": "StyleView",
            "_model_name": "ProgressStyleModel",
            "description_width": "",
            "_view_module": "@jupyter-widgets/base",
            "_model_module_version": "1.5.0",
            "_view_count": null,
            "_view_module_version": "1.2.0",
            "bar_color": null,
            "_model_module": "@jupyter-widgets/controls"
          }
        },
        "c738703a4dec4af1b00cb24d4a5be7f4": {
          "model_module": "@jupyter-widgets/base",
          "model_name": "LayoutModel",
          "model_module_version": "1.2.0",
          "state": {
            "_view_name": "LayoutView",
            "grid_template_rows": null,
            "right": null,
            "justify_content": null,
            "_view_module": "@jupyter-widgets/base",
            "overflow": null,
            "_model_module_version": "1.2.0",
            "_view_count": null,
            "flex_flow": null,
            "width": null,
            "min_width": null,
            "border": null,
            "align_items": null,
            "bottom": null,
            "_model_module": "@jupyter-widgets/base",
            "top": null,
            "grid_column": null,
            "overflow_y": null,
            "overflow_x": null,
            "grid_auto_flow": null,
            "grid_area": null,
            "grid_template_columns": null,
            "flex": null,
            "_model_name": "LayoutModel",
            "justify_items": null,
            "grid_row": null,
            "max_height": null,
            "align_content": null,
            "visibility": null,
            "align_self": null,
            "height": null,
            "min_height": null,
            "padding": null,
            "grid_auto_rows": null,
            "grid_gap": null,
            "max_width": null,
            "order": null,
            "_view_module_version": "1.2.0",
            "grid_template_areas": null,
            "object_position": null,
            "object_fit": null,
            "grid_auto_columns": null,
            "margin": null,
            "display": null,
            "left": null
          }
        },
        "4f46766cecfb446193bbbde5c5c4bf2a": {
          "model_module": "@jupyter-widgets/controls",
          "model_name": "DescriptionStyleModel",
          "model_module_version": "1.5.0",
          "state": {
            "_view_name": "StyleView",
            "_model_name": "DescriptionStyleModel",
            "description_width": "",
            "_view_module": "@jupyter-widgets/base",
            "_model_module_version": "1.5.0",
            "_view_count": null,
            "_view_module_version": "1.2.0",
            "_model_module": "@jupyter-widgets/controls"
          }
        },
        "e41898a854d84964a5717f1c2536d4fd": {
          "model_module": "@jupyter-widgets/base",
          "model_name": "LayoutModel",
          "model_module_version": "1.2.0",
          "state": {
            "_view_name": "LayoutView",
            "grid_template_rows": null,
            "right": null,
            "justify_content": null,
            "_view_module": "@jupyter-widgets/base",
            "overflow": null,
            "_model_module_version": "1.2.0",
            "_view_count": null,
            "flex_flow": null,
            "width": null,
            "min_width": null,
            "border": null,
            "align_items": null,
            "bottom": null,
            "_model_module": "@jupyter-widgets/base",
            "top": null,
            "grid_column": null,
            "overflow_y": null,
            "overflow_x": null,
            "grid_auto_flow": null,
            "grid_area": null,
            "grid_template_columns": null,
            "flex": null,
            "_model_name": "LayoutModel",
            "justify_items": null,
            "grid_row": null,
            "max_height": null,
            "align_content": null,
            "visibility": null,
            "align_self": null,
            "height": null,
            "min_height": null,
            "padding": null,
            "grid_auto_rows": null,
            "grid_gap": null,
            "max_width": null,
            "order": null,
            "_view_module_version": "1.2.0",
            "grid_template_areas": null,
            "object_position": null,
            "object_fit": null,
            "grid_auto_columns": null,
            "margin": null,
            "display": null,
            "left": null
          }
        },
        "094df86a8452488bb701ffb0b6bce686": {
          "model_module": "@jupyter-widgets/controls",
          "model_name": "HBoxModel",
          "model_module_version": "1.5.0",
          "state": {
            "_view_name": "HBoxView",
            "_dom_classes": [],
            "_model_name": "HBoxModel",
            "_view_module": "@jupyter-widgets/controls",
            "_model_module_version": "1.5.0",
            "_view_count": null,
            "_view_module_version": "1.5.0",
            "box_style": "",
            "layout": "IPY_MODEL_99385324beac46deae25a447ba3296b7",
            "_model_module": "@jupyter-widgets/controls",
            "children": [
              "IPY_MODEL_f4a67eeb60aa46718cd4f4b075319a02",
              "IPY_MODEL_e38e7e3876b14d508099546b6e7fb017",
              "IPY_MODEL_6eff29131b034042b774cc05f56e30d0"
            ]
          }
        },
        "99385324beac46deae25a447ba3296b7": {
          "model_module": "@jupyter-widgets/base",
          "model_name": "LayoutModel",
          "model_module_version": "1.2.0",
          "state": {
            "_view_name": "LayoutView",
            "grid_template_rows": null,
            "right": null,
            "justify_content": null,
            "_view_module": "@jupyter-widgets/base",
            "overflow": null,
            "_model_module_version": "1.2.0",
            "_view_count": null,
            "flex_flow": null,
            "width": null,
            "min_width": null,
            "border": null,
            "align_items": null,
            "bottom": null,
            "_model_module": "@jupyter-widgets/base",
            "top": null,
            "grid_column": null,
            "overflow_y": null,
            "overflow_x": null,
            "grid_auto_flow": null,
            "grid_area": null,
            "grid_template_columns": null,
            "flex": null,
            "_model_name": "LayoutModel",
            "justify_items": null,
            "grid_row": null,
            "max_height": null,
            "align_content": null,
            "visibility": null,
            "align_self": null,
            "height": null,
            "min_height": null,
            "padding": null,
            "grid_auto_rows": null,
            "grid_gap": null,
            "max_width": null,
            "order": null,
            "_view_module_version": "1.2.0",
            "grid_template_areas": null,
            "object_position": null,
            "object_fit": null,
            "grid_auto_columns": null,
            "margin": null,
            "display": null,
            "left": null
          }
        },
        "f4a67eeb60aa46718cd4f4b075319a02": {
          "model_module": "@jupyter-widgets/controls",
          "model_name": "HTMLModel",
          "model_module_version": "1.5.0",
          "state": {
            "_view_name": "HTMLView",
            "style": "IPY_MODEL_2cc093179b6a4c50b33adf7fbe7e7703",
            "_dom_classes": [],
            "description": "",
            "_model_name": "HTMLModel",
            "placeholder": "​",
            "_view_module": "@jupyter-widgets/controls",
            "_model_module_version": "1.5.0",
            "value": "Training Loss: 0.2605, Accuracy: 0.9058: 100%",
            "_view_count": null,
            "_view_module_version": "1.5.0",
            "description_tooltip": null,
            "_model_module": "@jupyter-widgets/controls",
            "layout": "IPY_MODEL_3f59b41ab8c444189d5e79cfc5694f21"
          }
        },
        "e38e7e3876b14d508099546b6e7fb017": {
          "model_module": "@jupyter-widgets/controls",
          "model_name": "FloatProgressModel",
          "model_module_version": "1.5.0",
          "state": {
            "_view_name": "ProgressView",
            "style": "IPY_MODEL_e0728b6ae36845f9b159fbedd5e12539",
            "_dom_classes": [],
            "description": "",
            "_model_name": "FloatProgressModel",
            "bar_style": "success",
            "max": 469,
            "_view_module": "@jupyter-widgets/controls",
            "_model_module_version": "1.5.0",
            "value": 469,
            "_view_count": null,
            "_view_module_version": "1.5.0",
            "orientation": "horizontal",
            "min": 0,
            "description_tooltip": null,
            "_model_module": "@jupyter-widgets/controls",
            "layout": "IPY_MODEL_dd3b49fdcbc743f3a28d96f415653dc6"
          }
        },
        "6eff29131b034042b774cc05f56e30d0": {
          "model_module": "@jupyter-widgets/controls",
          "model_name": "HTMLModel",
          "model_module_version": "1.5.0",
          "state": {
            "_view_name": "HTMLView",
            "style": "IPY_MODEL_6f46967532034ee7b7cde338263d539b",
            "_dom_classes": [],
            "description": "",
            "_model_name": "HTMLModel",
            "placeholder": "​",
            "_view_module": "@jupyter-widgets/controls",
            "_model_module_version": "1.5.0",
            "value": " 469/469 [00:27&lt;00:00, 17.91it/s]",
            "_view_count": null,
            "_view_module_version": "1.5.0",
            "description_tooltip": null,
            "_model_module": "@jupyter-widgets/controls",
            "layout": "IPY_MODEL_c4d9a7ce4c6b4220ba9e95281faa8393"
          }
        },
        "2cc093179b6a4c50b33adf7fbe7e7703": {
          "model_module": "@jupyter-widgets/controls",
          "model_name": "DescriptionStyleModel",
          "model_module_version": "1.5.0",
          "state": {
            "_view_name": "StyleView",
            "_model_name": "DescriptionStyleModel",
            "description_width": "",
            "_view_module": "@jupyter-widgets/base",
            "_model_module_version": "1.5.0",
            "_view_count": null,
            "_view_module_version": "1.2.0",
            "_model_module": "@jupyter-widgets/controls"
          }
        },
        "3f59b41ab8c444189d5e79cfc5694f21": {
          "model_module": "@jupyter-widgets/base",
          "model_name": "LayoutModel",
          "model_module_version": "1.2.0",
          "state": {
            "_view_name": "LayoutView",
            "grid_template_rows": null,
            "right": null,
            "justify_content": null,
            "_view_module": "@jupyter-widgets/base",
            "overflow": null,
            "_model_module_version": "1.2.0",
            "_view_count": null,
            "flex_flow": null,
            "width": null,
            "min_width": null,
            "border": null,
            "align_items": null,
            "bottom": null,
            "_model_module": "@jupyter-widgets/base",
            "top": null,
            "grid_column": null,
            "overflow_y": null,
            "overflow_x": null,
            "grid_auto_flow": null,
            "grid_area": null,
            "grid_template_columns": null,
            "flex": null,
            "_model_name": "LayoutModel",
            "justify_items": null,
            "grid_row": null,
            "max_height": null,
            "align_content": null,
            "visibility": null,
            "align_self": null,
            "height": null,
            "min_height": null,
            "padding": null,
            "grid_auto_rows": null,
            "grid_gap": null,
            "max_width": null,
            "order": null,
            "_view_module_version": "1.2.0",
            "grid_template_areas": null,
            "object_position": null,
            "object_fit": null,
            "grid_auto_columns": null,
            "margin": null,
            "display": null,
            "left": null
          }
        },
        "e0728b6ae36845f9b159fbedd5e12539": {
          "model_module": "@jupyter-widgets/controls",
          "model_name": "ProgressStyleModel",
          "model_module_version": "1.5.0",
          "state": {
            "_view_name": "StyleView",
            "_model_name": "ProgressStyleModel",
            "description_width": "",
            "_view_module": "@jupyter-widgets/base",
            "_model_module_version": "1.5.0",
            "_view_count": null,
            "_view_module_version": "1.2.0",
            "bar_color": null,
            "_model_module": "@jupyter-widgets/controls"
          }
        },
        "dd3b49fdcbc743f3a28d96f415653dc6": {
          "model_module": "@jupyter-widgets/base",
          "model_name": "LayoutModel",
          "model_module_version": "1.2.0",
          "state": {
            "_view_name": "LayoutView",
            "grid_template_rows": null,
            "right": null,
            "justify_content": null,
            "_view_module": "@jupyter-widgets/base",
            "overflow": null,
            "_model_module_version": "1.2.0",
            "_view_count": null,
            "flex_flow": null,
            "width": null,
            "min_width": null,
            "border": null,
            "align_items": null,
            "bottom": null,
            "_model_module": "@jupyter-widgets/base",
            "top": null,
            "grid_column": null,
            "overflow_y": null,
            "overflow_x": null,
            "grid_auto_flow": null,
            "grid_area": null,
            "grid_template_columns": null,
            "flex": null,
            "_model_name": "LayoutModel",
            "justify_items": null,
            "grid_row": null,
            "max_height": null,
            "align_content": null,
            "visibility": null,
            "align_self": null,
            "height": null,
            "min_height": null,
            "padding": null,
            "grid_auto_rows": null,
            "grid_gap": null,
            "max_width": null,
            "order": null,
            "_view_module_version": "1.2.0",
            "grid_template_areas": null,
            "object_position": null,
            "object_fit": null,
            "grid_auto_columns": null,
            "margin": null,
            "display": null,
            "left": null
          }
        },
        "6f46967532034ee7b7cde338263d539b": {
          "model_module": "@jupyter-widgets/controls",
          "model_name": "DescriptionStyleModel",
          "model_module_version": "1.5.0",
          "state": {
            "_view_name": "StyleView",
            "_model_name": "DescriptionStyleModel",
            "description_width": "",
            "_view_module": "@jupyter-widgets/base",
            "_model_module_version": "1.5.0",
            "_view_count": null,
            "_view_module_version": "1.2.0",
            "_model_module": "@jupyter-widgets/controls"
          }
        },
        "c4d9a7ce4c6b4220ba9e95281faa8393": {
          "model_module": "@jupyter-widgets/base",
          "model_name": "LayoutModel",
          "model_module_version": "1.2.0",
          "state": {
            "_view_name": "LayoutView",
            "grid_template_rows": null,
            "right": null,
            "justify_content": null,
            "_view_module": "@jupyter-widgets/base",
            "overflow": null,
            "_model_module_version": "1.2.0",
            "_view_count": null,
            "flex_flow": null,
            "width": null,
            "min_width": null,
            "border": null,
            "align_items": null,
            "bottom": null,
            "_model_module": "@jupyter-widgets/base",
            "top": null,
            "grid_column": null,
            "overflow_y": null,
            "overflow_x": null,
            "grid_auto_flow": null,
            "grid_area": null,
            "grid_template_columns": null,
            "flex": null,
            "_model_name": "LayoutModel",
            "justify_items": null,
            "grid_row": null,
            "max_height": null,
            "align_content": null,
            "visibility": null,
            "align_self": null,
            "height": null,
            "min_height": null,
            "padding": null,
            "grid_auto_rows": null,
            "grid_gap": null,
            "max_width": null,
            "order": null,
            "_view_module_version": "1.2.0",
            "grid_template_areas": null,
            "object_position": null,
            "object_fit": null,
            "grid_auto_columns": null,
            "margin": null,
            "display": null,
            "left": null
          }
        },
        "ffd87f68841048cba3c68310e38ef3a0": {
          "model_module": "@jupyter-widgets/controls",
          "model_name": "HBoxModel",
          "model_module_version": "1.5.0",
          "state": {
            "_view_name": "HBoxView",
            "_dom_classes": [],
            "_model_name": "HBoxModel",
            "_view_module": "@jupyter-widgets/controls",
            "_model_module_version": "1.5.0",
            "_view_count": null,
            "_view_module_version": "1.5.0",
            "box_style": "",
            "layout": "IPY_MODEL_592495fc1b364b949bd7437c58ae0f96",
            "_model_module": "@jupyter-widgets/controls",
            "children": [
              "IPY_MODEL_0bbd9c271b3c4b499becc753d6c6a129",
              "IPY_MODEL_542c3da60e0b4eedbedd4825c0f9b825",
              "IPY_MODEL_4a31c6590c7c40e89779ac115c22934d"
            ]
          }
        },
        "592495fc1b364b949bd7437c58ae0f96": {
          "model_module": "@jupyter-widgets/base",
          "model_name": "LayoutModel",
          "model_module_version": "1.2.0",
          "state": {
            "_view_name": "LayoutView",
            "grid_template_rows": null,
            "right": null,
            "justify_content": null,
            "_view_module": "@jupyter-widgets/base",
            "overflow": null,
            "_model_module_version": "1.2.0",
            "_view_count": null,
            "flex_flow": null,
            "width": null,
            "min_width": null,
            "border": null,
            "align_items": null,
            "bottom": null,
            "_model_module": "@jupyter-widgets/base",
            "top": null,
            "grid_column": null,
            "overflow_y": null,
            "overflow_x": null,
            "grid_auto_flow": null,
            "grid_area": null,
            "grid_template_columns": null,
            "flex": null,
            "_model_name": "LayoutModel",
            "justify_items": null,
            "grid_row": null,
            "max_height": null,
            "align_content": null,
            "visibility": null,
            "align_self": null,
            "height": null,
            "min_height": null,
            "padding": null,
            "grid_auto_rows": null,
            "grid_gap": null,
            "max_width": null,
            "order": null,
            "_view_module_version": "1.2.0",
            "grid_template_areas": null,
            "object_position": null,
            "object_fit": null,
            "grid_auto_columns": null,
            "margin": null,
            "display": null,
            "left": null
          }
        },
        "0bbd9c271b3c4b499becc753d6c6a129": {
          "model_module": "@jupyter-widgets/controls",
          "model_name": "HTMLModel",
          "model_module_version": "1.5.0",
          "state": {
            "_view_name": "HTMLView",
            "style": "IPY_MODEL_84c06cb1588945e184f646e77415e150",
            "_dom_classes": [],
            "description": "",
            "_model_name": "HTMLModel",
            "placeholder": "​",
            "_view_module": "@jupyter-widgets/controls",
            "_model_module_version": "1.5.0",
            "value": "Training Loss: 0.2454, Accuracy: 0.9118: 100%",
            "_view_count": null,
            "_view_module_version": "1.5.0",
            "description_tooltip": null,
            "_model_module": "@jupyter-widgets/controls",
            "layout": "IPY_MODEL_30c02feb41d54b548a8883f84a2f1237"
          }
        },
        "542c3da60e0b4eedbedd4825c0f9b825": {
          "model_module": "@jupyter-widgets/controls",
          "model_name": "FloatProgressModel",
          "model_module_version": "1.5.0",
          "state": {
            "_view_name": "ProgressView",
            "style": "IPY_MODEL_52603de2831546acb3f38106548fca67",
            "_dom_classes": [],
            "description": "",
            "_model_name": "FloatProgressModel",
            "bar_style": "success",
            "max": 469,
            "_view_module": "@jupyter-widgets/controls",
            "_model_module_version": "1.5.0",
            "value": 469,
            "_view_count": null,
            "_view_module_version": "1.5.0",
            "orientation": "horizontal",
            "min": 0,
            "description_tooltip": null,
            "_model_module": "@jupyter-widgets/controls",
            "layout": "IPY_MODEL_bddd5ba6a5b44078b9deac81ae207da8"
          }
        },
        "4a31c6590c7c40e89779ac115c22934d": {
          "model_module": "@jupyter-widgets/controls",
          "model_name": "HTMLModel",
          "model_module_version": "1.5.0",
          "state": {
            "_view_name": "HTMLView",
            "style": "IPY_MODEL_7d37a5cc162e4da3a4ab889f7823900a",
            "_dom_classes": [],
            "description": "",
            "_model_name": "HTMLModel",
            "placeholder": "​",
            "_view_module": "@jupyter-widgets/controls",
            "_model_module_version": "1.5.0",
            "value": " 469/469 [00:27&lt;00:00, 17.97it/s]",
            "_view_count": null,
            "_view_module_version": "1.5.0",
            "description_tooltip": null,
            "_model_module": "@jupyter-widgets/controls",
            "layout": "IPY_MODEL_989bbca4aba047eaa5d8e0b806d51a2c"
          }
        },
        "84c06cb1588945e184f646e77415e150": {
          "model_module": "@jupyter-widgets/controls",
          "model_name": "DescriptionStyleModel",
          "model_module_version": "1.5.0",
          "state": {
            "_view_name": "StyleView",
            "_model_name": "DescriptionStyleModel",
            "description_width": "",
            "_view_module": "@jupyter-widgets/base",
            "_model_module_version": "1.5.0",
            "_view_count": null,
            "_view_module_version": "1.2.0",
            "_model_module": "@jupyter-widgets/controls"
          }
        },
        "30c02feb41d54b548a8883f84a2f1237": {
          "model_module": "@jupyter-widgets/base",
          "model_name": "LayoutModel",
          "model_module_version": "1.2.0",
          "state": {
            "_view_name": "LayoutView",
            "grid_template_rows": null,
            "right": null,
            "justify_content": null,
            "_view_module": "@jupyter-widgets/base",
            "overflow": null,
            "_model_module_version": "1.2.0",
            "_view_count": null,
            "flex_flow": null,
            "width": null,
            "min_width": null,
            "border": null,
            "align_items": null,
            "bottom": null,
            "_model_module": "@jupyter-widgets/base",
            "top": null,
            "grid_column": null,
            "overflow_y": null,
            "overflow_x": null,
            "grid_auto_flow": null,
            "grid_area": null,
            "grid_template_columns": null,
            "flex": null,
            "_model_name": "LayoutModel",
            "justify_items": null,
            "grid_row": null,
            "max_height": null,
            "align_content": null,
            "visibility": null,
            "align_self": null,
            "height": null,
            "min_height": null,
            "padding": null,
            "grid_auto_rows": null,
            "grid_gap": null,
            "max_width": null,
            "order": null,
            "_view_module_version": "1.2.0",
            "grid_template_areas": null,
            "object_position": null,
            "object_fit": null,
            "grid_auto_columns": null,
            "margin": null,
            "display": null,
            "left": null
          }
        },
        "52603de2831546acb3f38106548fca67": {
          "model_module": "@jupyter-widgets/controls",
          "model_name": "ProgressStyleModel",
          "model_module_version": "1.5.0",
          "state": {
            "_view_name": "StyleView",
            "_model_name": "ProgressStyleModel",
            "description_width": "",
            "_view_module": "@jupyter-widgets/base",
            "_model_module_version": "1.5.0",
            "_view_count": null,
            "_view_module_version": "1.2.0",
            "bar_color": null,
            "_model_module": "@jupyter-widgets/controls"
          }
        },
        "bddd5ba6a5b44078b9deac81ae207da8": {
          "model_module": "@jupyter-widgets/base",
          "model_name": "LayoutModel",
          "model_module_version": "1.2.0",
          "state": {
            "_view_name": "LayoutView",
            "grid_template_rows": null,
            "right": null,
            "justify_content": null,
            "_view_module": "@jupyter-widgets/base",
            "overflow": null,
            "_model_module_version": "1.2.0",
            "_view_count": null,
            "flex_flow": null,
            "width": null,
            "min_width": null,
            "border": null,
            "align_items": null,
            "bottom": null,
            "_model_module": "@jupyter-widgets/base",
            "top": null,
            "grid_column": null,
            "overflow_y": null,
            "overflow_x": null,
            "grid_auto_flow": null,
            "grid_area": null,
            "grid_template_columns": null,
            "flex": null,
            "_model_name": "LayoutModel",
            "justify_items": null,
            "grid_row": null,
            "max_height": null,
            "align_content": null,
            "visibility": null,
            "align_self": null,
            "height": null,
            "min_height": null,
            "padding": null,
            "grid_auto_rows": null,
            "grid_gap": null,
            "max_width": null,
            "order": null,
            "_view_module_version": "1.2.0",
            "grid_template_areas": null,
            "object_position": null,
            "object_fit": null,
            "grid_auto_columns": null,
            "margin": null,
            "display": null,
            "left": null
          }
        },
        "7d37a5cc162e4da3a4ab889f7823900a": {
          "model_module": "@jupyter-widgets/controls",
          "model_name": "DescriptionStyleModel",
          "model_module_version": "1.5.0",
          "state": {
            "_view_name": "StyleView",
            "_model_name": "DescriptionStyleModel",
            "description_width": "",
            "_view_module": "@jupyter-widgets/base",
            "_model_module_version": "1.5.0",
            "_view_count": null,
            "_view_module_version": "1.2.0",
            "_model_module": "@jupyter-widgets/controls"
          }
        },
        "989bbca4aba047eaa5d8e0b806d51a2c": {
          "model_module": "@jupyter-widgets/base",
          "model_name": "LayoutModel",
          "model_module_version": "1.2.0",
          "state": {
            "_view_name": "LayoutView",
            "grid_template_rows": null,
            "right": null,
            "justify_content": null,
            "_view_module": "@jupyter-widgets/base",
            "overflow": null,
            "_model_module_version": "1.2.0",
            "_view_count": null,
            "flex_flow": null,
            "width": null,
            "min_width": null,
            "border": null,
            "align_items": null,
            "bottom": null,
            "_model_module": "@jupyter-widgets/base",
            "top": null,
            "grid_column": null,
            "overflow_y": null,
            "overflow_x": null,
            "grid_auto_flow": null,
            "grid_area": null,
            "grid_template_columns": null,
            "flex": null,
            "_model_name": "LayoutModel",
            "justify_items": null,
            "grid_row": null,
            "max_height": null,
            "align_content": null,
            "visibility": null,
            "align_self": null,
            "height": null,
            "min_height": null,
            "padding": null,
            "grid_auto_rows": null,
            "grid_gap": null,
            "max_width": null,
            "order": null,
            "_view_module_version": "1.2.0",
            "grid_template_areas": null,
            "object_position": null,
            "object_fit": null,
            "grid_auto_columns": null,
            "margin": null,
            "display": null,
            "left": null
          }
        }
      }
    }
  },
  "cells": [
    {
      "cell_type": "markdown",
      "metadata": {
        "id": "view-in-github",
        "colab_type": "text"
      },
      "source": [
        "<a href=\"https://colab.research.google.com/github/LorenzoLamberti94/APAI2021/blob/main/Solution_LAB1_APAI_DNN_Definition_%26_Training.ipynb\" target=\"_parent\"><img src=\"https://colab.research.google.com/assets/colab-badge.svg\" alt=\"Open In Colab\"/></a>"
      ]
    },
    {
      "cell_type": "markdown",
      "metadata": {
        "id": "mDxvjs35_SWd"
      },
      "source": [
        "# **LAB1 APAI: DNN Definition & Training**\n",
        "\n",
        "**Credits**: *Francesco Conti,  Lorenzo Lamberti, Alessio Burrello, Nazareno Bruschi, Davide Nadalini, Alberto Dequino.*\n",
        "*(University of Bologna)*\n",
        "\n",
        "**Contacts**: *lorenzo.lamberti@unibo.it*, *f.conti@unibo.it* \n",
        "\n"
      ]
    },
    {
      "cell_type": "markdown",
      "metadata": {
        "id": "eSLWHhFQh56H"
      },
      "source": [
        "## **In this Hands-on session:**\n",
        "\n",
        "A first-time user of Pytorch framework will learn how to define, train, and test a neural network over the Fashion-MNIST dataset."
      ]
    },
    {
      "cell_type": "markdown",
      "metadata": {
        "id": "aO4p3Mx_t6Qf"
      },
      "source": [
        "### Tasks:\n",
        "\n",
        "---\n",
        "\n",
        "1.  PyTorch definition of a NN model;\n",
        "2. Calculate MAC and kB of the Neural model defined;\n",
        "3. Data loader for Fashion-MNIST\n",
        "4. Code for testing a neural network on Fashion MNIST dataset;\n",
        "5. Code for training a neural network on Fashion MNIST;\n",
        "6. Save and load model’s trained weights;\n",
        ".7 Bonus: reduce network’s size under 5MMAC \n",
        "---\n",
        "\n",
        "\n"
      ]
    },
    {
      "cell_type": "markdown",
      "metadata": {
        "id": "MOsVZLnUzMqU"
      },
      "source": [
        "## Let's start !"
      ]
    },
    {
      "cell_type": "markdown",
      "metadata": {
        "id": "TH8A3ArSIzOI"
      },
      "source": [
        "Let us start by installing dependencies..."
      ]
    },
    {
      "cell_type": "code",
      "metadata": {
        "colab": {
          "base_uri": "https://localhost:8080/"
        },
        "id": "Nfj8089GgMZq",
        "cellView": "form",
        "outputId": "1b58c186-b54d-422c-806e-d1c0f3fef263"
      },
      "source": [
        "#@title Install dependencies { form-width: \"20%\" }\n",
        "\n",
        "# these ones should already be available\n",
        "!pip install numpy\n",
        "!pip install tqdm\n",
        "!pip install pillow\n",
        "\n",
        "!pip install torch\n",
        "!pip install torchvision\n",
        "\n",
        "!pip install thop\n",
        "!pip install matplotlib\n",
        "!pip install sklearn\n",
        "!pip install torchsummary\n",
        "\n",
        "# !pip install jupyter\n",
        "# !pip install ipywidgets\n",
        "# !jupyter nbextension enable --py widgetsnbextension\n",
        "\n"
      ],
      "execution_count": 1,
      "outputs": [
        {
          "output_type": "stream",
          "name": "stdout",
          "text": [
            "Requirement already satisfied: numpy in /usr/local/lib/python3.7/dist-packages (1.19.5)\n",
            "Requirement already satisfied: tqdm in /usr/local/lib/python3.7/dist-packages (4.62.3)\n",
            "Requirement already satisfied: pillow in /usr/local/lib/python3.7/dist-packages (7.1.2)\n",
            "Requirement already satisfied: torch in /usr/local/lib/python3.7/dist-packages (1.10.0+cu111)\n",
            "Requirement already satisfied: typing-extensions in /usr/local/lib/python3.7/dist-packages (from torch) (3.10.0.2)\n",
            "Requirement already satisfied: torchvision in /usr/local/lib/python3.7/dist-packages (0.11.1+cu111)\n",
            "Requirement already satisfied: pillow!=8.3.0,>=5.3.0 in /usr/local/lib/python3.7/dist-packages (from torchvision) (7.1.2)\n",
            "Requirement already satisfied: torch==1.10.0 in /usr/local/lib/python3.7/dist-packages (from torchvision) (1.10.0+cu111)\n",
            "Requirement already satisfied: numpy in /usr/local/lib/python3.7/dist-packages (from torchvision) (1.19.5)\n",
            "Requirement already satisfied: typing-extensions in /usr/local/lib/python3.7/dist-packages (from torch==1.10.0->torchvision) (3.10.0.2)\n",
            "Collecting thop\n",
            "  Downloading thop-0.0.31.post2005241907-py3-none-any.whl (8.7 kB)\n",
            "Requirement already satisfied: torch>=1.0.0 in /usr/local/lib/python3.7/dist-packages (from thop) (1.10.0+cu111)\n",
            "Requirement already satisfied: typing-extensions in /usr/local/lib/python3.7/dist-packages (from torch>=1.0.0->thop) (3.10.0.2)\n",
            "Installing collected packages: thop\n",
            "Successfully installed thop-0.0.31.post2005241907\n",
            "Requirement already satisfied: matplotlib in /usr/local/lib/python3.7/dist-packages (3.2.2)\n",
            "Requirement already satisfied: cycler>=0.10 in /usr/local/lib/python3.7/dist-packages (from matplotlib) (0.11.0)\n",
            "Requirement already satisfied: pyparsing!=2.0.4,!=2.1.2,!=2.1.6,>=2.0.1 in /usr/local/lib/python3.7/dist-packages (from matplotlib) (2.4.7)\n",
            "Requirement already satisfied: python-dateutil>=2.1 in /usr/local/lib/python3.7/dist-packages (from matplotlib) (2.8.2)\n",
            "Requirement already satisfied: numpy>=1.11 in /usr/local/lib/python3.7/dist-packages (from matplotlib) (1.19.5)\n",
            "Requirement already satisfied: kiwisolver>=1.0.1 in /usr/local/lib/python3.7/dist-packages (from matplotlib) (1.3.2)\n",
            "Requirement already satisfied: six>=1.5 in /usr/local/lib/python3.7/dist-packages (from python-dateutil>=2.1->matplotlib) (1.15.0)\n",
            "Requirement already satisfied: sklearn in /usr/local/lib/python3.7/dist-packages (0.0)\n",
            "Requirement already satisfied: scikit-learn in /usr/local/lib/python3.7/dist-packages (from sklearn) (0.22.2.post1)\n",
            "Requirement already satisfied: scipy>=0.17.0 in /usr/local/lib/python3.7/dist-packages (from scikit-learn->sklearn) (1.4.1)\n",
            "Requirement already satisfied: numpy>=1.11.0 in /usr/local/lib/python3.7/dist-packages (from scikit-learn->sklearn) (1.19.5)\n",
            "Requirement already satisfied: joblib>=0.11 in /usr/local/lib/python3.7/dist-packages (from scikit-learn->sklearn) (1.1.0)\n",
            "Requirement already satisfied: torchsummary in /usr/local/lib/python3.7/dist-packages (1.5.1)\n"
          ]
        }
      ]
    },
    {
      "cell_type": "markdown",
      "metadata": {
        "id": "077hTkLtzUar"
      },
      "source": [
        "## Imports:\n",
        "Now we import some packets we will need:"
      ]
    },
    {
      "cell_type": "code",
      "metadata": {
        "colab": {
          "base_uri": "https://localhost:8080/"
        },
        "id": "HLlnWjXhg17X",
        "outputId": "e78a84de-1ff4-4b8b-f4c7-69477ff27300"
      },
      "source": [
        "#basic\n",
        "import os\n",
        "from os.path import join\n",
        "import numpy as np\n",
        "from tqdm import tqdm\n",
        "import time\n",
        "\n",
        "#plotting\n",
        "import matplotlib.pyplot as plt\n",
        "\n",
        "#torch\n",
        "import torch; print('\\nPyTorch version in use:', torch.__version__, '\\ncuda avail: ', torch.cuda.is_available())\n",
        "import torch.nn as nn\n",
        "import torch.nn.functional as F\n",
        "import torch.optim as optim\n",
        "from torch.utils.data import DataLoader\n",
        "\n",
        "#torchvision\n",
        "import torchvision\n",
        "from torchvision import transforms\n",
        "\n",
        "# others\n",
        "from copy import deepcopy\n",
        "from tqdm.autonotebook import tqdm\n",
        "from sklearn.metrics import precision_score, recall_score, f1_score, accuracy_score\n",
        "import inspect\n"
      ],
      "execution_count": 2,
      "outputs": [
        {
          "output_type": "stream",
          "name": "stdout",
          "text": [
            "\n",
            "PyTorch version in use: 1.10.0+cu111 \n",
            "cuda avail:  True\n"
          ]
        }
      ]
    },
    {
      "cell_type": "markdown",
      "metadata": {
        "id": "oi8zt0JZ0D7Z"
      },
      "source": [
        "## Set device\n",
        "Between \"cuda\" and \"cpu\""
      ]
    },
    {
      "cell_type": "code",
      "metadata": {
        "colab": {
          "base_uri": "https://localhost:8080/"
        },
        "id": "WY59unFq40v7",
        "outputId": "f7d1037d-1d5c-4d13-8290-9f1080b117bc"
      },
      "source": [
        "device = torch.device('cuda' if torch.cuda.is_available() else 'cpu')\n",
        "print('Device: %s' % device)"
      ],
      "execution_count": 3,
      "outputs": [
        {
          "output_type": "stream",
          "name": "stdout",
          "text": [
            "Device: cuda\n"
          ]
        }
      ]
    },
    {
      "cell_type": "markdown",
      "metadata": {
        "id": "SmSNU-3lGK9d"
      },
      "source": [
        "# **Task 1:** Creating a Model"
      ]
    },
    {
      "cell_type": "markdown",
      "metadata": {
        "id": "UaCBw-WVipNK"
      },
      "source": [
        "The first real step is to define the network topology. We will define a custom one.\n",
        "\n",
        "* Use `torch.nn.Module`,\n",
        "* Instantiate a separate `torch.nn.Module` for each node in your topology; This is mandatory for parametric modules (e.g., `torch.nn.Conv2d`)\n",
        "\n"
      ]
    },
    {
      "cell_type": "markdown",
      "metadata": {
        "id": "I0sZH5H2L76D"
      },
      "source": [
        "### This is how our network looks like:"
      ]
    },
    {
      "cell_type": "markdown",
      "metadata": {
        "id": "oHoDn8MmEX3E"
      },
      "source": [
        "![immagine_2021-11-14_023208.png](data:image/png;base64,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)"
      ]
    },
    {
      "cell_type": "code",
      "metadata": {
        "id": "s11ciz67kuNh"
      },
      "source": [
        "class ConvBnRelu(nn.Module):\n",
        "    def __init__(self, in_channels, out_channels, stride):\n",
        "        super(ConvBnRelu, self).__init__()\n",
        "        self.conv1 = nn.Conv2d(in_channels=in_channels, out_channels=out_channels, kernel_size=3, stride=stride, padding=1, bias=False, padding_mode='zeros')\n",
        "        self.bn1 = nn.BatchNorm2d(num_features=out_channels, eps=1e-05, momentum=0.1, affine=True, track_running_stats=True)\n",
        "        self.relu1 = nn.ReLU()\n",
        "\n",
        "    def forward(self, x):\n",
        "        x = self.conv1(x)\n",
        "        x = self.bn1(x)\n",
        "        x = self.relu1(x)\n",
        "        return x\n",
        "\n",
        "class CNN(nn.Module):\n",
        "    def __init__(self, n_classes=10, depth_mult=1.):\n",
        "        super(CNN, self).__init__()\n",
        "        # first_conv_channels=int(32*depth_mult)\n",
        "        self.ConvBnRelu1 = ConvBnRelu(1, 32,  stride=1) # conv3x3: ch_in=1, ch_out=32, in=28x28, out=28x28/2\n",
        "        self.ConvBnRelu2 = ConvBnRelu(32, 64,  stride=1) # conv3x3: ch_in=1, ch_out=32, in=28x28, out=28x28/2\n",
        "        self.pool = nn.MaxPool2d(kernel_size=2, stride=2, padding=0, dilation=1, return_indices=False, ceil_mode=False) # MaxPool2: in=14x14, out=14x14/2\n",
        "        self.ConvBnRelu3 = ConvBnRelu(64, 128, stride=2) # conv3x3: ch_in=32, ch_out=64, in=7x7, out=7x7\n",
        "        self.dropout = nn.Dropout(p=0.5, inplace=False)\n",
        "        fc_in_size = 7*7*128\n",
        "        self.fc = nn.Linear(fc_in_size, n_classes, bias=False)\n",
        "        self.softmax = nn.LogSoftmax(dim=1)\n",
        "\n",
        "    def forward(self, x):\n",
        "        x = self.ConvBnRelu1(x)\n",
        "        x = self.ConvBnRelu2(x)\n",
        "        x = self.pool(x)\n",
        "        x = self.ConvBnRelu3(x)\n",
        "        x = self.dropout(x)\n",
        "        x = x.flatten(1)\n",
        "        x = self.fc(x)\n",
        "        output = self.softmax(x)\n",
        "        return output\n",
        "\n",
        "net = CNN().to(device)\n"
      ],
      "execution_count": 4,
      "outputs": []
    },
    {
      "cell_type": "markdown",
      "metadata": {
        "id": "VP3aw9Re2_Np"
      },
      "source": [
        "### Test defined network, and verify layers\n",
        "\n",
        "\n"
      ]
    },
    {
      "cell_type": "code",
      "metadata": {
        "id": "e8KvUHPmm9PC",
        "cellView": "form"
      },
      "source": [
        "#@title Dummy input  { form-width: \"70%\" }\n",
        "# input_size = (img_ch,img_width, img_height)\n",
        "input_size = (1, 28, 28)  #@param\n",
        "input = torch.randn((1,) + input_size).to(device)#add one extra field to input size for batch_n\n"
      ],
      "execution_count": 36,
      "outputs": []
    },
    {
      "cell_type": "markdown",
      "metadata": {
        "id": "uDvVv8ASKVb0"
      },
      "source": [
        "Print output tensor size and the CNN network topology defined:"
      ]
    },
    {
      "cell_type": "code",
      "metadata": {
        "colab": {
          "base_uri": "https://localhost:8080/"
        },
        "id": "kSa1Bg3722Gz",
        "outputId": "28925557-7cd1-41c8-9004-e933d9d679fb"
      },
      "source": [
        "output = net(input)\n",
        "print('Output shape:', output.shape)\n",
        "print('Network Topology:\\n',net)"
      ],
      "execution_count": 6,
      "outputs": [
        {
          "output_type": "stream",
          "name": "stdout",
          "text": [
            "Output shape: torch.Size([1, 10])\n",
            "Network Topology:\n",
            " CNN(\n",
            "  (ConvBnRelu1): ConvBnRelu(\n",
            "    (conv1): Conv2d(1, 32, kernel_size=(3, 3), stride=(1, 1), padding=(1, 1), bias=False)\n",
            "    (bn1): BatchNorm2d(32, eps=1e-05, momentum=0.1, affine=True, track_running_stats=True)\n",
            "    (relu1): ReLU()\n",
            "  )\n",
            "  (ConvBnRelu2): ConvBnRelu(\n",
            "    (conv1): Conv2d(32, 64, kernel_size=(3, 3), stride=(1, 1), padding=(1, 1), bias=False)\n",
            "    (bn1): BatchNorm2d(64, eps=1e-05, momentum=0.1, affine=True, track_running_stats=True)\n",
            "    (relu1): ReLU()\n",
            "  )\n",
            "  (pool): MaxPool2d(kernel_size=2, stride=2, padding=0, dilation=1, ceil_mode=False)\n",
            "  (ConvBnRelu3): ConvBnRelu(\n",
            "    (conv1): Conv2d(64, 128, kernel_size=(3, 3), stride=(2, 2), padding=(1, 1), bias=False)\n",
            "    (bn1): BatchNorm2d(128, eps=1e-05, momentum=0.1, affine=True, track_running_stats=True)\n",
            "    (relu1): ReLU()\n",
            "  )\n",
            "  (dropout): Dropout(p=0.5, inplace=False)\n",
            "  (fc): Linear(in_features=6272, out_features=10, bias=False)\n",
            "  (softmax): LogSoftmax(dim=1)\n",
            ")\n"
          ]
        }
      ]
    },
    {
      "cell_type": "markdown",
      "metadata": {
        "id": "IrPQVjWGyrMA"
      },
      "source": [
        "# **Task 2:** Count network's parameters and MAC operations\n",
        "Let's define a couple of useful functions to measure the model's MAC operations and number of parameters."
      ]
    },
    {
      "cell_type": "code",
      "metadata": {
        "colab": {
          "base_uri": "https://localhost:8080/"
        },
        "id": "NAsWm5qHsBLe",
        "outputId": "42d58fb5-62e5-4620-9e52-43271ef54344"
      },
      "source": [
        "def network_size_and_mac(net, input_size, verbose=False):\n",
        "    from thop import profile\n",
        "    input_size = (1,) + input_size #add one extra field to input size for batch_n\n",
        "    if verbose: print('input_size is now:', input_size)\n",
        "    input = torch.randn(input_size).to(device) # initialize a random tensor\n",
        "    macs, params = profile(net, inputs=(input, ), verbose=verbose) #toggle verbose to True to debug errors\n",
        "    print(\"Network's \\tn°params: %.3fk \\tMAC: %.3fM\\n\" % (params/1e3, macs/1e6))\n",
        "\n",
        "def print_summary(net, input_size):\n",
        "    from torchsummary import summary\n",
        "    summary(net, input_size=input_size)\n",
        "\n",
        "network_size_and_mac(deepcopy(net), input_size) #use deepcopy to avoid graph modifications by hese function calls\n",
        "print_summary(deepcopy(net), input_size) #use deepcopy to avoid graph modifications by hese function calls"
      ],
      "execution_count": 7,
      "outputs": [
        {
          "output_type": "stream",
          "name": "stdout",
          "text": [
            "Network's \tn°params: 155.616k \tMAC: 18.515M\n",
            "\n",
            "----------------------------------------------------------------\n",
            "        Layer (type)               Output Shape         Param #\n",
            "================================================================\n",
            "            Conv2d-1           [-1, 32, 28, 28]             288\n",
            "       BatchNorm2d-2           [-1, 32, 28, 28]              64\n",
            "              ReLU-3           [-1, 32, 28, 28]               0\n",
            "        ConvBnRelu-4           [-1, 32, 28, 28]               0\n",
            "            Conv2d-5           [-1, 64, 28, 28]          18,432\n",
            "       BatchNorm2d-6           [-1, 64, 28, 28]             128\n",
            "              ReLU-7           [-1, 64, 28, 28]               0\n",
            "        ConvBnRelu-8           [-1, 64, 28, 28]               0\n",
            "         MaxPool2d-9           [-1, 64, 14, 14]               0\n",
            "           Conv2d-10            [-1, 128, 7, 7]          73,728\n",
            "      BatchNorm2d-11            [-1, 128, 7, 7]             256\n",
            "             ReLU-12            [-1, 128, 7, 7]               0\n",
            "       ConvBnRelu-13            [-1, 128, 7, 7]               0\n",
            "          Dropout-14            [-1, 128, 7, 7]               0\n",
            "           Linear-15                   [-1, 10]          62,720\n",
            "       LogSoftmax-16                   [-1, 10]               0\n",
            "================================================================\n",
            "Total params: 155,616\n",
            "Trainable params: 155,616\n",
            "Non-trainable params: 0\n",
            "----------------------------------------------------------------\n",
            "Input size (MB): 0.00\n",
            "Forward/backward pass size (MB): 2.63\n",
            "Params size (MB): 0.59\n",
            "Estimated Total Size (MB): 3.23\n",
            "----------------------------------------------------------------\n"
          ]
        }
      ]
    },
    {
      "cell_type": "markdown",
      "metadata": {
        "id": "mPHKSY4Qs2kz"
      },
      "source": [
        "**Torchsummary insights**\n",
        "\n",
        "A nice way to print a summary of the Network topology is torchsummary, but this tool is not providing a MAC count.\n",
        "\n",
        "**Note**: This tool calculates the Model Size as (number_of_parameters*4).\n",
        "This because each parameter needs 4 Bytes (32bit) to be represented in float32 format."
      ]
    },
    {
      "cell_type": "markdown",
      "metadata": {
        "id": "e3sgwFOIwgM3"
      },
      "source": [
        "# **Task 3:** Dataset & DataLoaders\n",
        "\n",
        "In this notebook we'll a custom CNN on the [Fashion-MNIST dataset](https://github.com/zalandoresearch/fashion-mnist), which is a set of 28x28 grayscale images of clothes.\n",
        "This dataset is provided by the [Torchvision package](https://pytorch.org/docs/stable/torchvision/index.html).\n",
        "\n",
        "Before diving in, let's look at the Fashion MNIST dataset. The dataset has 6k training images and 1k validation images. It has a total of 10 classes, each represented by an integer index. The following cell creates a mapping from these indices to their corresponding human-readable strings, then downloads the Fashion MNIST training dataset from Torchvision. It may take a minute to run.\n",
        "\n",
        "Torchvision provides easy access to many datasets, including COCO, CIFAR, and Cityscapes. See its documentation for a complete list. \n",
        "\n",
        "The dataset is stored on the Colab VM in the `/data/fashionmnist` directory.\n",
        "\n",
        "*You can explore dataset images by changing the index below:*"
      ]
    },
    {
      "cell_type": "code",
      "metadata": {
        "colab": {
          "base_uri": "https://localhost:8080/",
          "height": 258
        },
        "id": "P9YKtOiYxAsS",
        "outputId": "c483f194-861b-460b-d542-5a081f66b235"
      },
      "source": [
        "#@title Show dataset image samples\n",
        "class_map = {\n",
        "0 : \"t-shirt\",\n",
        "1 : \"trouser\",\n",
        "2 : \"pullover\",\n",
        "3 : \"dress\",\n",
        "4 : \"coat\",\n",
        "5 : \"sandal\",\n",
        "6 : \"shirt\",\n",
        "7 : \"sneaker\",\n",
        "8 : \"bag\",\n",
        "9 : \"ankle boot\"\n",
        "}\n",
        "\n",
        "# Downloads the Fashion MNIST dataset using Torchvision\n",
        "fashion_mnist_dataset = datasets.FashionMNIST(\n",
        "    os.path.join(\"./data/fashionmnist\"),\n",
        "    train=True,\n",
        "    download=True)\n",
        "\n",
        "img_index = 0 #@param {type:\"integer\"}\n",
        "\n",
        "tup = fashion_mnist_dataset[img_index] # tup = (image, label)\n",
        "display(tup[0].resize((224, 224)))\n",
        "print(class_map[tup[1]])"
      ],
      "execution_count": 38,
      "outputs": [
        {
          "output_type": "display_data",
          "data": {
            "image/png": "[encoded data removed]",
            "text/plain": [
              "<PIL.Image.Image image mode=L size=224x224 at 0x7F67F493CC50>"
            ]
          },
          "metadata": {}
        },
        {
          "output_type": "stream",
          "name": "stdout",
          "text": [
            "ankle boot\n"
          ]
        }
      ]
    },
    {
      "cell_type": "markdown",
      "metadata": {
        "id": "W8CslUMA1FZD"
      },
      "source": [
        "### Data loaders for Fashion MNIST\n",
        "\n"
      ]
    },
    {
      "cell_type": "markdown",
      "metadata": {
        "id": "LIpI-cuqMbLj"
      },
      "source": [
        "The code below first sets up transform using `torhvision transfroms` for converting images to pytorch tensors and normalizing the images.\n",
        "\n",
        "Next, We use `torchvision datasets` for dowloading the fashion mnist dataset and applying transforms which we defined above.\n",
        "\n",
        "* `train_dataset` contains the training data.\n",
        "* `valid_dataset` contains the validation data\n",
        "\n",
        "Next, We use `pytorch dataloader` for making dataloader from the train and validation sets."
      ]
    },
    {
      "cell_type": "code",
      "metadata": {
        "colab": {
          "base_uri": "https://localhost:8080/"
        },
        "id": "_Aw_XFl8oCOZ",
        "outputId": "49023819-8d35-4ea7-9227-367266702057"
      },
      "source": [
        "def get_data_loaders(train_batch_size=128, val_batch_size=128, verbose=False):\n",
        "    #define data transformations\n",
        "    fashion_mnist = torchvision.datasets.FashionMNIST(download=True, train=True, root=\"./data/fashionmnist\").train_data.float()\n",
        "    data_transform = transforms.Compose([transforms.ToTensor(), \n",
        "                                         transforms.Normalize((fashion_mnist.mean()/255,), (fashion_mnist.std()/255,))])\n",
        "    \n",
        "    # Load train/valid datasets\n",
        "    train_dataset = torchvision.datasets.FashionMNIST(download=False, root=\"./data/fashionmnist\", transform=data_transform, train=True)\n",
        "    valid_dataset = torchvision.datasets.FashionMNIST(download=False, root=\"./data/fashionmnist\", transform=data_transform, train=False)\n",
        "\n",
        "    # define dataloaders\n",
        "    train_loader = torch.utils.data.DataLoader(\n",
        "        train_dataset, \n",
        "        batch_size=train_batch_size, \n",
        "        shuffle=True)\n",
        "    valid_loader = torch.utils.data.DataLoader(\n",
        "        valid_dataset, \n",
        "        batch_size=val_batch_size, \n",
        "        shuffle=False)\n",
        "\n",
        "    # count how many images we have in each set\n",
        "    train_dataset_size = len(train_dataset)\n",
        "    valid_dataset_size = len(valid_dataset)\n",
        "    if verbose: print('Dataset size:\\nTraining images %d,\\nValidation images %d' % (train_dataset_size, valid_dataset_size))\n",
        "    \n",
        "    return train_loader, valid_loader\n",
        "\n",
        "train_loader, val_loader = get_data_loaders( verbose=True)\n"
      ],
      "execution_count": 10,
      "outputs": [
        {
          "output_type": "stream",
          "name": "stderr",
          "text": [
            "/usr/local/lib/python3.7/dist-packages/torchvision/datasets/mnist.py:62: UserWarning: train_data has been renamed data\n",
            "  warnings.warn(\"train_data has been renamed data\")\n"
          ]
        },
        {
          "output_type": "stream",
          "name": "stdout",
          "text": [
            "Dataset size:\n",
            "Training images 60000,\n",
            "Validation images 10000\n"
          ]
        }
      ]
    },
    {
      "cell_type": "markdown",
      "metadata": {
        "id": "R7ZfZ7Ic4h5t"
      },
      "source": [
        "#**Task 4:** testing the CNN over the dataset"
      ]
    },
    {
      "cell_type": "markdown",
      "metadata": {
        "id": "t0iCOJDS1J8I"
      },
      "source": [
        "### Accuracy Metric calculation"
      ]
    },
    {
      "cell_type": "markdown",
      "metadata": {
        "id": "Km0hniV74L_Q"
      },
      "source": [
        "First we define a function to calculate the accuracy, defined as: `accuracy = num_correct_predictions/total_n_predictions`\n",
        "\n"
      ]
    },
    {
      "cell_type": "code",
      "metadata": {
        "id": "x2s9V-q0B3hP"
      },
      "source": [
        "def calculate_accuracy(best_guesses, targets):\n",
        "    num_correct = torch.eq(targets, best_guesses).sum().item()\n",
        "    total_guesses = len(targets)\n",
        "    correct_percentage = num_correct/total_guesses\n",
        "    return correct_percentage"
      ],
      "execution_count": 65,
      "outputs": []
    },
    {
      "cell_type": "markdown",
      "metadata": {
        "id": "Xqk806h5AEY7"
      },
      "source": [
        "Or you could take advantage of scikitlearn to calcultate the Accuracy! (we wont use it in this tutorial, but it would be a ready-to-use function!)"
      ]
    },
    {
      "cell_type": "code",
      "metadata": {
        "id": "OvrsE2oTqCbb"
      },
      "source": [
        "def calculate_metric(metric_fn, true_y, pred_y):\n",
        "    if \"average\" in inspect.getfullargspec(metric_fn).args:\n",
        "        return metric_fn(true_y, pred_y, average=\"macro\")\n",
        "    else:\n",
        "        return metric_fn(true_y, pred_y)\n",
        "    "
      ],
      "execution_count": 11,
      "outputs": []
    },
    {
      "cell_type": "markdown",
      "metadata": {
        "id": "k8SL9AZ0M2Ak"
      },
      "source": [
        "### Testing Function\n",
        "Before training we want to verify our data->network pipeline and set a baseline level of performance. The following cell defines a function, `validate,` that runs a network on a dataset and shows the percentage of the dataset that was correctly classified."
      ]
    },
    {
      "cell_type": "code",
      "metadata": {
        "id": "mLPgZVOg4mjt"
      },
      "source": [
        "def validate(net, val_loader, loss_function, accuracy_score):\n",
        "    val_losses = []\n",
        "    val_accuracy = []\n",
        "    \n",
        "    # set net to evaluating (testing)\n",
        "    net.eval()\n",
        "    with torch.no_grad():\n",
        "        for batch_idx, data in enumerate(val_loader):\n",
        "            inputs, labels = data[0].to(device), data[1].to(device)\n",
        "\n",
        "            # net forward\n",
        "            outputs = net(inputs) # this get's the prediction from the network\n",
        "\n",
        "            # calculate loss\n",
        "            loss = loss_function(outputs, labels)\n",
        "            val_losses.append(loss) # append current average training loss to a buffer variable, for plotting learning curve\n",
        "\n",
        "            # calculate validation accuracy\n",
        "            predicted_classes = torch.max(outputs, 1)[1] # get class from network's prediction\n",
        "            val_accuracy.append(calculate_accuracy(predicted_classes.cpu(), labels.cpu())) \n",
        "            # val_accuracy.append(calculate_metric(accuracy_score, labels.cpu(), predicted_classes.cpu())) #this is the same accuracy calculated with scikitlearn\n",
        "            \n",
        "    average_val_loss = sum(val_losses)/(batch_idx+1)\n",
        "    return val_accuracy, average_val_loss\n",
        "    "
      ],
      "execution_count": 66,
      "outputs": []
    },
    {
      "cell_type": "markdown",
      "metadata": {
        "id": "fr82RgWn3fVt"
      },
      "source": [
        "You should see the untrained network guess about 10% of the dataset correctly, since it's randomly guessing and there are 10 classes."
      ]
    },
    {
      "cell_type": "code",
      "metadata": {
        "colab": {
          "base_uri": "https://localhost:8080/"
        },
        "id": "NSjQ40yCNAvN",
        "outputId": "336e3410-55b4-41eb-9bc7-030af8a8fd01"
      },
      "source": [
        "loss_function = nn.CrossEntropyLoss() # cross entropy works well for multi-class problems\n",
        "\n",
        "val_accuracy, average_val_loss = validate(net, val_loader, loss_function, accuracy_score)\n",
        "print('Accuracy: %0.2f'% (sum(val_accuracy)/len(val_accuracy)))"
      ],
      "execution_count": 68,
      "outputs": [
        {
          "output_type": "stream",
          "name": "stdout",
          "text": [
            "Accuracy: 0.92\n"
          ]
        }
      ]
    },
    {
      "cell_type": "markdown",
      "metadata": {
        "id": "QZ8wp9qIMsKE"
      },
      "source": [
        "# **Task 5:** Training Loop"
      ]
    },
    {
      "cell_type": "markdown",
      "metadata": {
        "id": "lQ67crHMzNgt"
      },
      "source": [
        "Basic training in PyTorch:\n",
        "\n",
        "- enumerates a dataset in batches\n",
        "- runs the network on each batch\n",
        "- evaluates the network's performance using a loss function\n",
        "- calls `backward()` to propagate gradients through the network\n",
        "- uses an optimizer to `step()` and apply the gradients to the network's weights\n",
        "\n",
        "In this case we'll use the: \n",
        "* **Loss Function:** [CrossEntropyLoss](https://pytorch.org/docs/master/nn.html#torch.nn.CrossEntropyLoss) since we have a classification problem.\n",
        "* **Optimizer:** We'll use the [Adam](https://pytorch.org/docs/master/optim.html#torch.optim.Adam) optimizer since it's a very easy optimizer to use (no need to tweak hyperparameters).\n",
        "\n",
        "We'll only train for 5 epochs for timeliness. The following cell should take 4-5 minutes to run."
      ]
    },
    {
      "cell_type": "code",
      "metadata": {
        "id": "APLpS8iGP5CP"
      },
      "source": [
        "#@title Training parameters { form-width: \"70%\" }\n",
        "epochs = 5 #@param {type:\"integer\"}\n",
        "batch_size = 128 #@param {type:\"integer\"}"
      ],
      "execution_count": 15,
      "outputs": []
    },
    {
      "cell_type": "code",
      "metadata": {
        "colab": {
          "base_uri": "https://localhost:8080/"
        },
        "id": "uMlB1mosp9I2",
        "outputId": "bd58d73a-f723-48f8-8eee-0544c57012e7"
      },
      "source": [
        "# Move net to gpu:\n",
        "net.to(device)\n",
        "\n",
        "# Build Dataloaders\n",
        "train_loader, val_loader = get_data_loaders(batch_size, batch_size)\n",
        "\n",
        "# Define loss function\n",
        "loss_function = nn.CrossEntropyLoss() # cross entropy works well for multi-class problems\n",
        "\n",
        "\n",
        "def training(net, train_loader, val_loader, loss_function, epochs):    \n",
        "    # Define optimizer\n",
        "    optimizer = torch.optim.Adam(net.parameters(), lr=3e-4)\n",
        "\n",
        "    # count tot batches\n",
        "    tot_train_batches = len(train_loader)\n",
        "    tot_val_batches = len(val_loader)\n",
        "\n",
        "    # Create lists to store training history\n",
        "    train_loss_history = []\n",
        "    train_accuracy_history = []\n",
        "    # Create lists to store validation history\n",
        "    val_loss_history = []\n",
        "    val_accuracy_history = []\n",
        "\n",
        "    start_ts = time.time()\n",
        "    # loop for every epoch (training + evaluation)\n",
        "    for epoch in range(epochs):\n",
        "        total_epoch_loss = 0\n",
        "        train_accuracy = []\n",
        "\n",
        "        # progress bar (works in Jupyter notebook too!)\n",
        "        progress = tqdm(enumerate(train_loader), desc=\"Loss: \", total=tot_train_batches)\n",
        "\n",
        "        # ----------------- TRAINING  -------------------- #\n",
        "        # set model to training\n",
        "        net.train()\n",
        "        \n",
        "        for batch_idx, data in progress:\n",
        "            inputs, labels = data[0].to(device), data[1].to(device)\n",
        "            \n",
        "            # training step for single batch\n",
        "            net.zero_grad()\n",
        "            outputs = net(inputs)\n",
        "            loss = loss_function(outputs, labels)\n",
        "            loss.backward()\n",
        "            optimizer.step()\n",
        "\n",
        "            # getting training quality data\n",
        "            current_loss = loss.item()\n",
        "\n",
        "            #compute average loss\n",
        "            total_epoch_loss += current_loss\n",
        "            average_train_loss = total_epoch_loss/(batch_idx+1)\n",
        "            \n",
        "            # calculate training accuracy\n",
        "            predicted_classes = torch.max(outputs, 1)[1] # get class from network's prediction\n",
        "            train_accuracy.append(calculate_metric(accuracy_score, labels.cpu(), predicted_classes.cpu()))\n",
        "            average_train_accuracy = sum(train_accuracy)/(batch_idx+1)\n",
        "\n",
        "            # updating progress bar\n",
        "            progress.set_description(\"Training Loss: {:.4f}, Accuracy: {:.4f}\".format(average_train_loss, average_train_accuracy))\n",
        "            \n",
        "            # if batch_idx==100:\n",
        "            # break\n",
        "\n",
        "        # ----------------- VALIDATION  ----------------- #\n",
        "        val_accuracy, average_val_loss = validate(net, val_loader, loss_function, accuracy_score)\n",
        "        \n",
        "        # compute mean accuracy\n",
        "        average_train_accuracy = sum(train_accuracy)/tot_train_batches\n",
        "        average_val_accuracy = sum(val_accuracy)/tot_val_batches\n",
        "\n",
        "        # print training/validation Accuracy and Loss\n",
        "        print('Epoch %d/%d' % (epoch+1,epochs), 'Training loss:  %.4f' % (average_train_loss), 'Accuracy: %.4f' % (average_train_accuracy))\n",
        "        print('Validation Loss: %.4f' % (average_val_loss), 'Accuracy: %.4f' % (average_val_accuracy))\n",
        "        \n",
        "        # append current average training loss to a buffer variable, for plotting learning curve later\n",
        "        train_loss_history.append(average_train_loss)\n",
        "        val_loss_history.append(average_val_loss)\n",
        "        train_accuracy_history.append(average_train_accuracy)\n",
        "        val_accuracy_history.append(average_val_accuracy)\n",
        "\n",
        "    print('Training time: %.1f seconds' % (time.time()-start_ts))\n",
        "\n",
        "            \n",
        "    return train_loss_history, train_accuracy_history, val_loss_history, val_accuracy_history\n",
        "\n"
      ],
      "execution_count": 16,
      "outputs": [
        {
          "output_type": "stream",
          "name": "stderr",
          "text": [
            "/usr/local/lib/python3.7/dist-packages/torchvision/datasets/mnist.py:62: UserWarning: train_data has been renamed data\n",
            "  warnings.warn(\"train_data has been renamed data\")\n"
          ]
        }
      ]
    },
    {
      "cell_type": "code",
      "metadata": {
        "colab": {
          "base_uri": "https://localhost:8080/",
          "height": 364,
          "referenced_widgets": [
            "ff6af83086d2434fa8da323e55e21629",
            "c28abf08a5a442e38c94e1512c2d9157",
            "e783c76ca44549b294f7edd7fb347f97",
            "e9da0ed3f42743d99af26b0cd5c6d625",
            "a7a1f7f9ea2347babbd530503a43feb3",
            "ad6ce81419cd496dae43a115e69ecd05",
            "0b824cd65cda47ed832af7312ba66a07",
            "c60268f16c4a44b0a7d207fde09b5d58",
            "3dc8eab0909f474da731e9caafc68a0b",
            "1f62ecd77d5544d4845f1b230d9ccd85",
            "b97f1aac2a4d4c55a0592eca9e5e24ec",
            "369bfacd5666442d8e24cbfca0655577",
            "5fb257de38ff4741bc137ab30d839886",
            "e1a7d42143d9459a8b58b5054de269eb",
            "7691787b59c04bf7adb5a25151dc5500",
            "c37bcb0e9efb40db94b284fa585d3607",
            "402a77303f6e4b2a9a4c466389cd0955",
            "7e6fcaf9be72486387cb1b97555da444",
            "c0204531817247349da2b642413037a6",
            "14a1538fc6574812b597bdaa4675ee56",
            "25b498a710e24f57871e8906252c5038",
            "90fc2101030c4d508fb2e8f1b7e1203e",
            "052fea01244c4a75a862a88b3df9a639",
            "23a2ad80047c4f1193ec04440f6e5d89",
            "100fa297d53c485aafb6560c6b9ad08f",
            "599c8ece964b41c4b7f345213c8ef5bd",
            "5ab8c25d790049b7825f8fac8a867100",
            "c82e8b7c5568472a8b3f54416edd8764",
            "b3169c45fbef43ffbca11e3bf7128c42",
            "06f62a94fe10485c8899f7bc5aa0df2e",
            "441afab154c1472eaa337357588cd189",
            "12f4758dc29d4b569ab6405e0644f95a",
            "4d7036167f1143ed9436a6931c0efdf4",
            "e88fecd3dcf342a59fc2e644851c9c63",
            "42e27f3b4cf442e3ad8f2e5208e76f20",
            "e4530898b5854e4eb405a12e584bc572",
            "b9f189a7aea3402fb5adb90fca71f0c7",
            "867c252dec894c06b12acde5739faf0b",
            "fbca96b92dc54335908c7e62bf06a0e7",
            "f207fcea20f04cf1a118ff1c523cb551",
            "5e07f5ac71144fa69eb251f7ca3f1008",
            "57fec9d21a204e83a2342368fc30cacc",
            "72a15f5324a14a8289c0d055617141c3",
            "b7f209d0b2a741b182a93c0bda405469",
            "ead3fd0b7f0c43298c3d2bd9b132cf34",
            "2a322987193448dc9bc0fd6d278b3c5a",
            "879e914653dc42758d70c2c1c28a6729",
            "81255bb97f2c46fa9a8df48a5b6b7554",
            "98365f644b6049b8bdaa2b5c01d26018",
            "8c52cbb2c22642eea734666c7ab0962d",
            "44a64ca04d604ea494af005bfa8099a0",
            "f1deaa634db840288bfb3ee16f332e95",
            "fae2b6b18ebb4bae86271c092e8cbfc3",
            "2b5aa396ea604e61b70e4875108037a5",
            "14f9c216bfab4d50be89961048e3019f"
          ]
        },
        "id": "a-NEAXGAtw6X",
        "outputId": "a25a4a6c-686c-41cf-9efe-eff589248008"
      },
      "source": [
        "(train_loss_history,\n",
        "train_accuracy_history, \n",
        "val_loss_history, \n",
        "val_accuracy_history) = training(net, train_loader, val_loader, loss_function, epochs)"
      ],
      "execution_count": 18,
      "outputs": [
        {
          "output_type": "display_data",
          "data": {
            "application/vnd.jupyter.widget-view+json": {
              "model_id": "ff6af83086d2434fa8da323e55e21629",
              "version_minor": 0,
              "version_major": 2
            },
            "text/plain": [
              "Loss:   0%|          | 0/469 [00:00<?, ?it/s]"
            ]
          },
          "metadata": {}
        },
        {
          "output_type": "stream",
          "name": "stdout",
          "text": [
            "Epoch 1/5 Training loss:  0.4244 Accuracy: 0.8491\n",
            "Validation Loss: 0.3053 Accuracy: 0.8902\n"
          ]
        },
        {
          "output_type": "display_data",
          "data": {
            "application/vnd.jupyter.widget-view+json": {
              "model_id": "369bfacd5666442d8e24cbfca0655577",
              "version_minor": 0,
              "version_major": 2
            },
            "text/plain": [
              "Loss:   0%|          | 0/469 [00:00<?, ?it/s]"
            ]
          },
          "metadata": {}
        },
        {
          "output_type": "stream",
          "name": "stdout",
          "text": [
            "Epoch 2/5 Training loss:  0.2835 Accuracy: 0.8978\n",
            "Validation Loss: 0.2742 Accuracy: 0.9008\n"
          ]
        },
        {
          "output_type": "display_data",
          "data": {
            "application/vnd.jupyter.widget-view+json": {
              "model_id": "052fea01244c4a75a862a88b3df9a639",
              "version_minor": 0,
              "version_major": 2
            },
            "text/plain": [
              "Loss:   0%|          | 0/469 [00:00<?, ?it/s]"
            ]
          },
          "metadata": {}
        },
        {
          "output_type": "stream",
          "name": "stdout",
          "text": [
            "Epoch 3/5 Training loss:  0.2455 Accuracy: 0.9118\n",
            "Validation Loss: 0.2487 Accuracy: 0.9105\n"
          ]
        },
        {
          "output_type": "display_data",
          "data": {
            "application/vnd.jupyter.widget-view+json": {
              "model_id": "e88fecd3dcf342a59fc2e644851c9c63",
              "version_minor": 0,
              "version_major": 2
            },
            "text/plain": [
              "Loss:   0%|          | 0/469 [00:00<?, ?it/s]"
            ]
          },
          "metadata": {}
        },
        {
          "output_type": "stream",
          "name": "stdout",
          "text": [
            "Epoch 4/5 Training loss:  0.2253 Accuracy: 0.9187\n",
            "Validation Loss: 0.2315 Accuracy: 0.9161\n"
          ]
        },
        {
          "output_type": "display_data",
          "data": {
            "application/vnd.jupyter.widget-view+json": {
              "model_id": "ead3fd0b7f0c43298c3d2bd9b132cf34",
              "version_minor": 0,
              "version_major": 2
            },
            "text/plain": [
              "Loss:   0%|          | 0/469 [00:00<?, ?it/s]"
            ]
          },
          "metadata": {}
        },
        {
          "output_type": "stream",
          "name": "stdout",
          "text": [
            "Epoch 5/5 Training loss:  0.2102 Accuracy: 0.9240\n",
            "Validation Loss: 0.2302 Accuracy: 0.9159\n",
            "Training time: 171.5 seconds\n"
          ]
        }
      ]
    },
    {
      "cell_type": "markdown",
      "metadata": {
        "id": "Lzgf8vuT1xam"
      },
      "source": [
        "We now re-evaluated our network's performance, and you will see an accuracy ~90%"
      ]
    },
    {
      "cell_type": "code",
      "metadata": {
        "colab": {
          "base_uri": "https://localhost:8080/",
          "height": 279
        },
        "id": "OZfyNjK6180t",
        "outputId": "85569e22-cb13-4547-fc2c-6e16b47b5bb6"
      },
      "source": [
        "plt.plot(train_loss_history,label=\"Training Loss\")\n",
        "plt.plot(val_loss_history,label=\"Validation Loss\")\n",
        "plt.xlabel('No. of Epochs')\n",
        "plt.ylabel('Accuracy & Loss')\n",
        "plt.legend(frameon=False)\n",
        "plt.show()"
      ],
      "execution_count": 20,
      "outputs": [
        {
          "output_type": "display_data",
          "data": {
            "image/png": "[encoded data removed]",
            "text/plain": [
              "<Figure size 432x288 with 1 Axes>"
            ]
          },
          "metadata": {
            "needs_background": "light"
          }
        }
      ]
    },
    {
      "cell_type": "code",
      "metadata": {
        "colab": {
          "base_uri": "https://localhost:8080/",
          "height": 283
        },
        "id": "nkxaealT2jul",
        "outputId": "32a5da1b-ecf6-42a7-bca4-c8e98916e3b2"
      },
      "source": [
        "\n",
        "plt.plot(train_accuracy_history,label=\"Training Accuracy\")\n",
        "plt.plot(val_accuracy_history,label=\"Validation Accuracy\")\n",
        "plt.xlabel('No. of Epochs')\n",
        "plt.ylabel('Accuracy & Loss')\n",
        "plt.ylim([0., 1.]) # limit y axis between 0 and 1\n",
        "plt.legend(frameon=False)\n",
        "plt.show()"
      ],
      "execution_count": 21,
      "outputs": [
        {
          "output_type": "display_data",
          "data": {
            "image/png": "[encoded data removed]",
            "text/plain": [
              "<Figure size 432x288 with 1 Axes>"
            ]
          },
          "metadata": {
            "needs_background": "light"
          }
        }
      ]
    },
    {
      "cell_type": "markdown",
      "metadata": {
        "id": "srEdjBj4F9t1"
      },
      "source": [
        "# **Task 6:** Save/Load Model"
      ]
    },
    {
      "cell_type": "code",
      "metadata": {
        "id": "d9iPVEngbFCB"
      },
      "source": [
        "#@title Training parameters { form-width: \"70%\" }\n",
        "model_export_path = \"./model/\" #@param {type:\"string\"}\n",
        "model_name = 'ExampleNet.pth' #@param {type:\"string\"}\n",
        "os.makedirs(model_export_path, exist_ok=True)\n"
      ],
      "execution_count": 22,
      "outputs": []
    },
    {
      "cell_type": "markdown",
      "metadata": {
        "id": "_o9xVvDebyQa"
      },
      "source": [
        "### Save a PyTorch Model"
      ]
    },
    {
      "cell_type": "code",
      "metadata": {
        "id": "Lsbcb_WgFx3c"
      },
      "source": [
        "#Save Pytorch model\n",
        "torch.save(net.state_dict(), join(model_export_path,model_name))    \n"
      ],
      "execution_count": 23,
      "outputs": []
    },
    {
      "cell_type": "markdown",
      "metadata": {
        "id": "1V8x_sf5b_WL"
      },
      "source": [
        "### Load a PyTorch Model"
      ]
    },
    {
      "cell_type": "code",
      "metadata": {
        "colab": {
          "base_uri": "https://localhost:8080/"
        },
        "id": "GUR7LrRkb2vQ",
        "outputId": "49812eeb-61ea-414d-f235-7b304637be3c"
      },
      "source": [
        "# Load a PyTorch Model\n",
        "NEW_net = CNN().to(device)\n",
        "state_dict = torch.load(join(model_export_path,model_name))\n",
        "NEW_net.load_state_dict(state_dict)"
      ],
      "execution_count": 24,
      "outputs": [
        {
          "output_type": "execute_result",
          "data": {
            "text/plain": [
              "<All keys matched successfully>"
            ]
          },
          "metadata": {},
          "execution_count": 24
        }
      ]
    },
    {
      "cell_type": "markdown",
      "metadata": {
        "id": "E4z1XnYragES"
      },
      "source": [
        "Test again the network accuracy, to be sure that you saved/loaded weights correctly"
      ]
    },
    {
      "cell_type": "code",
      "metadata": {
        "colab": {
          "base_uri": "https://localhost:8080/"
        },
        "id": "f-KAUyhdXVTa",
        "outputId": "30b607c3-fe05-4c86-ef4b-3c789e241d18"
      },
      "source": [
        "# Test over validation dataset\n",
        "val_accuracy, average_val_loss = validate(NEW_net, val_loader, loss_function, accuracy_score)\n",
        "# Print valid statistics\n",
        "average_val_accuracy = sum(val_accuracy)/len(val_loader)\n",
        "print('Validation Loss: %.4f' % (average_val_loss), 'Accuracy: %.4f' % (average_val_accuracy))"
      ],
      "execution_count": 25,
      "outputs": [
        {
          "output_type": "stream",
          "name": "stdout",
          "text": [
            "Validation Loss: 0.2302 Accuracy: 0.9159\n"
          ]
        }
      ]
    },
    {
      "cell_type": "markdown",
      "metadata": {
        "id": "gCrWRJ2U5nHh"
      },
      "source": [
        "## **Exercise 1**\n",
        ".....TEMPLATE\n",
        "* ...\n",
        "* ...\n",
        "* ...\n",
        "\n",
        "> *Answer:...*"
      ]
    },
    {
      "cell_type": "markdown",
      "metadata": {
        "id": "FhVGRnf-tK1A"
      },
      "source": [
        "## Export to ONNX format"
      ]
    },
    {
      "cell_type": "markdown",
      "metadata": {
        "id": "Jy20LRkbZnfJ"
      },
      "source": [
        "The network can be exported in ONNX format for usage in **DORY (*Deplyment Oriented to memoRY*)** or other deployment tools. In the frame below, we export the produced graph to ONNX format. **ONNX (*Open Neural Network eXchange*)** is an interchange format that can be used to deploy the network on an inference engine - including our own DORY (soon to be released for deployment on PULP-based platforms). To see how the model looks like, the cell will trigger a download to your local machine and then open a frame into a tool called **Netron** (https://lutzroeder.github.io/netron) that can be used to visualize it: just drag the ONNX file and drop it on top of the Netron frame!"
      ]
    },
    {
      "cell_type": "code",
      "metadata": {
        "id": "ZHwK-GE-5ODZ",
        "colab": {
          "base_uri": "https://localhost:8080/",
          "height": 421
        },
        "outputId": "ab072a5d-cac0-48db-a201-67cc52feea9a"
      },
      "source": [
        "torch.onnx.export(net, input, 'fmnist_cnn.onnx')\n",
        "from IPython.display import IFrame\n",
        "from google.colab import files\n",
        "import urllib\n",
        "files.download('fmnist_cnn.onnx')\n",
        "url = urllib.parse.quote(\"https://lutzroeder.github.io/netron\", safe=':/?=&')\n",
        "IFrame(url, width=800, height=400)"
      ],
      "execution_count": 37,
      "outputs": [
        {
          "output_type": "display_data",
          "data": {
            "application/javascript": [
              "\n",
              "    async function download(id, filename, size) {\n",
              "      if (!google.colab.kernel.accessAllowed) {\n",
              "        return;\n",
              "      }\n",
              "      const div = document.createElement('div');\n",
              "      const label = document.createElement('label');\n",
              "      label.textContent = `Downloading \"${filename}\": `;\n",
              "      div.appendChild(label);\n",
              "      const progress = document.createElement('progress');\n",
              "      progress.max = size;\n",
              "      div.appendChild(progress);\n",
              "      document.body.appendChild(div);\n",
              "\n",
              "      const buffers = [];\n",
              "      let downloaded = 0;\n",
              "\n",
              "      const channel = await google.colab.kernel.comms.open(id);\n",
              "      // Send a message to notify the kernel that we're ready.\n",
              "      channel.send({})\n",
              "\n",
              "      for await (const message of channel.messages) {\n",
              "        // Send a message to notify the kernel that we're ready.\n",
              "        channel.send({})\n",
              "        if (message.buffers) {\n",
              "          for (const buffer of message.buffers) {\n",
              "            buffers.push(buffer);\n",
              "            downloaded += buffer.byteLength;\n",
              "            progress.value = downloaded;\n",
              "          }\n",
              "        }\n",
              "      }\n",
              "      const blob = new Blob(buffers, {type: 'application/binary'});\n",
              "      const a = document.createElement('a');\n",
              "      a.href = window.URL.createObjectURL(blob);\n",
              "      a.download = filename;\n",
              "      div.appendChild(a);\n",
              "      a.click();\n",
              "      div.remove();\n",
              "    }\n",
              "  "
            ],
            "text/plain": [
              "<IPython.core.display.Javascript object>"
            ]
          },
          "metadata": {}
        },
        {
          "output_type": "display_data",
          "data": {
            "application/javascript": [
              "download(\"download_ec7b9706-3aa9-492b-a9df-55b8a66b7fbf\", \"fmnist_cnn.onnx\", 622465)"
            ],
            "text/plain": [
              "<IPython.core.display.Javascript object>"
            ]
          },
          "metadata": {}
        },
        {
          "output_type": "execute_result",
          "data": {
            "text/html": [
              "\n",
              "        <iframe\n",
              "            width=\"800\"\n",
              "            height=\"400\"\n",
              "            src=\"https://lutzroeder.github.io/netron\"\n",
              "            frameborder=\"0\"\n",
              "            allowfullscreen\n",
              "        ></iframe>\n",
              "        "
            ],
            "text/plain": [
              "<IPython.lib.display.IFrame at 0x7f67f1704690>"
            ]
          },
          "metadata": {},
          "execution_count": 37
        }
      ]
    },
    {
      "cell_type": "markdown",
      "metadata": {
        "id": "tz_Xa_FP8Zri"
      },
      "source": [
        "# **Task 7:** Reduce Network's MAC operations \n",
        "Current network has: \n",
        "*   n°params: 155.616k\n",
        "*   MAC: 18.515M\n",
        "\n",
        "**Task:** Reduce it under 5 MMAC, but keeping accuracy ~90%.\n",
        "\n",
        "**Solution:**\n",
        "\n",
        "In this solution we will reduce the number of channels of the convolutional layers, by halving them (depth multiplier = 0.5).\n",
        "\n",
        "You can explore another 2 ways:\n",
        "1.   Add or remove layers\n",
        "2.   Play with the “stride” of che convolutional layers.\n",
        "\n",
        "\n",
        "\n"
      ]
    },
    {
      "cell_type": "markdown",
      "metadata": {
        "id": "XJuVH_8_-Igl"
      },
      "source": [
        "## New network with reduced size"
      ]
    },
    {
      "cell_type": "code",
      "metadata": {
        "id": "2oI6KRmz8ZH2"
      },
      "source": [
        "class CNN_reduced(nn.Module):\n",
        "    def __init__(self, n_classes=10, depth_mult=1.):\n",
        "        super(CNN_reduced, self).__init__()\n",
        "        first_conv_channels=int(32*depth_mult)\n",
        "        self.ConvBnRelu1 = ConvBnRelu(1, first_conv_channels,  stride=1) # conv3x3: ch_in=1, ch_out=32, in=28x28, out=28x28/2\n",
        "        self.ConvBnRelu2 = ConvBnRelu(first_conv_channels, first_conv_channels*2,  stride=1) # conv3x3: ch_in=1, ch_out=32, in=28x28, out=28x28/2\n",
        "        self.pool = nn.MaxPool2d(kernel_size=2, stride=2, padding=0, dilation=1, return_indices=False, ceil_mode=False) # MaxPool2: in=14x14, out=14x14/2\n",
        "        self.ConvBnRelu3 = ConvBnRelu(first_conv_channels*2, first_conv_channels*4, stride=2) # conv3x3: ch_in=32, ch_out=64, in=7x7, out=7x7\n",
        "\n",
        "        self.dropout = nn.Dropout(p=0.5, inplace=False)\n",
        "        fc_in_size = 7*7*(first_conv_channels*4)\n",
        "        self.fc = nn.Linear(fc_in_size, n_classes, bias=False)\n",
        "        self.softmax = nn.LogSoftmax(dim=1)\n",
        "\n",
        "    def forward(self, x):\n",
        "        x = self.ConvBnRelu1(x)\n",
        "        x = self.ConvBnRelu2(x)\n",
        "        x = self.pool(x)\n",
        "        x = self.ConvBnRelu3(x)\n",
        "        x = self.dropout(x)\n",
        "        x = x.flatten(1)\n",
        "        x = self.fc(x)\n",
        "        output = self.softmax(x)\n",
        "        return output\n",
        "\n",
        "net_reduced = CNN_reduced(depth_mult=.5).to(device)\n"
      ],
      "execution_count": 39,
      "outputs": []
    },
    {
      "cell_type": "markdown",
      "metadata": {
        "id": "2HF7Hi9o9oUK"
      },
      "source": [
        "Let's see how many MAC operations the new network has..."
      ]
    },
    {
      "cell_type": "code",
      "metadata": {
        "colab": {
          "base_uri": "https://localhost:8080/"
        },
        "id": "uvVsFvL99njF",
        "outputId": "42ae9085-0900-48da-dc98-7ecfcb616b48"
      },
      "source": [
        "network_size_and_mac(deepcopy(net_reduced), input_size) #use deepcopy to avoid graph modifications by hese function calls\n",
        "print_summary(deepcopy(net_reduced), input_size) #use deepcopy to avoid graph modifications by hese function calls"
      ],
      "execution_count": 40,
      "outputs": [
        {
          "output_type": "stream",
          "name": "stdout",
          "text": [
            "Network's \tn°params: 54.768k \tMAC: 4.742M\n",
            "\n",
            "----------------------------------------------------------------\n",
            "        Layer (type)               Output Shape         Param #\n",
            "================================================================\n",
            "            Conv2d-1           [-1, 16, 28, 28]             144\n",
            "       BatchNorm2d-2           [-1, 16, 28, 28]              32\n",
            "              ReLU-3           [-1, 16, 28, 28]               0\n",
            "        ConvBnRelu-4           [-1, 16, 28, 28]               0\n",
            "            Conv2d-5           [-1, 32, 28, 28]           4,608\n",
            "       BatchNorm2d-6           [-1, 32, 28, 28]              64\n",
            "              ReLU-7           [-1, 32, 28, 28]               0\n",
            "        ConvBnRelu-8           [-1, 32, 28, 28]               0\n",
            "         MaxPool2d-9           [-1, 32, 14, 14]               0\n",
            "           Conv2d-10             [-1, 64, 7, 7]          18,432\n",
            "      BatchNorm2d-11             [-1, 64, 7, 7]             128\n",
            "             ReLU-12             [-1, 64, 7, 7]               0\n",
            "       ConvBnRelu-13             [-1, 64, 7, 7]               0\n",
            "          Dropout-14             [-1, 64, 7, 7]               0\n",
            "           Linear-15                   [-1, 10]          31,360\n",
            "       LogSoftmax-16                   [-1, 10]               0\n",
            "================================================================\n",
            "Total params: 54,768\n",
            "Trainable params: 54,768\n",
            "Non-trainable params: 0\n",
            "----------------------------------------------------------------\n",
            "Input size (MB): 0.00\n",
            "Forward/backward pass size (MB): 1.32\n",
            "Params size (MB): 0.21\n",
            "Estimated Total Size (MB): 1.53\n",
            "----------------------------------------------------------------\n"
          ]
        }
      ]
    },
    {
      "cell_type": "markdown",
      "metadata": {
        "id": "3KXk7hUr9zUl"
      },
      "source": [
        "**The New network has 4.742M MAC, which is less than our constrain of 5M !!**"
      ]
    },
    {
      "cell_type": "markdown",
      "metadata": {
        "id": "xJZ-6C82-Nq3"
      },
      "source": [
        "## Retrain the network and verify validation accuracy ~90%"
      ]
    },
    {
      "cell_type": "code",
      "metadata": {
        "colab": {
          "base_uri": "https://localhost:8080/",
          "height": 364,
          "referenced_widgets": [
            "0f570cefebc84f1880c045ad0b9d6072",
            "f7d6d7716c1c4ab895254310305c89d4",
            "a75f2519a5764e81939a49f609e8fda9",
            "e51a676f975b49c28cbacf990e06db41",
            "ff8daf659c434380a15c98a48db721a9",
            "6af5c534475f480e9b1db968fe48ea9a",
            "6c238400278c4d219827f243fac41efa",
            "2ccd279d43e24f96886bc1447c50337f",
            "6da9b1ecdf2743edab23d9faf17770a5",
            "0c53d41a47004bd7a7b821847942ff03",
            "96c2c85adcfd4d67a6d6e76088103efc",
            "3ed638fc791a4c53b13e9f063eeb41ed",
            "65d6ceff9f5041c3b9ac7ee6c1c26e9a",
            "0c03e7dc948f4205a7024c082eb2a617",
            "6c62c1bf143a4593bdcc47c4e96fe215",
            "084dde8641ca4d4b8eedbe16dc96ecb4",
            "1b3c079efffa436287593357ba81351f",
            "de64cc921fa8465680cffe8ca296a265",
            "9f481ebdf14f4207b8ab12b4cfc446fe",
            "fa837a02339d44b0a91f735521738357",
            "ada564b5bb72412a94b2eb93f8191849",
            "647db0afbdb247ea931a75135f1670d0",
            "230ea1190fb14c0889ce44fb3383eb54",
            "80d2ce2ffbd0472297bceca107869092",
            "f47c413320cb4cc89522a1f381f937d8",
            "e11b047333484157b8199c248f8b81b9",
            "2019edb5962b43dab70b45b012ca23bc",
            "bccb09309001476cb109b14f4b8afd98",
            "cbb02306962144ed9200724a71c53079",
            "a2f059b8505f43798c92a887258ae43a",
            "c738703a4dec4af1b00cb24d4a5be7f4",
            "4f46766cecfb446193bbbde5c5c4bf2a",
            "e41898a854d84964a5717f1c2536d4fd",
            "094df86a8452488bb701ffb0b6bce686",
            "99385324beac46deae25a447ba3296b7",
            "f4a67eeb60aa46718cd4f4b075319a02",
            "e38e7e3876b14d508099546b6e7fb017",
            "6eff29131b034042b774cc05f56e30d0",
            "2cc093179b6a4c50b33adf7fbe7e7703",
            "3f59b41ab8c444189d5e79cfc5694f21",
            "e0728b6ae36845f9b159fbedd5e12539",
            "dd3b49fdcbc743f3a28d96f415653dc6",
            "6f46967532034ee7b7cde338263d539b",
            "c4d9a7ce4c6b4220ba9e95281faa8393",
            "ffd87f68841048cba3c68310e38ef3a0",
            "592495fc1b364b949bd7437c58ae0f96",
            "0bbd9c271b3c4b499becc753d6c6a129",
            "542c3da60e0b4eedbedd4825c0f9b825",
            "4a31c6590c7c40e89779ac115c22934d",
            "84c06cb1588945e184f646e77415e150",
            "30c02feb41d54b548a8883f84a2f1237",
            "52603de2831546acb3f38106548fca67",
            "bddd5ba6a5b44078b9deac81ae207da8",
            "7d37a5cc162e4da3a4ab889f7823900a",
            "989bbca4aba047eaa5d8e0b806d51a2c"
          ]
        },
        "id": "2Ka3HUPrtw6a",
        "outputId": "0edc4220-73e0-4513-a0b8-04c7995fe3b0"
      },
      "source": [
        "(train_loss_history,\n",
        "train_accuracy_history, \n",
        "val_loss_history, \n",
        "val_accuracy_history) = training(net_reduced, train_loader, val_loader, loss_function, epochs)"
      ],
      "execution_count": 28,
      "outputs": [
        {
          "output_type": "display_data",
          "data": {
            "application/vnd.jupyter.widget-view+json": {
              "model_id": "0f570cefebc84f1880c045ad0b9d6072",
              "version_minor": 0,
              "version_major": 2
            },
            "text/plain": [
              "Loss:   0%|          | 0/469 [00:00<?, ?it/s]"
            ]
          },
          "metadata": {}
        },
        {
          "output_type": "stream",
          "name": "stdout",
          "text": [
            "Epoch 1/5 Training loss:  0.5072 Accuracy: 0.8217\n",
            "Validation Loss: 0.3412 Accuracy: 0.8786\n"
          ]
        },
        {
          "output_type": "display_data",
          "data": {
            "application/vnd.jupyter.widget-view+json": {
              "model_id": "3ed638fc791a4c53b13e9f063eeb41ed",
              "version_minor": 0,
              "version_major": 2
            },
            "text/plain": [
              "Loss:   0%|          | 0/469 [00:00<?, ?it/s]"
            ]
          },
          "metadata": {}
        },
        {
          "output_type": "stream",
          "name": "stdout",
          "text": [
            "Epoch 2/5 Training loss:  0.3218 Accuracy: 0.8848\n",
            "Validation Loss: 0.3038 Accuracy: 0.8934\n"
          ]
        },
        {
          "output_type": "display_data",
          "data": {
            "application/vnd.jupyter.widget-view+json": {
              "model_id": "230ea1190fb14c0889ce44fb3383eb54",
              "version_minor": 0,
              "version_major": 2
            },
            "text/plain": [
              "Loss:   0%|          | 0/469 [00:00<?, ?it/s]"
            ]
          },
          "metadata": {}
        },
        {
          "output_type": "stream",
          "name": "stdout",
          "text": [
            "Epoch 3/5 Training loss:  0.2818 Accuracy: 0.8986\n",
            "Validation Loss: 0.2695 Accuracy: 0.9043\n"
          ]
        },
        {
          "output_type": "display_data",
          "data": {
            "application/vnd.jupyter.widget-view+json": {
              "model_id": "094df86a8452488bb701ffb0b6bce686",
              "version_minor": 0,
              "version_major": 2
            },
            "text/plain": [
              "Loss:   0%|          | 0/469 [00:00<?, ?it/s]"
            ]
          },
          "metadata": {}
        },
        {
          "output_type": "stream",
          "name": "stdout",
          "text": [
            "Epoch 4/5 Training loss:  0.2605 Accuracy: 0.9058\n",
            "Validation Loss: 0.2596 Accuracy: 0.9062\n"
          ]
        },
        {
          "output_type": "display_data",
          "data": {
            "application/vnd.jupyter.widget-view+json": {
              "model_id": "ffd87f68841048cba3c68310e38ef3a0",
              "version_minor": 0,
              "version_major": 2
            },
            "text/plain": [
              "Loss:   0%|          | 0/469 [00:00<?, ?it/s]"
            ]
          },
          "metadata": {}
        },
        {
          "output_type": "stream",
          "name": "stdout",
          "text": [
            "Epoch 5/5 Training loss:  0.2454 Accuracy: 0.9118\n",
            "Validation Loss: 0.2532 Accuracy: 0.9106\n",
            "Training time: 149.1 seconds\n"
          ]
        }
      ]
    },
    {
      "cell_type": "markdown",
      "metadata": {
        "id": "czMkBFSH9ZUH"
      },
      "source": [
        "# Not used"
      ]
    },
    {
      "cell_type": "code",
      "metadata": {
        "id": "7KCbZi6sqsQt"
      },
      "source": [
        "# convenience class to keep track of averages\n",
        "class AverageMeter(object):\n",
        "    \"\"\"\n",
        "    Computes and stores the average and current value\n",
        "    Copied from: https://github.com/pytorch/examples/blob/master/imagenet/main.py\n",
        "    \"\"\"\n",
        "    def __init__(self, name, fmt=':f'):\n",
        "        self.name = name\n",
        "        self.fmt = fmt # format. example ':6.2f'\n",
        "        self.reset()\n",
        "\n",
        "    def reset(self):\n",
        "        self.val = 0\n",
        "        self.avg = 0\n",
        "        self.sum = 0\n",
        "        self.count = 0\n",
        "\n",
        "    def update(self, val, n=1):\n",
        "        self.val = val\n",
        "        self.sum += val * n\n",
        "        self.count += n\n",
        "        self.avg = self.sum / self.count\n",
        "\n",
        "    def __str__(self):\n",
        "        fmtstr = '{name} {val' + self.fmt + '} ({avg' + self.fmt + '})'\n",
        "        return fmtstr.format(**self.__dict__)\n",
        "\n",
        "\n"
      ],
      "execution_count": null,
      "outputs": []
    },
    {
      "cell_type": "markdown",
      "metadata": {
        "id": "3oeHvb2PtFXh"
      },
      "source": [
        "## Average Meter class (not used right now)"
      ]
    }
  ]
}